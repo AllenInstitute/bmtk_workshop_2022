{
 "cells": [
  {
   "cell_type": "markdown",
   "metadata": {},
   "source": [
    "# Parameter Tuning of the LGN Inputs\n",
    "\n",
    "[**Return to the main chapter contents**](6.%20More%20Realistic%20Model%20and%20Advanced%20Features.ipynb)\n",
    "\n",
    "In this section, we show how to find more appropiate values using a grid-search on the **syn_weight** parameter. We will run the simulation multiple times in a row, each time increasing/decreasing the **syn_weight** by some factor depending on the edge's target cell type. In each iteration we'll record the updated **syn_weight** and the target cell type's mean firing rate so we can plot the results at the end. \n",
    "\n",
    "Once we have a better idea of the feed-forward **syn_weight** values that are best for different cell models it will be trivial to update the *lgn_l4_edge_types.csv* **syn_weight** values."
   ]
  },
  {
   "cell_type": "code",
   "execution_count": 1,
   "metadata": {},
   "outputs": [],
   "source": [
    "import pandas as pd\n",
    "import numpy as np\n",
    "import matplotlib.pyplot as plt\n",
    "import nest\n",
    "import warnings\n",
    "\n",
    "from bmtk.simulator import pointnet\n",
    "from bmtk.analyzer.spike_trains import plot_rates_boxplot\n",
    "from bmtk.analyzer.spike_trains import spike_statistics"
   ]
  },
  {
   "cell_type": "markdown",
   "metadata": {},
   "source": [
    "#### Initial simulation with feedforward Only\n",
    "\n",
    "The full model we built in the previous chapter contained multiple sets of synaptic connections (aka edge-types); recurrent connections and both feedforward connections from the \"LGN\" and \"BKG\" populations of cells. And in even larger models the types of connections can grow exponentially. However with SONATA network format it is easy to only run a subset of the entire network, which can simplify the process of trying to optimize cell and synaptic model parameters for results we expect. \n",
    "\n",
    "In this case we want to optimize the **syn_weight** parameter that controls synaptic weights between cells. But only do so for the **LNG** --> **L4** feedforward connections. (Later we can do the same for BKG --> L4 and L4 --> L4 connections). To test and optimize the simulation for only the LGN --> L4 connections we just need to create a special configuration file that only contains the required nodes and edges. Here we copied an existing one and called it *config.simulation_pointnet.feedforward.json*.\n",
    "\n",
    "```json\n",
    "  \"networks\": {\n",
    "    \"nodes\": [\n",
    "      {\n",
    "        \"nodes_file\": \"$NETWORK_DIR/l4_nodes.h5\",\n",
    "        \"node_types_file\": \"$NETWORK_DIR/l4_node_types.csv\"\n",
    "      },\n",
    "      {\n",
    "        \"nodes_file\": \"$NETWORK_DIR/lgn_nodes.h5\",\n",
    "        \"node_types_file\": \"$NETWORK_DIR/lgn_node_types.csv\"\n",
    "      }\n",
    "    ],\n",
    "    \"edges\": [\n",
    "      {\n",
    "        \"edges_file\": \"$NETWORK_DIR/lgn_l4_edges.h5\",\n",
    "        \"edge_types_file\": \"$NETWORK_DIR/lgn_l4_edge_types.feedforward.csv\"\n",
    "      }\n",
    "    ]\n",
    "  }\n",
    "```\n",
    "\n",
    "**Note** that we also made a copy of *lgn_l4_edge_types.csv* and named it *lgn_l4_edge_types.feedforward.csv*, this is so we can readily testa and adjust certain cell properties like **syn_weight** by altering the csv file, without having to lose our original work."
   ]
  },
  {
   "cell_type": "markdown",
   "metadata": {},
   "source": [
    "When we run the model with LGN feedforward inputs only we can see the firing rates on a population-by-population basis."
   ]
  },
  {
   "cell_type": "code",
   "execution_count": 2,
   "metadata": {},
   "outputs": [
    {
     "name": "stdout",
     "output_type": "stream",
     "text": [
      "2022-07-16 10:00:02,539 [INFO] Created log file\n",
      "2022-07-16 10:00:02,572 [INFO] Batch processing nodes for l4/0.\n",
      "2022-07-16 10:00:02,728 [INFO] Batch processing nodes for lgn/0.\n",
      "2022-07-16 10:00:02,738 [INFO] Setting up output directory\n",
      "2022-07-16 10:00:02,740 [INFO] Building cells.\n",
      "2022-07-16 10:00:02,849 [INFO] Building recurrent connections\n",
      "2022-07-16 10:00:02,850 [INFO] Build virtual cell stimulations for lgn_spikes\n",
      "2022-07-16 10:00:45,178 [INFO] Network created.\n",
      "2022-07-16 10:00:45,227 [INFO] Starting Simulation\n",
      "2022-07-16 10:00:51,583 [INFO] Simulation finished, finalizing results.\n",
      "2022-07-16 10:00:52,034 [INFO] Done.\n"
     ]
    }
   ],
   "source": [
    "from bmtk.simulator import pointnet\n",
    "\n",
    "configure = pointnet.Config.from_json('config.simulation_pointnet.feedforward.json')\n",
    "configure.build_env()\n",
    "\n",
    "graph = pointnet.PointNetwork.from_config(configure)\n",
    "sim = pointnet.PointSimulator.from_config(configure, graph)\n",
    "sim.run()"
   ]
  },
  {
   "cell_type": "code",
   "execution_count": 3,
   "metadata": {},
   "outputs": [
    {
     "name": "stderr",
     "output_type": "stream",
     "text": [
      "/home/kael/apps/miniconda3/envs/bmtk-py38/lib/python3.8/site-packages/matplotlib-3.2.1-py3.8-linux-x86_64.egg/matplotlib/cbook/__init__.py:1376: VisibleDeprecationWarning:Creating an ndarray from ragged nested sequences (which is a list-or-tuple of lists-or-tuples-or ndarrays with different lengths or shapes) is deprecated. If you meant to do this, you must specify 'dtype=object' when creating the ndarray.\n"
     ]
    },
    {
     "data": {
      "image/png": "[encoded data removed]",
      "text/plain": [
       "<Figure size 432x288 with 1 Axes>"
      ]
     },
     "metadata": {
      "needs_background": "light"
     },
     "output_type": "display_data"
    }
   ],
   "source": [
    "from bmtk.analyzer.spike_trains import plot_rates_boxplot\n",
    "\n",
    "_ = plot_rates_boxplot(config_file='config.simulation_pointnet.feedforward.json', group_by='cell_line')"
   ]
  },
  {
   "cell_type": "markdown",
   "metadata": {},
   "source": [
    "The firing have a wide spread and need to be adjusted. For example we want the excitatory e4 populations to fire at a rate ~5Hz while the inhibitory i4 should be ~ 15Hz baseline. Based on these initial results, it looks like we want to decrease the **syn_weight**s of the e4 population while increasing the weights for the i4 population.\n",
    "\n",
    "\n",
    "#### Readjusting synaptic weights at run-time\n",
    "\n",
    "This can be done by rebuilding the network, but for larger models this can be time consuming, plus we will probably need to adjust weights multiple times. Instead the BMTK has a way of adjusting the synaptic weights dynamically at simulation time. In the SONATA edges file for LGN --> L4 connections we include an optional column called **weight_function**:"
   ]
  },
  {
   "cell_type": "code",
   "execution_count": 4,
   "metadata": {},
   "outputs": [
    {
     "data": {
      "text/html": [
       "<style type=\"text/css\">\n",
       "#T_74f08_row0_col4, #T_74f08_row0_col7, #T_74f08_row1_col4, #T_74f08_row1_col7, #T_74f08_row2_col4, #T_74f08_row2_col7, #T_74f08_row3_col4, #T_74f08_row3_col7, #T_74f08_row4_col4, #T_74f08_row4_col7, #T_74f08_row5_col4, #T_74f08_row5_col7 {\n",
       "  background-color: yellow;\n",
       "}\n",
       "</style>\n",
       "<table id=\"T_74f08\">\n",
       "  <thead>\n",
       "    <tr>\n",
       "      <th class=\"blank level0\" >&nbsp;</th>\n",
       "      <th id=\"T_74f08_level0_col0\" class=\"col_heading level0 col0\" >edge_type_id</th>\n",
       "      <th id=\"T_74f08_level0_col1\" class=\"col_heading level0 col1\" >target_query</th>\n",
       "      <th id=\"T_74f08_level0_col2\" class=\"col_heading level0 col2\" >source_query</th>\n",
       "      <th id=\"T_74f08_level0_col3\" class=\"col_heading level0 col3\" >dynamics_params</th>\n",
       "      <th id=\"T_74f08_level0_col4\" class=\"col_heading level0 col4\" >syn_weight</th>\n",
       "      <th id=\"T_74f08_level0_col5\" class=\"col_heading level0 col5\" >model_template</th>\n",
       "      <th id=\"T_74f08_level0_col6\" class=\"col_heading level0 col6\" >delay</th>\n",
       "      <th id=\"T_74f08_level0_col7\" class=\"col_heading level0 col7\" >weight_function</th>\n",
       "    </tr>\n",
       "  </thead>\n",
       "  <tbody>\n",
       "    <tr>\n",
       "      <th id=\"T_74f08_level0_row0\" class=\"row_heading level0 row0\" >0</th>\n",
       "      <td id=\"T_74f08_row0_col0\" class=\"data row0 col0\" >100</td>\n",
       "      <td id=\"T_74f08_row0_col1\" class=\"data row0 col1\" >model_name=='Sst_501282204'</td>\n",
       "      <td id=\"T_74f08_row0_col2\" class=\"data row0 col2\" >*</td>\n",
       "      <td id=\"T_74f08_row0_col3\" class=\"data row0 col3\" >i2e.json</td>\n",
       "      <td id=\"T_74f08_row0_col4\" class=\"data row0 col4\" >1.000000</td>\n",
       "      <td id=\"T_74f08_row0_col5\" class=\"data row0 col5\" >static_synapse</td>\n",
       "      <td id=\"T_74f08_row0_col6\" class=\"data row0 col6\" >1.700000</td>\n",
       "      <td id=\"T_74f08_row0_col7\" class=\"data row0 col7\" >set_syn_weight</td>\n",
       "    </tr>\n",
       "    <tr>\n",
       "      <th id=\"T_74f08_level0_row1\" class=\"row_heading level0 row1\" >1</th>\n",
       "      <td id=\"T_74f08_row1_col0\" class=\"data row1 col0\" >101</td>\n",
       "      <td id=\"T_74f08_row1_col1\" class=\"data row1 col1\" >model_name=='Rorb_314642645'</td>\n",
       "      <td id=\"T_74f08_row1_col2\" class=\"data row1 col2\" >*</td>\n",
       "      <td id=\"T_74f08_row1_col3\" class=\"data row1 col3\" >e2e.json</td>\n",
       "      <td id=\"T_74f08_row1_col4\" class=\"data row1 col4\" >1.000000</td>\n",
       "      <td id=\"T_74f08_row1_col5\" class=\"data row1 col5\" >static_synapse</td>\n",
       "      <td id=\"T_74f08_row1_col6\" class=\"data row1 col6\" >1.700000</td>\n",
       "      <td id=\"T_74f08_row1_col7\" class=\"data row1 col7\" >set_syn_weight</td>\n",
       "    </tr>\n",
       "    <tr>\n",
       "      <th id=\"T_74f08_level0_row2\" class=\"row_heading level0 row2\" >2</th>\n",
       "      <td id=\"T_74f08_row2_col0\" class=\"data row2 col0\" >102</td>\n",
       "      <td id=\"T_74f08_row2_col1\" class=\"data row2 col1\" >model_name=='Scnn1a_517982558'</td>\n",
       "      <td id=\"T_74f08_row2_col2\" class=\"data row2 col2\" >*</td>\n",
       "      <td id=\"T_74f08_row2_col3\" class=\"data row2 col3\" >e2e.json</td>\n",
       "      <td id=\"T_74f08_row2_col4\" class=\"data row2 col4\" >1.000000</td>\n",
       "      <td id=\"T_74f08_row2_col5\" class=\"data row2 col5\" >static_synapse</td>\n",
       "      <td id=\"T_74f08_row2_col6\" class=\"data row2 col6\" >1.700000</td>\n",
       "      <td id=\"T_74f08_row2_col7\" class=\"data row2 col7\" >set_syn_weight</td>\n",
       "    </tr>\n",
       "    <tr>\n",
       "      <th id=\"T_74f08_level0_row3\" class=\"row_heading level0 row3\" >3</th>\n",
       "      <td id=\"T_74f08_row3_col0\" class=\"data row3 col0\" >103</td>\n",
       "      <td id=\"T_74f08_row3_col1\" class=\"data row3 col1\" >model_name=='Htr3a_474626527'</td>\n",
       "      <td id=\"T_74f08_row3_col2\" class=\"data row3 col2\" >*</td>\n",
       "      <td id=\"T_74f08_row3_col3\" class=\"data row3 col3\" >i2e.json</td>\n",
       "      <td id=\"T_74f08_row3_col4\" class=\"data row3 col4\" >1.000000</td>\n",
       "      <td id=\"T_74f08_row3_col5\" class=\"data row3 col5\" >static_synapse</td>\n",
       "      <td id=\"T_74f08_row3_col6\" class=\"data row3 col6\" >1.700000</td>\n",
       "      <td id=\"T_74f08_row3_col7\" class=\"data row3 col7\" >set_syn_weight</td>\n",
       "    </tr>\n",
       "    <tr>\n",
       "      <th id=\"T_74f08_level0_row4\" class=\"row_heading level0 row4\" >4</th>\n",
       "      <td id=\"T_74f08_row4_col0\" class=\"data row4 col0\" >104</td>\n",
       "      <td id=\"T_74f08_row4_col1\" class=\"data row4 col1\" >model_name=='other_483018019'</td>\n",
       "      <td id=\"T_74f08_row4_col2\" class=\"data row4 col2\" >*</td>\n",
       "      <td id=\"T_74f08_row4_col3\" class=\"data row4 col3\" >e2e.json</td>\n",
       "      <td id=\"T_74f08_row4_col4\" class=\"data row4 col4\" >1.000000</td>\n",
       "      <td id=\"T_74f08_row4_col5\" class=\"data row4 col5\" >static_synapse</td>\n",
       "      <td id=\"T_74f08_row4_col6\" class=\"data row4 col6\" >1.700000</td>\n",
       "      <td id=\"T_74f08_row4_col7\" class=\"data row4 col7\" >set_syn_weight</td>\n",
       "    </tr>\n",
       "    <tr>\n",
       "      <th id=\"T_74f08_level0_row5\" class=\"row_heading level0 row5\" >5</th>\n",
       "      <td id=\"T_74f08_row5_col0\" class=\"data row5 col0\" >105</td>\n",
       "      <td id=\"T_74f08_row5_col1\" class=\"data row5 col1\" >model_name=='Pvalb_478958894'</td>\n",
       "      <td id=\"T_74f08_row5_col2\" class=\"data row5 col2\" >*</td>\n",
       "      <td id=\"T_74f08_row5_col3\" class=\"data row5 col3\" >i2e.json</td>\n",
       "      <td id=\"T_74f08_row5_col4\" class=\"data row5 col4\" >1.000000</td>\n",
       "      <td id=\"T_74f08_row5_col5\" class=\"data row5 col5\" >static_synapse</td>\n",
       "      <td id=\"T_74f08_row5_col6\" class=\"data row5 col6\" >1.700000</td>\n",
       "      <td id=\"T_74f08_row5_col7\" class=\"data row5 col7\" >set_syn_weight</td>\n",
       "    </tr>\n",
       "  </tbody>\n",
       "</table>\n"
      ],
      "text/plain": [
       "<pandas.io.formats.style.Styler at 0x7ff88b760280>"
      ]
     },
     "execution_count": 4,
     "metadata": {},
     "output_type": "execute_result"
    }
   ],
   "source": [
    "edge_types_df = pd.read_csv('network/lgn_l4_edge_types.feedforward.csv', sep=' ')\n",
    "edge_types_df.style.applymap(lambda *_: 'background-color: yellow', \n",
    "                             subset=pd.IndexSlice[:, ['syn_weight', 'weight_function']])"
   ]
  },
  {
   "cell_type": "markdown",
   "metadata": {},
   "source": [
    "*set_syn_weight* is a built-in function that is used by bmtk to calculate synaptic weights for pairs of source/target cells. *set_syn_weight* takes in a table of edge and cell properties and returns a list of updated synaptic weights, by default simply by returning the **syn_weight** times the number of actual synapses (which defaults to 1 if not explicity stated).\n",
    "\n",
    "```python\n",
    "def default_weight_fnc(edge_props, source_nodes, target_nodes):\n",
    "    return np.array(edge_props['syn_weight']*edge_props.nsyns)\n",
    "```\n",
    "\n",
    "However, with bmtk we can override this behavior. Here the ```@synaptic_weight``` is a python decorator that we can use to overwrite the default *set_syn_weight* function with one of our own. For the initial implementation we can see what happens when we reduce the **syn_weight** for the e4Rorb population."
   ]
  },
  {
   "cell_type": "code",
   "execution_count": 5,
   "metadata": {},
   "outputs": [
    {
     "name": "stdout",
     "output_type": "stream",
     "text": [
      "2022-07-16 10:00:58,547 [INFO] Created log file\n",
      "2022-07-16 10:00:58,579 [INFO] Batch processing nodes for l4/0.\n",
      "2022-07-16 10:00:58,727 [INFO] Batch processing nodes for lgn/0.\n",
      "2022-07-16 10:00:58,778 [INFO] Setting up output directory\n",
      "2022-07-16 10:00:58,779 [INFO] Building cells.\n",
      "2022-07-16 10:00:58,868 [INFO] Building recurrent connections\n",
      "2022-07-16 10:00:58,869 [INFO] Build virtual cell stimulations for lgn_spikes\n",
      "2022-07-16 10:01:44,162 [INFO] Network created.\n",
      "2022-07-16 10:01:44,194 [INFO] Starting Simulation\n",
      "2022-07-16 10:01:50,378 [INFO] Simulation finished, finalizing results.\n",
      "2022-07-16 10:01:50,777 [INFO] Done.\n"
     ]
    }
   ],
   "source": [
    "from bmtk.simulator import pointnet\n",
    "from bmtk.simulator.pointnet.pyfunction_cache import synaptic_weight\n",
    "\n",
    "\n",
    "@synaptic_weight\n",
    "def set_syn_weight(edge_props, source_nodes, target_nodes):\n",
    "    # Check the target's cell_line. If it is e4Rorb then reduce the syn-weight value,\n",
    "    # otherwise just return the function like original.\n",
    "    trg_type = target_nodes['cell_line'].unique()[0]\n",
    "   \n",
    "    if trg_type == 'e4Rorb':\n",
    "        return np.full(len(edge_props), fill_value=0.68)*edge_props.nsyns\n",
    "    else:\n",
    "        return np.array(edge_props['syn_weight']*edge_props.nsyns)\n",
    "\n",
    "\n",
    "configure = pointnet.Config.from_json('config.simulation_pointnet.feedforward.json')\n",
    "configure.build_env()\n",
    "\n",
    "graph = pointnet.PointNetwork.from_config(configure)\n",
    "sim = pointnet.PointSimulator.from_config(configure, graph)\n",
    "sim.run()"
   ]
  },
  {
   "cell_type": "code",
   "execution_count": 6,
   "metadata": {},
   "outputs": [
    {
     "name": "stderr",
     "output_type": "stream",
     "text": [
      "/home/kael/apps/miniconda3/envs/bmtk-py38/lib/python3.8/site-packages/matplotlib-3.2.1-py3.8-linux-x86_64.egg/matplotlib/cbook/__init__.py:1376: VisibleDeprecationWarning:Creating an ndarray from ragged nested sequences (which is a list-or-tuple of lists-or-tuples-or ndarrays with different lengths or shapes) is deprecated. If you meant to do this, you must specify 'dtype=object' when creating the ndarray.\n"
     ]
    },
    {
     "data": {
      "image/png": "[encoded data removed]",
      "text/plain": [
       "<Figure size 432x288 with 1 Axes>"
      ]
     },
     "metadata": {
      "needs_background": "light"
     },
     "output_type": "display_data"
    }
   ],
   "source": [
    "_ = plot_rates_boxplot(config_file='config.simulation_pointnet.feedforward.json', group_by='cell_line')"
   ]
  },
  {
   "cell_type": "markdown",
   "metadata": {},
   "source": [
    "From there we can continue to modify *set_syn_weight* to take into account the other cell populations. But we would need to manually execute the simulation multiple times, each time adjusting either the *set_syn_weight* function or the **syn_weight** parameter in the *edge_types.csv* file until we find the results we want. \n",
    "\n",
    "#### Grid search\n",
    "\n",
    "Alternatively we can automate the search process for the right **syn_weight** values by running the simulation multiple times in a row, each time adjusting *set_syn_weight* to return different synaptic weights each iteration.\n",
    "\n",
    "In the below code we will run the simulation four different times. At each iteration *set_syn_weight* updates the the **syn_weight** on a population-by-population basis taken from the values in the ```grid_search``` table. After we each time the simulation is ran we call ```spike_statistics()``` function to find the mean firing-rates for said simulation's results. The syn_weight x firing-rate results are saved into ```fr_table``` which can then be used to see what values of **syn_weight** produce the best for each given population. "
   ]
  },
  {
   "cell_type": "code",
   "execution_count": 7,
   "metadata": {},
   "outputs": [
    {
     "name": "stdout",
     "output_type": "stream",
     "text": [
      ">> Running iteration 1\n",
      "2022-07-16 10:01:56,276 [INFO] Created log file\n",
      "2022-07-16 10:01:56,308 [INFO] Batch processing nodes for l4/0.\n",
      "2022-07-16 10:01:56,452 [INFO] Batch processing nodes for lgn/0.\n",
      "2022-07-16 10:01:56,510 [INFO] Setting up output directory\n",
      "2022-07-16 10:01:56,511 [INFO] Building cells.\n",
      "2022-07-16 10:01:56,609 [INFO] Building recurrent connections\n",
      "2022-07-16 10:01:56,610 [INFO] Build virtual cell stimulations for lgn_spikes\n",
      "2022-07-16 10:02:37,991 [INFO] Network created.\n",
      "2022-07-16 10:02:38,022 [INFO] Starting Simulation\n",
      "2022-07-16 10:02:44,093 [INFO] Simulation finished, finalizing results.\n",
      "2022-07-16 10:02:44,135 [INFO] Done.\n",
      ">> Running iteration 2\n",
      "2022-07-16 10:02:44,620 [INFO] Created log file\n",
      "2022-07-16 10:02:44,650 [INFO] Batch processing nodes for l4/0.\n",
      "2022-07-16 10:02:44,794 [INFO] Batch processing nodes for lgn/0.\n",
      "2022-07-16 10:02:44,852 [INFO] Setting up output directory\n",
      "2022-07-16 10:02:44,854 [INFO] Building cells.\n",
      "2022-07-16 10:02:44,959 [INFO] Building recurrent connections\n",
      "2022-07-16 10:02:44,960 [INFO] Build virtual cell stimulations for lgn_spikes\n",
      "2022-07-16 10:03:27,508 [INFO] Network created.\n",
      "2022-07-16 10:03:27,539 [INFO] Starting Simulation\n",
      "2022-07-16 10:03:34,125 [INFO] Simulation finished, finalizing results.\n",
      "2022-07-16 10:03:34,389 [INFO] Done.\n",
      ">> Running iteration 3\n",
      "2022-07-16 10:03:38,090 [INFO] Created log file\n",
      "2022-07-16 10:03:38,127 [INFO] Batch processing nodes for l4/0.\n",
      "2022-07-16 10:03:38,284 [INFO] Batch processing nodes for lgn/0.\n",
      "2022-07-16 10:03:38,343 [INFO] Setting up output directory\n",
      "2022-07-16 10:03:38,344 [INFO] Building cells.\n",
      "2022-07-16 10:03:38,446 [INFO] Building recurrent connections\n",
      "2022-07-16 10:03:38,448 [INFO] Build virtual cell stimulations for lgn_spikes\n",
      "2022-07-16 10:04:23,572 [INFO] Network created.\n",
      "2022-07-16 10:04:23,600 [INFO] Starting Simulation\n",
      "2022-07-16 10:04:29,853 [INFO] Simulation finished, finalizing results.\n",
      "2022-07-16 10:04:30,210 [INFO] Done.\n",
      ">> Running iteration 4\n",
      "2022-07-16 10:04:35,942 [INFO] Created log file\n",
      "2022-07-16 10:04:35,977 [INFO] Batch processing nodes for l4/0.\n",
      "2022-07-16 10:04:36,126 [INFO] Batch processing nodes for lgn/0.\n",
      "2022-07-16 10:04:36,193 [INFO] Setting up output directory\n",
      "2022-07-16 10:04:36,194 [INFO] Building cells.\n",
      "2022-07-16 10:04:36,358 [INFO] Building recurrent connections\n",
      "2022-07-16 10:04:36,359 [INFO] Build virtual cell stimulations for lgn_spikes\n",
      "2022-07-16 10:05:17,710 [INFO] Network created.\n",
      "2022-07-16 10:05:17,740 [INFO] Starting Simulation\n",
      "2022-07-16 10:05:25,330 [INFO] Simulation finished, finalizing results.\n",
      "2022-07-16 10:05:26,099 [INFO] Done.\n"
     ]
    }
   ],
   "source": [
    "from bmtk.analyzer.spike_trains import spike_statistics\n",
    "from bmtk.simulator.pointnet.pyfunction_cache import synaptic_weight\n",
    "from bmtk.simulator import pointnet\n",
    "from bmtk.analyzer.spike_trains import plot_rates_boxplot\n",
    "\n",
    "\n",
    "# contains new syn_weight values for each iteration, eg index 0 is for first iteration, index 1 \n",
    "# for second iteration, etc.\n",
    "grid_search = {\n",
    "    'e4Rorb': [0.3, 0.6, 0.7, 1.0],\n",
    "    'e4Scnn1a': [0.3, 0.6, 0.9, 1.2],\n",
    "    'e4other': [0.3, 0.5, 0.7, 0.9],\n",
    "    'i4Htr3a': [1.0, 2.0, 3.0, 4.0],\n",
    "    'i4Pvalb': [0.2, 0.8, 1.1, 1.3],\n",
    "    'i4Sst': [2.0, 4.0, 6.0, 8.0]\n",
    "}\n",
    "\n",
    "\n",
    "# Keeps track of current iteration, plus each iterations weights and firing-rates for graphing later\n",
    "current_itr = 0\n",
    "weights_table = {cell_line: [] for cell_line in grid_search.keys()}\n",
    "fr_table = {cell_line: [] for cell_line in grid_search.keys()}\n",
    "\n",
    "\n",
    "@synaptic_weight\n",
    "def set_syn_weight(edge_props, source_nodes, target_nodes):\n",
    "    # Find \"cell_line\" for targets and get new syn_weight value for current iteration\n",
    "    target_type = target_nodes['cell_line'].unique()[0]\n",
    "    new_syn_weight = grid_search[target_type][current_itr]\n",
    "    \n",
    "    # Save the updated weights at each iteration\n",
    "    weights_table[target_type].append(new_syn_weight)\n",
    "    \n",
    "    # return new weights\n",
    "    return np.array(new_syn_weight*edge_props.nsyns)\n",
    "    \n",
    "\n",
    "for i in range(4):\n",
    "    current_itr = i\n",
    "    \n",
    "    print('>> Running iteration {}'.format(i+1))\n",
    "    configure = pointnet.Config.from_json('config.simulation_pointnet.feedforward.json')\n",
    "    configure.build_env()\n",
    "\n",
    "    graph = pointnet.PointNetwork.from_config(configure)\n",
    "    sim = pointnet.PointSimulator.from_config(configure, graph)\n",
    "    sim.run()\n",
    "   \n",
    "    spike_stats_df = spike_statistics('output_feedforward/spikes.h5', simulation=sim, group_by='cell_line', populations='l4')\n",
    "    for cell_line, fr in spike_stats_df['firing_rate']['mean'].items():\n",
    "        fr_table[cell_line].append(fr)\n"
   ]
  },
  {
   "cell_type": "code",
   "execution_count": 8,
   "metadata": {},
   "outputs": [
    {
     "data": {
      "image/png": "[encoded data removed]",
      "text/plain": [
       "<Figure size 864x648 with 2 Axes>"
      ]
     },
     "metadata": {
      "needs_background": "light"
     },
     "output_type": "display_data"
    }
   ],
   "source": [
    "fig, ax = plt.subplots(2, 1, figsize=(12, 9))\n",
    "for cell_line, weights in weights_table.items():\n",
    "    firing_rates = fr_table[cell_line]\n",
    "    # Since the exc and inh have different syn_weight scales let's\n",
    "    # plot them separately.\n",
    "    if cell_line.startswith('e'):\n",
    "        ax[0].plot(weights, firing_rates, '-o', label=cell_line)\n",
    "    else:\n",
    "        ax[1].plot(weights, firing_rates, '-o', label=cell_line)\n",
    "\n",
    "ax[1].set_xlabel('syn_weight (feedforward LGN only)')\n",
    "ax[0].set_ylabel('mean firing rate')\n",
    "ax[1].set_ylabel('mean firing rate')\n",
    "ax[0].legend()\n",
    "ax[1].legend() \n",
    "plt.show()"
   ]
  },
  {
   "cell_type": "markdown",
   "metadata": {},
   "source": [
    "From here we can plug our desired **syn_weight** values back into the main *edge_types.csv* file, the proceed in a similar fashion to optimize other connections types and even other parameters. For the \"l4\" model with \"lgn\" and \"bkg\" inputs, the main *edge*s files have already been optimized - but hopefully this will help with other novel models.\n",
    "\n",
    "[**Return to the main chapter contents**](6.%20More%20Realistic%20Model%20and%20Advanced%20Features.ipynb)"
   ]
  },
  {
   "cell_type": "code",
   "execution_count": null,
   "metadata": {},
   "outputs": [],
   "source": []
  }
 ],
 "metadata": {
  "kernelspec": {
   "display_name": "Python 3",
   "language": "python",
   "name": "python3"
  },
  "language_info": {
   "codemirror_mode": {
    "name": "ipython",
    "version": 3
   },
   "file_extension": ".py",
   "mimetype": "text/x-python",
   "name": "python",
   "nbconvert_exporter": "python",
   "pygments_lexer": "ipython3",
   "version": "3.8.2"
  }
 },
 "nbformat": 4,
 "nbformat_minor": 5
}

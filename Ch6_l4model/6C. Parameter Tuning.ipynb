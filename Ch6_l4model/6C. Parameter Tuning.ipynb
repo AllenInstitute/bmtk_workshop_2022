{
 "cells": [
  {
   "cell_type": "markdown",
   "id": "5d8543f6",
   "metadata": {},
   "source": [
    "# Parameter Tuning of the LGN Inputs\n",
    "\n",
    "[**Return to the main chapter contents**](6.%20More%20Realistic%20Model%20and%20Advanced%20Features.ipynb)\n",
    "\n",
    "In this section, we show how to find more appropiate values using a grid-search on the **syn_weight** parameter. We will run the simulation multiple times in a row, each time increasing/decreasing the **syn_weight** by some factor depending on the edge's target cell type. In each iteration we'll record the updated **syn_weight** and the target cell type's mean firing rate so we can plot the results at the end. \n",
    "\n",
    "Once we have a better idea of the feed-forward **syn_weight** values that are best for different cell models it will be trivial to update the *lgn_l4_edge_types.csv* **syn_weight** values."
   ]
  },
  {
   "cell_type": "code",
   "execution_count": 1,
   "id": "746c4462",
   "metadata": {},
   "outputs": [
    {
     "name": "stdout",
     "output_type": "stream",
     "text": [
      "[INFO] [2022.7.17 7:27:13 /home/ping/bmtk_proj/nest-simulator-2.20.1/nestkernel/rng_manager.cpp:217 @ Network::create_rngs_] : Creating default RNGs\n",
      "[INFO] [2022.7.17 7:27:13 /home/ping/bmtk_proj/nest-simulator-2.20.1/nestkernel/rng_manager.cpp:260 @ Network::create_grng_] : Creating new default global RNG\n",
      "\n",
      "              -- N E S T --\n",
      "  Copyright (C) 2004 The NEST Initiative\n",
      "\n",
      " Version: nest-2.20.1\n",
      " Built: Jan  1 2022 23:06:15\n",
      "\n",
      " This program is provided AS IS and comes with\n",
      " NO WARRANTY. See the file LICENSE for details.\n",
      "\n",
      " Problems or suggestions?\n",
      "   Visit https://www.nest-simulator.org\n",
      "\n",
      " Type 'nest.help()' to find out more about NEST.\n",
      "\n"
     ]
    }
   ],
   "source": [
    "import pandas as pd\n",
    "import numpy as np\n",
    "import matplotlib.pyplot as plt\n",
    "import nest\n",
    "import warnings\n",
    "\n",
    "from bmtk.simulator import pointnet\n",
    "from bmtk.analyzer.spike_trains import plot_rates_boxplot\n",
    "from bmtk.analyzer.spike_trains import spike_statistics"
   ]
  },
  {
   "cell_type": "markdown",
   "id": "2a184c38",
   "metadata": {},
   "source": [
    "#### Initial simulation with feedforward connections only\n",
    "\n",
    "The full model we built in the previous chapter contained multiple sets of synaptic connections (_aka_ edge-types): recurrent connections and feedforward connections from the \"LGN\" and \"BKG\" populations of cells. In even larger models the types of connections can grow exponentially. However with the SONATA network format it is easy to only run a subset of the entire network, which can simplify the process of trying to optimize cell and synaptic model parameters for results we expect. \n",
    "\n",
    "In this case we want to optimize the **syn_weight** parameter that controls synaptic weights between cells. But only do so for the **LNG** --> **L4** feedforward connections. (Later we can do the same for BKG --> L4 and L4 --> L4 connections). To test and optimize the simulation for only the LGN --> L4 connections we just need to create a special configuration file that only contains the required nodes and edges. Here we copied an existing one, modified it as follows, and renamed it *config.simulation_pointnet.feedforward.json*.\n",
    "\n",
    "```json\n",
    "  \"networks\": {\n",
    "    \"nodes\": [\n",
    "      {\n",
    "        \"nodes_file\": \"$NETWORK_DIR/l4_nodes.h5\",\n",
    "        \"node_types_file\": \"$NETWORK_DIR/l4_node_types.csv\"\n",
    "      },\n",
    "      {\n",
    "        \"nodes_file\": \"$NETWORK_DIR/lgn_nodes.h5\",\n",
    "        \"node_types_file\": \"$NETWORK_DIR/lgn_node_types.csv\"\n",
    "      }\n",
    "    ],\n",
    "    \"edges\": [\n",
    "      {\n",
    "        \"edges_file\": \"$NETWORK_DIR/lgn_l4_edges.h5\",\n",
    "        \"edge_types_file\": \"$NETWORK_DIR/lgn_l4_edge_types.feedforward.csv\"\n",
    "      }\n",
    "    ]\n",
    "  }\n",
    "```\n",
    "\n",
    "**Note** that we also made a copy of *lgn_l4_edge_types.csv* and named it *lgn_l4_edge_types.feedforward.csv*. This is so we can readily test and adjust certain cell properties like **syn_weight** by altering the csv file, without having to lose our original state."
   ]
  },
  {
   "cell_type": "markdown",
   "id": "69665ecf",
   "metadata": {},
   "source": [
    "When we run the model with LGN feedforward inputs only we can see the firing rates on a population-by-population basis."
   ]
  },
  {
   "cell_type": "code",
   "execution_count": 2,
   "id": "4ed39ab5",
   "metadata": {},
   "outputs": [
    {
     "name": "stdout",
     "output_type": "stream",
     "text": [
      "2022-07-17 07:27:20,860 [INFO] Created log file\n",
      "2022-07-17 07:27:20,884 [INFO] Batch processing nodes for l4/0.\n",
      "2022-07-17 07:27:20,978 [INFO] Batch processing nodes for lgn/0.\n",
      "2022-07-17 07:27:21,001 [INFO] Setting up output directory\n",
      "2022-07-17 07:27:21,002 [INFO] Building cells.\n",
      "2022-07-17 07:27:21,024 [INFO] Building recurrent connections\n",
      "2022-07-17 07:27:21,025 [INFO] Build virtual cell stimulations for lgn_spikes\n",
      "2022-07-17 07:27:26,345 [INFO] Network created.\n",
      "2022-07-17 07:27:26,394 [INFO] Starting Simulation\n",
      "2022-07-17 07:27:31,634 [INFO] Simulation finished, finalizing results.\n",
      "2022-07-17 07:27:31,995 [INFO] Done.\n"
     ]
    }
   ],
   "source": [
    "from bmtk.simulator import pointnet\n",
    "\n",
    "configure = pointnet.Config.from_json('config.simulation_pointnet.feedforward.json')\n",
    "configure.build_env()\n",
    "\n",
    "graph = pointnet.PointNetwork.from_config(configure)\n",
    "sim = pointnet.PointSimulator.from_config(configure, graph)\n",
    "sim.run()"
   ]
  },
  {
   "cell_type": "code",
   "execution_count": 3,
   "id": "3c3c089c",
   "metadata": {},
   "outputs": [
    {
     "data": {
      "image/png": "[encoded data removed]",
      "text/plain": [
       "<Figure size 432x288 with 1 Axes>"
      ]
     },
     "metadata": {
      "needs_background": "light"
     },
     "output_type": "display_data"
    }
   ],
   "source": [
    "from bmtk.analyzer.spike_trains import plot_rates_boxplot\n",
    "\n",
    "_ = plot_rates_boxplot(config_file='config.simulation_pointnet.feedforward.json', group_by='cell_line')"
   ]
  },
  {
   "cell_type": "markdown",
   "id": "75655297",
   "metadata": {},
   "source": [
    "The firing rates have a wide spread and need to be adjusted. For example we want the excitatory e4 populations to fire at a rate ~5Hz while the inhibitory i4 should be ~ 15Hz baseline. Based on these initial results, it looks like we want to decrease the **syn_weight**s of the e4 population while increasing the weights for the i4 population.\n",
    "\n",
    "\n",
    "#### Readjusting synaptic weights at run-time\n",
    "\n",
    "This can be done by rebuilding the network, but for larger models this can be time consuming, and we will probably need to adjust the weights multiple times. Instead, the BMTK has a way of adjusting the synaptic weights dynamically at simulation time. In the SONATA edges file for LGN --> L4 connections we include an optional column called **weight_function**:"
   ]
  },
  {
   "cell_type": "code",
   "execution_count": 4,
   "id": "c792e01d",
   "metadata": {},
   "outputs": [
    {
     "data": {
      "text/html": [
       "<style type=\"text/css\">\n",
       "#T_a155e_row0_col4, #T_a155e_row0_col7, #T_a155e_row1_col4, #T_a155e_row1_col7, #T_a155e_row2_col4, #T_a155e_row2_col7, #T_a155e_row3_col4, #T_a155e_row3_col7, #T_a155e_row4_col4, #T_a155e_row4_col7, #T_a155e_row5_col4, #T_a155e_row5_col7 {\n",
       "  background-color: yellow;\n",
       "}\n",
       "</style>\n",
       "<table id=\"T_a155e_\">\n",
       "  <thead>\n",
       "    <tr>\n",
       "      <th class=\"blank level0\" >&nbsp;</th>\n",
       "      <th class=\"col_heading level0 col0\" >edge_type_id</th>\n",
       "      <th class=\"col_heading level0 col1\" >target_query</th>\n",
       "      <th class=\"col_heading level0 col2\" >source_query</th>\n",
       "      <th class=\"col_heading level0 col3\" >dynamics_params</th>\n",
       "      <th class=\"col_heading level0 col4\" >syn_weight</th>\n",
       "      <th class=\"col_heading level0 col5\" >model_template</th>\n",
       "      <th class=\"col_heading level0 col6\" >delay</th>\n",
       "      <th class=\"col_heading level0 col7\" >weight_function</th>\n",
       "    </tr>\n",
       "  </thead>\n",
       "  <tbody>\n",
       "    <tr>\n",
       "      <th id=\"T_a155e_level0_row0\" class=\"row_heading level0 row0\" >0</th>\n",
       "      <td id=\"T_a155e_row0_col0\" class=\"data row0 col0\" >100</td>\n",
       "      <td id=\"T_a155e_row0_col1\" class=\"data row0 col1\" >model_name=='Sst_501282204'</td>\n",
       "      <td id=\"T_a155e_row0_col2\" class=\"data row0 col2\" >*</td>\n",
       "      <td id=\"T_a155e_row0_col3\" class=\"data row0 col3\" >i2e.json</td>\n",
       "      <td id=\"T_a155e_row0_col4\" class=\"data row0 col4\" >1.000000</td>\n",
       "      <td id=\"T_a155e_row0_col5\" class=\"data row0 col5\" >static_synapse</td>\n",
       "      <td id=\"T_a155e_row0_col6\" class=\"data row0 col6\" >1.700000</td>\n",
       "      <td id=\"T_a155e_row0_col7\" class=\"data row0 col7\" >set_syn_weight</td>\n",
       "    </tr>\n",
       "    <tr>\n",
       "      <th id=\"T_a155e_level0_row1\" class=\"row_heading level0 row1\" >1</th>\n",
       "      <td id=\"T_a155e_row1_col0\" class=\"data row1 col0\" >101</td>\n",
       "      <td id=\"T_a155e_row1_col1\" class=\"data row1 col1\" >model_name=='Rorb_314642645'</td>\n",
       "      <td id=\"T_a155e_row1_col2\" class=\"data row1 col2\" >*</td>\n",
       "      <td id=\"T_a155e_row1_col3\" class=\"data row1 col3\" >e2e.json</td>\n",
       "      <td id=\"T_a155e_row1_col4\" class=\"data row1 col4\" >1.000000</td>\n",
       "      <td id=\"T_a155e_row1_col5\" class=\"data row1 col5\" >static_synapse</td>\n",
       "      <td id=\"T_a155e_row1_col6\" class=\"data row1 col6\" >1.700000</td>\n",
       "      <td id=\"T_a155e_row1_col7\" class=\"data row1 col7\" >set_syn_weight</td>\n",
       "    </tr>\n",
       "    <tr>\n",
       "      <th id=\"T_a155e_level0_row2\" class=\"row_heading level0 row2\" >2</th>\n",
       "      <td id=\"T_a155e_row2_col0\" class=\"data row2 col0\" >102</td>\n",
       "      <td id=\"T_a155e_row2_col1\" class=\"data row2 col1\" >model_name=='Scnn1a_517982558'</td>\n",
       "      <td id=\"T_a155e_row2_col2\" class=\"data row2 col2\" >*</td>\n",
       "      <td id=\"T_a155e_row2_col3\" class=\"data row2 col3\" >e2e.json</td>\n",
       "      <td id=\"T_a155e_row2_col4\" class=\"data row2 col4\" >1.000000</td>\n",
       "      <td id=\"T_a155e_row2_col5\" class=\"data row2 col5\" >static_synapse</td>\n",
       "      <td id=\"T_a155e_row2_col6\" class=\"data row2 col6\" >1.700000</td>\n",
       "      <td id=\"T_a155e_row2_col7\" class=\"data row2 col7\" >set_syn_weight</td>\n",
       "    </tr>\n",
       "    <tr>\n",
       "      <th id=\"T_a155e_level0_row3\" class=\"row_heading level0 row3\" >3</th>\n",
       "      <td id=\"T_a155e_row3_col0\" class=\"data row3 col0\" >103</td>\n",
       "      <td id=\"T_a155e_row3_col1\" class=\"data row3 col1\" >model_name=='Htr3a_474626527'</td>\n",
       "      <td id=\"T_a155e_row3_col2\" class=\"data row3 col2\" >*</td>\n",
       "      <td id=\"T_a155e_row3_col3\" class=\"data row3 col3\" >i2e.json</td>\n",
       "      <td id=\"T_a155e_row3_col4\" class=\"data row3 col4\" >1.000000</td>\n",
       "      <td id=\"T_a155e_row3_col5\" class=\"data row3 col5\" >static_synapse</td>\n",
       "      <td id=\"T_a155e_row3_col6\" class=\"data row3 col6\" >1.700000</td>\n",
       "      <td id=\"T_a155e_row3_col7\" class=\"data row3 col7\" >set_syn_weight</td>\n",
       "    </tr>\n",
       "    <tr>\n",
       "      <th id=\"T_a155e_level0_row4\" class=\"row_heading level0 row4\" >4</th>\n",
       "      <td id=\"T_a155e_row4_col0\" class=\"data row4 col0\" >104</td>\n",
       "      <td id=\"T_a155e_row4_col1\" class=\"data row4 col1\" >model_name=='other_483018019'</td>\n",
       "      <td id=\"T_a155e_row4_col2\" class=\"data row4 col2\" >*</td>\n",
       "      <td id=\"T_a155e_row4_col3\" class=\"data row4 col3\" >e2e.json</td>\n",
       "      <td id=\"T_a155e_row4_col4\" class=\"data row4 col4\" >1.000000</td>\n",
       "      <td id=\"T_a155e_row4_col5\" class=\"data row4 col5\" >static_synapse</td>\n",
       "      <td id=\"T_a155e_row4_col6\" class=\"data row4 col6\" >1.700000</td>\n",
       "      <td id=\"T_a155e_row4_col7\" class=\"data row4 col7\" >set_syn_weight</td>\n",
       "    </tr>\n",
       "    <tr>\n",
       "      <th id=\"T_a155e_level0_row5\" class=\"row_heading level0 row5\" >5</th>\n",
       "      <td id=\"T_a155e_row5_col0\" class=\"data row5 col0\" >105</td>\n",
       "      <td id=\"T_a155e_row5_col1\" class=\"data row5 col1\" >model_name=='Pvalb_478958894'</td>\n",
       "      <td id=\"T_a155e_row5_col2\" class=\"data row5 col2\" >*</td>\n",
       "      <td id=\"T_a155e_row5_col3\" class=\"data row5 col3\" >i2e.json</td>\n",
       "      <td id=\"T_a155e_row5_col4\" class=\"data row5 col4\" >1.000000</td>\n",
       "      <td id=\"T_a155e_row5_col5\" class=\"data row5 col5\" >static_synapse</td>\n",
       "      <td id=\"T_a155e_row5_col6\" class=\"data row5 col6\" >1.700000</td>\n",
       "      <td id=\"T_a155e_row5_col7\" class=\"data row5 col7\" >set_syn_weight</td>\n",
       "    </tr>\n",
       "  </tbody>\n",
       "</table>\n"
      ],
      "text/plain": [
       "<pandas.io.formats.style.Styler at 0x7f22b6528340>"
      ]
     },
     "execution_count": 4,
     "metadata": {},
     "output_type": "execute_result"
    }
   ],
   "source": [
    "edge_types_df = pd.read_csv('network/lgn_l4_edge_types.feedforward.csv', sep=' ')\n",
    "edge_types_df.style.applymap(lambda *_: 'background-color: yellow', \n",
    "                             subset=pd.IndexSlice[:, ['syn_weight', 'weight_function']])"
   ]
  },
  {
   "cell_type": "markdown",
   "id": "54470ad1",
   "metadata": {},
   "source": [
    "*set_syn_weight* is a built-in function that is used by bmtk to calculate synaptic weights for pairs of source/target cells. *set_syn_weight* takes in a table of edge and cell properties and returns a list of updated synaptic weights, by default simply by returning the **syn_weight** times the number of actual synapses (which defaults to 1 if not explicity stated).\n",
    "\n",
    "```python\n",
    "def default_weight_fnc(edge_props, source_nodes, target_nodes):\n",
    "    return np.array(edge_props['syn_weight']*edge_props.nsyns)\n",
    "```\n",
    "\n",
    "However, with bmtk we can override this behavior. Here the ```@synaptic_weight``` is a python decorator that we can use to overwrite the default *set_syn_weight* function with one of our own. For the initial implementation we can see what happens when we reduce the **syn_weight** for the e4Rorb population."
   ]
  },
  {
   "cell_type": "code",
   "execution_count": 5,
   "id": "260257b1",
   "metadata": {},
   "outputs": [
    {
     "name": "stdout",
     "output_type": "stream",
     "text": [
      "2022-07-17 07:27:58,387 [INFO] Created log file\n",
      "2022-07-17 07:27:58,414 [INFO] Batch processing nodes for l4/0.\n",
      "2022-07-17 07:27:58,488 [INFO] Batch processing nodes for lgn/0.\n",
      "2022-07-17 07:27:58,548 [INFO] Setting up output directory\n",
      "2022-07-17 07:27:58,549 [INFO] Building cells.\n",
      "2022-07-17 07:27:58,566 [INFO] Building recurrent connections\n",
      "2022-07-17 07:27:58,567 [INFO] Build virtual cell stimulations for lgn_spikes\n",
      "2022-07-17 07:28:03,524 [INFO] Network created.\n",
      "2022-07-17 07:28:03,555 [INFO] Starting Simulation\n",
      "2022-07-17 07:28:08,458 [INFO] Simulation finished, finalizing results.\n",
      "2022-07-17 07:28:08,743 [INFO] Done.\n"
     ]
    }
   ],
   "source": [
    "from bmtk.simulator import pointnet\n",
    "from bmtk.simulator.pointnet.pyfunction_cache import synaptic_weight\n",
    "\n",
    "i = 1\n",
    "@synaptic_weight\n",
    "def set_syn_weight(edge_props, source_nodes, target_nodes):\n",
    "    # Check the target's cell_line. If it is e4Rorb then reduce the syn-weight value,\n",
    "    # otherwise just return the function like original.\n",
    "    trg_type = target_nodes['cell_line'].unique()[0]\n",
    "   \n",
    "    if trg_type == 'e4Rorb':\n",
    "        return np.full(len(edge_props), fill_value=0.68)*np.array(edge_props['nsyns'])\n",
    "    else:\n",
    "        return np.array(edge_props['syn_weight']*edge_props['nsyns'])\n",
    "    \n",
    "configure = pointnet.Config.from_json('config.simulation_pointnet.feedforward.json')\n",
    "configure.build_env()\n",
    "\n",
    "graph = pointnet.PointNetwork.from_config(configure)\n",
    "sim = pointnet.PointSimulator.from_config(configure, graph)\n",
    "sim.run()"
   ]
  },
  {
   "cell_type": "code",
   "execution_count": 6,
   "id": "2a4ab19e",
   "metadata": {},
   "outputs": [
    {
     "data": {
      "image/png": "[encoded data removed]",
      "text/plain": [
       "<Figure size 432x288 with 1 Axes>"
      ]
     },
     "metadata": {
      "needs_background": "light"
     },
     "output_type": "display_data"
    }
   ],
   "source": [
    "_ = plot_rates_boxplot(config_file='config.simulation_pointnet.feedforward.json', group_by='cell_line')"
   ]
  },
  {
   "cell_type": "markdown",
   "id": "bfd7de7b",
   "metadata": {},
   "source": [
    "Now, the e4Rorb firing rates are closer to our target firing rate of ~5 Hz. From there we can continue to modify *set_syn_weight* to take into account the other cell populations. But we would need to manually execute the simulation multiple times, each time adjusting either the *set_syn_weight* function or the **syn_weight** parameter in the *edge_types.csv* file until we find the results we want. \n",
    "\n",
    "#### Grid search\n",
    "\n",
    "Alternatively we can automate the search process for the right **syn_weight** values by running the simulation multiple times in a row, adjusting *set_syn_weight* to return different synaptic weights at each iteration.\n",
    "\n",
    "In the code below we will run the simulation four different times. At each iteration *set_syn_weight* updates the the **syn_weight** on a population-by-population basis from the values in the ```grid_search``` table. After each time the simulation is run, we call the ```spike_statistics()``` function to find the mean firing-rates for said simulation's results. The firing-rate vs. syn_weight results are saved into ```fr_table``` which can then be used to see what values of **syn_weight** produce the most realistic firing rates for each given population. "
   ]
  },
  {
   "cell_type": "code",
   "execution_count": 7,
   "id": "33adb60d",
   "metadata": {},
   "outputs": [
    {
     "name": "stdout",
     "output_type": "stream",
     "text": [
      ">> Running iteration 1\n",
      "2022-07-17 07:28:42,639 [INFO] Created log file\n",
      "2022-07-17 07:28:42,661 [INFO] Batch processing nodes for l4/0.\n",
      "2022-07-17 07:28:42,739 [INFO] Batch processing nodes for lgn/0.\n",
      "2022-07-17 07:28:42,794 [INFO] Setting up output directory\n",
      "2022-07-17 07:28:42,794 [INFO] Building cells.\n",
      "2022-07-17 07:28:42,808 [INFO] Building recurrent connections\n",
      "2022-07-17 07:28:42,809 [INFO] Build virtual cell stimulations for lgn_spikes\n",
      "2022-07-17 07:28:48,035 [INFO] Network created.\n",
      "2022-07-17 07:28:48,063 [INFO] Starting Simulation\n",
      "2022-07-17 07:28:53,031 [INFO] Simulation finished, finalizing results.\n",
      "2022-07-17 07:28:53,047 [INFO] Done.\n",
      ">> Running iteration 2\n",
      "2022-07-17 07:28:53,286 [INFO] Created log file\n",
      "2022-07-17 07:28:53,306 [INFO] Batch processing nodes for l4/0.\n",
      "2022-07-17 07:28:53,380 [INFO] Batch processing nodes for lgn/0.\n",
      "2022-07-17 07:28:53,437 [INFO] Setting up output directory\n",
      "2022-07-17 07:28:53,438 [INFO] Building cells.\n",
      "2022-07-17 07:28:53,452 [INFO] Building recurrent connections\n",
      "2022-07-17 07:28:53,453 [INFO] Build virtual cell stimulations for lgn_spikes\n",
      "2022-07-17 07:28:58,603 [INFO] Network created.\n",
      "2022-07-17 07:28:58,638 [INFO] Starting Simulation\n",
      "2022-07-17 07:29:04,224 [INFO] Simulation finished, finalizing results.\n",
      "2022-07-17 07:29:04,353 [INFO] Done.\n",
      ">> Running iteration 3\n",
      "2022-07-17 07:29:05,628 [INFO] Created log file\n",
      "2022-07-17 07:29:05,645 [INFO] Batch processing nodes for l4/0.\n",
      "2022-07-17 07:29:05,718 [INFO] Batch processing nodes for lgn/0.\n",
      "2022-07-17 07:29:05,772 [INFO] Setting up output directory\n",
      "2022-07-17 07:29:05,773 [INFO] Building cells.\n",
      "2022-07-17 07:29:05,787 [INFO] Building recurrent connections\n",
      "2022-07-17 07:29:05,788 [INFO] Build virtual cell stimulations for lgn_spikes\n",
      "2022-07-17 07:29:10,787 [INFO] Network created.\n",
      "2022-07-17 07:29:10,818 [INFO] Starting Simulation\n",
      "2022-07-17 07:29:15,853 [INFO] Simulation finished, finalizing results.\n",
      "2022-07-17 07:29:16,098 [INFO] Done.\n",
      ">> Running iteration 4\n",
      "2022-07-17 07:29:17,536 [INFO] Created log file\n",
      "2022-07-17 07:29:17,555 [INFO] Batch processing nodes for l4/0.\n",
      "2022-07-17 07:29:17,630 [INFO] Batch processing nodes for lgn/0.\n",
      "2022-07-17 07:29:17,684 [INFO] Setting up output directory\n",
      "2022-07-17 07:29:17,685 [INFO] Building cells.\n",
      "2022-07-17 07:29:17,702 [INFO] Building recurrent connections\n",
      "2022-07-17 07:29:17,703 [INFO] Build virtual cell stimulations for lgn_spikes\n",
      "2022-07-17 07:29:22,954 [INFO] Network created.\n",
      "2022-07-17 07:29:22,985 [INFO] Starting Simulation\n",
      "2022-07-17 07:29:28,280 [INFO] Simulation finished, finalizing results.\n",
      "2022-07-17 07:29:28,696 [INFO] Done.\n"
     ]
    }
   ],
   "source": [
    "from bmtk.analyzer.spike_trains import spike_statistics\n",
    "from bmtk.simulator.pointnet.pyfunction_cache import synaptic_weight\n",
    "from bmtk.simulator import pointnet\n",
    "from bmtk.analyzer.spike_trains import plot_rates_boxplot\n",
    "\n",
    "\n",
    "# Contains new syn_weight values for each iteration, e.g., index 0 is for first iteration, index 1 \n",
    "# for second iteration, etc.\n",
    "grid_search = {\n",
    "    'e4Rorb': [0.3, 0.6, 0.7, 1.0],\n",
    "    'e4Scnn1a': [0.3, 0.6, 0.9, 1.2],\n",
    "    'e4other': [0.3, 0.5, 0.7, 0.9],\n",
    "    'i4Htr3a': [1.0, 2.0, 3.0, 4.0],\n",
    "    'i4Pvalb': [0.2, 0.8, 1.1, 1.3],\n",
    "    'i4Sst': [2.0, 4.0, 6.0, 8.0]\n",
    "}\n",
    "\n",
    "\n",
    "# Keeps track of current iteration, plus each iteration's weights and firing rates for graphing later\n",
    "current_itr = 0\n",
    "weights_table = {cell_line: [] for cell_line in grid_search.keys()}\n",
    "fr_table = {cell_line: [] for cell_line in grid_search.keys()}\n",
    "\n",
    "\n",
    "@synaptic_weight\n",
    "def set_syn_weight(edge_props, source_nodes, target_nodes):\n",
    "    # Find \"cell_line\" for targets and get new syn_weight value for current iteration\n",
    "    target_type = target_nodes['cell_line'].unique()[0]\n",
    "    new_syn_weight = grid_search[target_type][current_itr]\n",
    "    \n",
    "    # Save the updated weights at each iteration\n",
    "    weights_table[target_type].append(new_syn_weight)\n",
    "    \n",
    "    # Return new weights\n",
    "    return np.array(new_syn_weight*edge_props.nsyns)\n",
    "    \n",
    "\n",
    "for i in range(4):\n",
    "    current_itr = i\n",
    "    \n",
    "    print('>> Running iteration {}'.format(i+1))\n",
    "    configure = pointnet.Config.from_json('config.simulation_pointnet.feedforward.json')\n",
    "    configure.build_env()\n",
    "\n",
    "    graph = pointnet.PointNetwork.from_config(configure)\n",
    "    sim = pointnet.PointSimulator.from_config(configure, graph)\n",
    "    sim.run()\n",
    "   \n",
    "    spike_stats_df = spike_statistics('output_feedforward/spikes.h5', simulation=sim, group_by='cell_line', populations='l4')\n",
    "    for cell_line, fr in spike_stats_df['firing_rate']['mean'].items():\n",
    "        fr_table[cell_line].append(fr)\n"
   ]
  },
  {
   "cell_type": "code",
   "execution_count": 8,
   "id": "e7fb7500",
   "metadata": {},
   "outputs": [
    {
     "data": {
      "image/png": "[encoded data removed]",
      "text/plain": [
       "<Figure size 864x648 with 2 Axes>"
      ]
     },
     "metadata": {
      "needs_background": "light"
     },
     "output_type": "display_data"
    }
   ],
   "source": [
    "fig, ax = plt.subplots(2, 1, figsize=(12, 9))\n",
    "for cell_line, weights in weights_table.items():\n",
    "    firing_rates = fr_table[cell_line]\n",
    "    # Since the exc and inh have different syn_weight scales let's\n",
    "    # plot them separately.\n",
    "    if cell_line.startswith('e'):\n",
    "        ax[0].plot(weights, firing_rates, '-o', label=cell_line)\n",
    "    else:\n",
    "        ax[1].plot(weights, firing_rates, '-o', label=cell_line)\n",
    "\n",
    "ax[1].set_xlabel('syn_weight (feedforward LGN only)')\n",
    "ax[0].set_ylabel('mean firing rate (Hz)')\n",
    "ax[1].set_ylabel('mean firing rate (Hz)')\n",
    "ax[0].legend()\n",
    "ax[1].legend() \n",
    "plt.show()"
   ]
  },
  {
   "cell_type": "markdown",
   "id": "d0e4a42c",
   "metadata": {},
   "source": [
    "From here we can plug our desired **syn_weight** values back into the main *edge_types.csv* file, then proceed in a similar fashion to optimize other connections types and even other parameters. Using these tools, we can also implement more sophisticated optimization methods, such as the conjugate gradient method. For the \"l4\" model with \"lgn\" and \"bkg\" inputs, the main *edge*s files have already been optimized - but hopefully this will help with other novel models.\n",
    "\n",
    "[**Return to the main chapter contents**](6.%20More%20Realistic%20Model%20and%20Advanced%20Features.ipynb)"
   ]
  },
  {
   "cell_type": "code",
   "execution_count": null,
   "id": "5fecebab",
   "metadata": {},
   "outputs": [],
   "source": []
  }
 ],
 "metadata": {
  "kernelspec": {
   "display_name": "Python 3 (ipykernel)",
   "language": "python",
   "name": "python3"
  },
  "language_info": {
   "codemirror_mode": {
    "name": "ipython",
    "version": 3
   },
   "file_extension": ".py",
   "mimetype": "text/x-python",
   "name": "python",
   "nbconvert_exporter": "python",
   "pygments_lexer": "ipython3",
   "version": "3.8.10"
  }
 },
 "nbformat": 4,
 "nbformat_minor": 5
}

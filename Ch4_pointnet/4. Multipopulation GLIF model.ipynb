{
 "cells": [
  {
   "cell_type": "markdown",
   "metadata": {},
   "source": [
    "# 4. Small Network Model with PointNet\n",
    "\n",
    "In the last tutorial we built a toy model of the Mouse Visual Cortex system with 300 biophysically detailed neurons, that we ran with BioNet (i.e., the NEURON simulator). This time we will build/convert a similar model but instead using PointNet (i.e., the NEST simulator) with point-neuron-based models. In particular, we will use the Generalized Leaky Integrate-and-Fire (GLIF) models created at the Allen Institute and for which we can find optimized models in the Allen Cell-Types Database.\n",
    "\n",
    "As we will see the process for building and simulating point-neuron models are similar to biophysically detailed neurons, with the appropriate adjustments."
   ]
  },
  {
   "cell_type": "code",
   "execution_count": 1,
   "metadata": {},
   "outputs": [
    {
     "name": "stdout",
     "output_type": "stream",
     "text": [
      "[INFO] [2022.7.7 14:49:33 /home/ping/bmtk_proj/nest-simulator-2.20.1/nestkernel/rng_manager.cpp:217 @ Network::create_rngs_] : Creating default RNGs\n",
      "[INFO] [2022.7.7 14:49:33 /home/ping/bmtk_proj/nest-simulator-2.20.1/nestkernel/rng_manager.cpp:260 @ Network::create_grng_] : Creating new default global RNG\n",
      "\n",
      "              -- N E S T --\n",
      "  Copyright (C) 2004 The NEST Initiative\n",
      "\n",
      " Version: nest-2.20.1\n",
      " Built: Jan  1 2022 23:06:15\n",
      "\n",
      " This program is provided AS IS and comes with\n",
      " NO WARRANTY. See the file LICENSE for details.\n",
      "\n",
      " Problems or suggestions?\n",
      "   Visit https://www.nest-simulator.org\n",
      "\n",
      " Type 'nest.help()' to find out more about NEST.\n",
      "\n"
     ]
    }
   ],
   "source": [
    "import os\n",
    "import shutil\n",
    "from distutils.dir_util import copy_tree\n",
    "import numpy as np\n",
    "import pandas as pd\n",
    "import nest\n",
    "\n",
    "from bmtk.builder.networks import NetworkBuilder\n",
    "from bmtk.simulator import pointnet\n",
    "from bmtk.analyzer.compartment import plot_traces\n",
    "from bmtk.analyzer.spike_trains import plot_raster"
   ]
  },
  {
   "cell_type": "markdown",
   "metadata": {},
   "source": [
    "## Downloading the Models\n",
    "\n",
    "As before we will first want to find appropiate models using the [Allen Cell-Types Database Feature Search](https://celltypes.brain-map.org/data). We choose 3 different spiny excitatory models (identified by expression of Scnn1a, Rorb, and Nr5a1) and one inhibitory model (identified by expression of PValb) for \"Mouse\" in the Location \"VISp\", \"L4\".\n",
    "\n",
    "This time we also want to make sure to check the box \"Has GLIF Model\".\n",
    "\n",
    "There are actually five different variations of the GLIF model, we are primarily interested in the \"type 3: LIF-ASC\" models. Choose that from the \"Select neuronal model\" dropdown, which will bring up the option to \"Download model\" at the bottom of the page:\n",
    "\n",
    "![](../images/cell_types_db_glif_selection_highlighted.png)\n",
    "\n",
    "The main file we are looking for is called _neuron_config.json_, which like _fit_parameters.json_ for perisomatic models contains the **dynamics_params**. Rename _neuron_config.json_ to something more informative, then copy the file to the _components/point_neuron_models/_ directory.\n",
    "\n",
    "As before we already did this - but feel free to choose your own models.\n",
    "\n"
   ]
  },
  {
   "cell_type": "markdown",
   "metadata": {},
   "source": [
    "## Creating the Model\n",
    "\n",
    "There are two ways we can build a 300 point-neuron version of the L4 model we created in the last chapter.\n",
    "\n",
    "1. <ins>Copy the morphologically detailed model and adjust parameters manually</ins> - If you already built the model you can just copy the files into the _network/_ directory (for simplicity we will use the version without the optional surrounding LIF neurons). This way the cell-positions and connectivity matrix will be exactly the same (otherwise, due to calls to ```np.random```, each time we build the network it is a little different). A number of properties in the _node_types.csv_ and _edge_types.csv_ will need to be adjusted so that BMTK can work with our GLIF models. We can do it in a text editor or even programatically using pandas.\n",
    "\n",
    "\n",
    "2. <ins>Rebuild the model from scratch</ins> - This will involve using the same ```add_nodes()``` and ```add_edges()``` method we used in the previous chapter. Some properties, like **model_type**, **dynamics_params**, **syn_weight** will need to be adjusted to deal with the fact that we are using completely different models. Other properties like **morphology**, **afferent_section_id**, and **rotation_angle_\\*** can be removed completely as they won't apply to point-neurons."
   ]
  },
  {
   "cell_type": "markdown",
   "metadata": {},
   "source": [
    "### 1. Copying an existing model"
   ]
  },
  {
   "cell_type": "markdown",
   "metadata": {},
   "source": [
    "We can copy the previous chapter's network files in the command line:\n",
    "\n",
    "```bash\n",
    "$ mkdir -p network_copied\n",
    "$ cp ../Ch3_multicells/network/* network_copied\n",
    "```\n",
    "\n",
    "Or in the notebook:"
   ]
  },
  {
   "cell_type": "code",
   "execution_count": 2,
   "metadata": {},
   "outputs": [
    {
     "data": {
      "text/plain": [
       "['network_copied/l4_node_types.csv',\n",
       " 'network_copied/l4_l4_edges.h5',\n",
       " 'network_copied/lgn_nodes.h5',\n",
       " 'network_copied/lgn_l4_edges.h5',\n",
       " 'network_copied/lgn_l4_edge_types.csv',\n",
       " 'network_copied/l4_nodes.h5',\n",
       " 'network_copied/lgn_node_types.csv',\n",
       " 'network_copied/l4_l4_edge_types.csv']"
      ]
     },
     "execution_count": 2,
     "metadata": {},
     "output_type": "execute_result"
    }
   ],
   "source": [
    "import os\n",
    "from distutils.dir_util import copy_tree\n",
    "\n",
    "os.makedirs('network_copied', exist_ok=True)\n",
    "copy_tree('../Ch3_multicells/network', 'network_copied')"
   ]
  },
  {
   "cell_type": "markdown",
   "metadata": {},
   "source": [
    "Then we make the appropiate changes to the l4_nodes_types.csv, which we can do in a text editor or using pandas."
   ]
  },
  {
   "cell_type": "code",
   "execution_count": 3,
   "metadata": {},
   "outputs": [
    {
     "data": {
      "text/html": [
       "<div>\n",
       "<style scoped>\n",
       "    .dataframe tbody tr th:only-of-type {\n",
       "        vertical-align: middle;\n",
       "    }\n",
       "\n",
       "    .dataframe tbody tr th {\n",
       "        vertical-align: top;\n",
       "    }\n",
       "\n",
       "    .dataframe thead th {\n",
       "        text-align: right;\n",
       "    }\n",
       "</style>\n",
       "<table border=\"1\" class=\"dataframe\">\n",
       "  <thead>\n",
       "    <tr style=\"text-align: right;\">\n",
       "      <th></th>\n",
       "      <th>node_type_id</th>\n",
       "      <th>ei_type</th>\n",
       "      <th>model_type</th>\n",
       "      <th>dynamics_params</th>\n",
       "      <th>model_template</th>\n",
       "      <th>model_name</th>\n",
       "    </tr>\n",
       "  </thead>\n",
       "  <tbody>\n",
       "    <tr>\n",
       "      <th>0</th>\n",
       "      <td>100</td>\n",
       "      <td>e</td>\n",
       "      <td>point_neuron</td>\n",
       "      <td>Scnn1a_593618144_glif_lif_asc.json</td>\n",
       "      <td>nest:glif_lif_asc_psc</td>\n",
       "      <td>Scnn1a</td>\n",
       "    </tr>\n",
       "    <tr>\n",
       "      <th>1</th>\n",
       "      <td>101</td>\n",
       "      <td>e</td>\n",
       "      <td>point_neuron</td>\n",
       "      <td>Rorb_480124551_glif_lif_asc.json</td>\n",
       "      <td>nest:glif_lif_asc_psc</td>\n",
       "      <td>Rorb</td>\n",
       "    </tr>\n",
       "    <tr>\n",
       "      <th>2</th>\n",
       "      <td>102</td>\n",
       "      <td>e</td>\n",
       "      <td>point_neuron</td>\n",
       "      <td>Nr5a1_318808427_glif_lif_asc.json</td>\n",
       "      <td>nest:glif_lif_asc_psc</td>\n",
       "      <td>Nr5a1</td>\n",
       "    </tr>\n",
       "    <tr>\n",
       "      <th>3</th>\n",
       "      <td>103</td>\n",
       "      <td>i</td>\n",
       "      <td>point_neuron</td>\n",
       "      <td>Pvalb_487667205_glif_lif_asc.json</td>\n",
       "      <td>nest:glif_lif_asc_psc</td>\n",
       "      <td>PValb</td>\n",
       "    </tr>\n",
       "  </tbody>\n",
       "</table>\n",
       "</div>"
      ],
      "text/plain": [
       "   node_type_id ei_type    model_type                     dynamics_params  \\\n",
       "0           100       e  point_neuron  Scnn1a_593618144_glif_lif_asc.json   \n",
       "1           101       e  point_neuron    Rorb_480124551_glif_lif_asc.json   \n",
       "2           102       e  point_neuron   Nr5a1_318808427_glif_lif_asc.json   \n",
       "3           103       i  point_neuron   Pvalb_487667205_glif_lif_asc.json   \n",
       "\n",
       "          model_template model_name  \n",
       "0  nest:glif_lif_asc_psc     Scnn1a  \n",
       "1  nest:glif_lif_asc_psc       Rorb  \n",
       "2  nest:glif_lif_asc_psc      Nr5a1  \n",
       "3  nest:glif_lif_asc_psc      PValb  "
      ]
     },
     "execution_count": 3,
     "metadata": {},
     "output_type": "execute_result"
    }
   ],
   "source": [
    "import pandas as pd\n",
    "\n",
    "node_types_df = pd.read_csv('network_copied/l4_node_types.csv', sep=' ')\n",
    "\n",
    "# remove unnessecarry columns\n",
    "node_types_df = node_types_df.drop(columns=['model_processing', 'morphology', \n",
    "                                            'rotation_angle_xaxis', 'rotation_angle_zaxis'])\n",
    "# change model properties directive\n",
    "node_types_df['model_type'] = 'point_neuron'\n",
    "node_types_df['model_template'] = 'nest:glif_lif_asc_psc'\n",
    "node_types_df = node_types_df.replace({\n",
    "    'Scnn1a_485510712_params.json': 'Scnn1a_593618144_glif_lif_asc.json',\n",
    "    'Rorb_486509958_params.json': 'Rorb_480124551_glif_lif_asc.json',\n",
    "    'Nr5a1_485507735_params.json': 'Nr5a1_318808427_glif_lif_asc.json',\n",
    "    'Pvalb_473862421_params.json': 'Pvalb_487667205_glif_lif_asc.json'\n",
    "})\n",
    "\n",
    "# save \n",
    "node_types_df.to_csv('network_copied/l4_node_types.csv', sep=' ', index=False)\n",
    "\n",
    "node_types_df"
   ]
  },
  {
   "cell_type": "code",
   "execution_count": 4,
   "metadata": {},
   "outputs": [],
   "source": [
    "for et_path in ['network_copied/l4_l4_edge_types.csv', 'network_copied/lgn_l4_edge_types.csv']:\n",
    "    edge_types_df = pd.read_csv(et_path, sep=' ')\n",
    "    edge_types_df['model_template'] = 'static_synapse'\n",
    "    edge_types_df = edge_types_df.replace(\n",
    "        {'dynamics_params': 'AMPA|GABA'}, \n",
    "        {'dynamics_params': 'static'}, \n",
    "        regex=True\n",
    "    )\n",
    "\n",
    "    # Make it easier to change syn_weight by hand, move 'syn_weight' to end \n",
    "    syn_weight = edge_types_df.pop('syn_weight')\n",
    "    edge_types_df['syn_weight'] = '<TBD>'\n",
    "\n",
    "    edge_types_df.to_csv(et_path, sep=' ', index=False)"
   ]
  },
  {
   "cell_type": "markdown",
   "metadata": {},
   "source": [
    "Finally we will want to open our _edge_types.csv_ and modify the **syn_weight** column values. Readjusting synaptic weights when moving from biophysical models to point neuron models, or even between two different model types of the same level, can be very difficult. Although there are some tools in development which may help with parameter optimization of synaptic weights, like [nested](https://github.com/neurosutras/nested), the process often requires a lot of trial-and-error.\n",
    "\n",
    "We will often have to run multiple iterations of different types of simulations on individual neurons and the network and constantly update **syn_weight** until we can get expected firing rates:\n",
    "\n",
    "![](../images/update_syn_weights.png)"
   ]
  },
  {
   "cell_type": "markdown",
   "metadata": {},
   "source": [
    "### 2. Rebuilding the model\n",
    "\n",
    "The following is a modification of the previous build script for our 300 L4 + 100 LGN network, but designed to run in PointNet. Some things to note:\n",
    "\n",
    "* The rules for generating coordinates and creating connections between cells (using tuning angle/distance) are the same as with the biophysical model.\n",
    "\n",
    "\n",
    "* We are no longer using the ```add_properties()``` method to find the sectional placement of the afferent synapse. We still need to know the number of synapses between a source/target pair of cells, but since the cells are just geometric \"points\" there is only one place we can put the synapses. \n",
    "\n",
    "\n",
    "* Our **model_type** will always be \"point_neuron\". For the nodes' **model_template** we can choose from a number of [available NEST cell models](https://nest-simulator.readthedocs.io/en/v3.2/models/index.html) or even build our own, although we will strictly be using the \"glif_psc\" model.\n",
    "\n",
    "\n",
    "* For our edges **model_template** we can also choose from one of the available [built-in synaptic models](https://nest-simulator.readthedocs.io/en/v3.2/models/index_synapse.html) or build our own. For simplicity we will be sticking with the standard \"static_synapse\" with the synaptic properties for each model saved in the _components/synaptic_models/_ directory.\n"
   ]
  },
  {
   "cell_type": "markdown",
   "metadata": {},
   "source": [
    "#### Helper functions"
   ]
  },
  {
   "cell_type": "code",
   "execution_count": 2,
   "metadata": {},
   "outputs": [],
   "source": [
    "import numpy as np\n",
    "\n",
    "\n",
    "def get_coords_column(N, radius_min=0.0, radius_max=400.0):\n",
    "    phi = 2.0 * np.pi * np.random.random([N])\n",
    "    r = np.sqrt((radius_min**2 - radius_max**2) * np.random.random([N]) + radius_max**2)\n",
    "    x = r * np.cos(phi)\n",
    "    y = np.random.uniform(400.0, 500.0, size=N)\n",
    "    z = r * np.sin(phi)\n",
    "    return x, y, z\n",
    "\n",
    "\n",
    "def get_coords_plane(ncells, size_x=240.0, size_y=120.0):\n",
    "    xs = np.random.uniform(0.0, size_x, ncells)\n",
    "    ys = np.random.uniform(0.0, size_y, ncells)\n",
    "    return xs, ys\n",
    "\n",
    "\n",
    "def exc_exc_rule(source, target, max_syns):\n",
    "    \"\"\"Connect rule for exc-->exc neurons, should return an integer 0 or greater. The number of \n",
    "    connections will be weighted according to the difference between source and target cells' \n",
    "    tuning_angle property\"\"\"\n",
    "    if source['node_id'] == target['node_id']:\n",
    "        # prevent a cell from synapsing with itself\n",
    "        return 0\n",
    "    \n",
    "    # calculate the distance between tuning angles and use it to choose\n",
    "    # number of connections using a binomial distribution.\n",
    "    src_tuning = source['tuning_angle']\n",
    "    trg_tuning = target['tuning_angle']\n",
    "    tuning_dist = np.abs((src_tuning - trg_tuning + 180) % 360 - 180)\n",
    "    probs = 1.0 - (np.max((tuning_dist, 10.0)) / 180.0)\n",
    "    return np.random.binomial(n=max_syns, p=probs)\n",
    "\n",
    "\n",
    "def others_conn_rule(source, target, max_syns, max_distance=300.0, sigma=60.0):\n",
    "    \"\"\"Connection rule for exc-->inh, inh-->exc, or inh-->inh connections. The number of connections\n",
    "    will be based on the euclidian distance between source and target cell.\n",
    "    \"\"\"\n",
    "    if source['node_id'] == target['node_id']:\n",
    "        return 0\n",
    "    \n",
    "    dist = np.sqrt((source['x'] - target['x'])**2 + (source['z'] - target['z'])**2)\n",
    "    if dist > max_distance:\n",
    "        return 0\n",
    "    \n",
    "    prob = np.exp(-(dist/sigma)**2)\n",
    "    return np.random.binomial(n=max_syns, p=prob)"
   ]
  },
  {
   "cell_type": "markdown",
   "metadata": {},
   "source": [
    "#### Building the recurrent (l4 --> l4) network"
   ]
  },
  {
   "cell_type": "code",
   "execution_count": 3,
   "metadata": {},
   "outputs": [
    {
     "data": {
      "text/plain": [
       "<bmtk.builder.connection_map.ConnectionMap at 0x7f8feb5ec8b0>"
      ]
     },
     "execution_count": 3,
     "metadata": {},
     "output_type": "execute_result"
    }
   ],
   "source": [
    "from bmtk.builder.networks import NetworkBuilder\n",
    "\n",
    "\n",
    "l4 = NetworkBuilder('l4')\n",
    "\n",
    "# Add nodes\n",
    "x, y, z = get_coords_column(80)\n",
    "l4.add_nodes(\n",
    "    N=80,   \n",
    "    model_type='point_neuron',\n",
    "    model_template='nest:glif_lif_asc_psc',\n",
    "    dynamics_params='Scnn1a_515806250_glif_lif_asc.json',   \n",
    "    x=x, y=y, z=z,\n",
    "    tuning_angle=np.linspace(start=0.0, stop=360.0, num=80, endpoint=False),\n",
    "    model_name='Scnn1a',\n",
    "    ei_type='e'\n",
    ")\n",
    "\n",
    "\n",
    "x, y, z = get_coords_column(80)\n",
    "l4.add_nodes(\n",
    "    N=80,\n",
    "    model_type='point_neuron',\n",
    "    model_template='nest:glif_lif_asc_psc',\n",
    "    dynamics_params='Rorb_512332555_glif_lif_asc.json',\n",
    "    x=x, y=y, z=z,   \n",
    "    model_name='Rorb', \n",
    "    ei_type='e',\n",
    "    tuning_angle=np.linspace(start=0.0, stop=360.0, num=80, endpoint=False),\n",
    ")\n",
    "\n",
    "x, y, z = get_coords_column(80)\n",
    "l4.add_nodes(\n",
    "    N=80,\n",
    "    model_type='point_neuron',\n",
    "    model_template='nest:glif_lif_asc_psc',\n",
    "    dynamics_params='Nr5a1_587862586_glif_lif_asc.json',   \n",
    "    x=x, y=y, z=z,    \n",
    "    model_name='Nr5a1', \n",
    "    ei_type='e',\n",
    "    tuning_angle=np.linspace(start=0.0, stop=360.0, num=80, endpoint=False),\n",
    ")\n",
    "\n",
    "x, y, z = get_coords_column(60)\n",
    "l4.add_nodes(\n",
    "    N=60,   \n",
    "    model_type='point_neuron',\n",
    "    model_template='nest:glif_lif_asc_psc',\n",
    "    dynamics_params='Pvalb_574058595_glif_lif_asc.json',\n",
    "    x=x, y=y, z=z, \n",
    "    model_name='PValb',\n",
    "    ei_type='i',\n",
    ")\n",
    "\n",
    "\n",
    "# Add recurrent edges\n",
    "l4.add_edges(\n",
    "    source=l4.nodes(ei_type='e'),\n",
    "    target=l4.nodes(ei_type='e'),    \n",
    "    connection_rule=exc_exc_rule,\n",
    "    connection_params={'max_syns': 15},\n",
    "    syn_weight=0.7,\n",
    "    delay=2.0,\n",
    "    dynamics_params='static_ExcToExc.json',\n",
    "    model_template='static_synapse',\n",
    ")\n",
    "\n",
    "l4.add_edges(\n",
    "    source=l4.nodes(ei_type='e'),\n",
    "    target=l4.nodes(ei_type='i'),\n",
    "    connection_rule=others_conn_rule,\n",
    "    connection_params={'max_syns': 12},\n",
    "    syn_weight=7.5,\n",
    "    delay=2.0,\n",
    "    dynamics_params='static_ExcToInh.json',\n",
    "    model_template='static_synapse',\n",
    ")\n",
    "\n",
    "l4.add_edges(\n",
    "    source=l4.nodes(ei_type='i'),\n",
    "    target=l4.nodes(ei_type='e'),\n",
    "    connection_rule=others_conn_rule,\n",
    "    connection_params={'max_syns': 14},\n",
    "    syn_weight=-10.5,\n",
    "    delay=2.0,\n",
    "    dynamics_params='static_InhToExc.json',\n",
    "    model_template='static_synapse',\n",
    ")\n",
    "\n",
    "l4.add_edges(\n",
    "    source=l4.nodes(ei_type='i'),\n",
    "    target=l4.nodes(ei_type='i'),\n",
    "    connection_rule=others_conn_rule,\n",
    "    connection_params={'max_syns': 14},\n",
    "    syn_weight=-2.0,\n",
    "    delay=2.0,\n",
    "    dynamics_params='static_InhToInh.json',\n",
    "    model_template='static_synapse',\n",
    ")\n"
   ]
  },
  {
   "cell_type": "code",
   "execution_count": 4,
   "metadata": {},
   "outputs": [],
   "source": [
    "l4.build()\n",
    "l4.save(output_dir='network')"
   ]
  },
  {
   "cell_type": "markdown",
   "metadata": {},
   "source": [
    "#### Building feedforward  (lgn --> l4) inputs\n",
    "\n",
    "Now we can build our network of \"virtual\" LGN cells and connect them to the L4 network."
   ]
  },
  {
   "cell_type": "code",
   "execution_count": 5,
   "metadata": {},
   "outputs": [],
   "source": [
    "def connect_lgn_cells(source, targets, max_targets, min_syns=1, max_syns=15, lgn_size=(240, 120),\n",
    "                      l4_radius=400.0, ellipse=(100.0, 500.0)):\n",
    "    # map the lgn cells from the plane to the circle\n",
    "    x, y = source['x'], source['y']\n",
    "    x = x / lgn_size[0] - 0.5\n",
    "    y = y / lgn_size[1] - 0.5\n",
    "    src_x = x * np.sqrt(1.0 - (y**2/2.0)) * l4_radius\n",
    "    src_y = y * np.sqrt(1.0 - (x**2/2.0)) * l4_radius\n",
    "\n",
    "    # Find (the indices) of all the target cells that are within the given ellipse, if there are more than max_targets\n",
    "    # then randomly choose them\n",
    "    a, b = ellipse[0]**2, ellipse[1]**2\n",
    "    dists = [(src_x-t['x'])**2/a + (src_y-t['y'])**2/b for t in targets]\n",
    "    valid_targets = np.argwhere(np.array(dists) <= 1.0).flatten()\n",
    "    if len(valid_targets) > max_targets:\n",
    "        valid_targets = np.random.choice(valid_targets, size=max_targets, replace=False)\n",
    "\n",
    "    # create an array of all synapse count. Most targets will have 0 connection, except for the \"valid_targets\" which\n",
    "    # will have between [min_syns, max_syns] number of connections.\n",
    "    nsyns_arr = np.zeros(len(targets), dtype=np.int)\n",
    "    for idx in valid_targets:\n",
    "        nsyns_arr[idx] = np.random.randint(min_syns, max_syns)\n",
    "\n",
    "    return nsyns_arr"
   ]
  },
  {
   "cell_type": "code",
   "execution_count": 6,
   "metadata": {},
   "outputs": [
    {
     "data": {
      "text/plain": [
       "<bmtk.builder.connection_map.ConnectionMap at 0x7f8feb5b40a0>"
      ]
     },
     "execution_count": 6,
     "metadata": {},
     "output_type": "execute_result"
    }
   ],
   "source": [
    "lgn = NetworkBuilder('lgn')\n",
    "\n",
    "# Build Nodes\n",
    "x, y = get_coords_plane(50)\n",
    "lgn.add_nodes(\n",
    "    N=50,\n",
    "    x=x,\n",
    "    y=y,\n",
    "    model_type='virtual',\n",
    "    model_template='lgnmodel:tON_TF8',\n",
    "    dynamics_params='tON_TF8_demo.json',\n",
    "    ei_type='e'\n",
    ")\n",
    "\n",
    "x, y = get_coords_plane(50)\n",
    "lgn.add_nodes(\n",
    "    N=50,\n",
    "    x=x,\n",
    "    y=y,\n",
    "    model_type='virtual',\n",
    "    model_template='lgnmodel:tOFF_TF8',\n",
    "    dynamics_params='tOFF_TF8_demo.json',\n",
    "    ei_type='e'\n",
    ")\n",
    "\n",
    "# Build Edges\n",
    "lgn.add_edges(\n",
    "    source=lgn.nodes(),\n",
    "    target=l4.nodes(ei_type='e'),\n",
    "    connection_rule = connect_lgn_cells,\n",
    "    connection_params = {'max_targets': 6},\n",
    "    iterator='one_to_all',\n",
    "    model_template='static_synapse',\n",
    "    dynamics_params='static_ExcToExc.json',\n",
    "    delay=2.0,\n",
    "    syn_weight=11.0\n",
    ")\n",
    "\n",
    "lgn.add_edges(\n",
    "    source=lgn.nodes(),\n",
    "    target=l4.nodes(ei_type='i'),\n",
    "    connection_rule=connect_lgn_cells,\n",
    "    connection_params={'max_targets': 12, 'ellipse': (400.0, 400.0)},\n",
    "    iterator='one_to_all',\n",
    "    model_template='static_synapse',\n",
    "    dynamics_params='static_ExcToInh.json',\n",
    "    delay=2.0,\n",
    "    syn_weight=13.0\n",
    ")\n"
   ]
  },
  {
   "cell_type": "code",
   "execution_count": 7,
   "metadata": {},
   "outputs": [
    {
     "name": "stderr",
     "output_type": "stream",
     "text": [
      "/tmp/ipykernel_183019/3000517216.py:20: DeprecationWarning:`np.int` is a deprecated alias for the builtin `int`. To silence this warning, use `int` by itself. Doing this will not modify any behavior and is safe. When replacing `np.int`, you may wish to use e.g. `np.int64` or `np.int32` to specify the precision. If you wish to review your current use, check the release note link for additional information.\n",
      "Deprecated in NumPy 1.20; for more details and guidance: https://numpy.org/devdocs/release/1.20.0-notes.html#deprecations\n"
     ]
    }
   ],
   "source": [
    "lgn.build()\n",
    "lgn.save(output_dir='network')"
   ]
  },
  {
   "cell_type": "markdown",
   "metadata": {},
   "source": [
    "__[SUGGESTION: Visualize in VND]__"
   ]
  },
  {
   "cell_type": "markdown",
   "metadata": {},
   "source": [
    "### Inputs for LGN\n",
    "\n",
    "As before we need to provide inputs for our LGN \"virtual\" cells. We could use the ```bmtk.utils.reports.spike_trains.PoissonSpikeGenerator``` object as was done before. But since the spike-files are the same for BioNet and PointNet we can just copy the existing lgn-spikes:\n"
   ]
  },
  {
   "cell_type": "code",
   "execution_count": 8,
   "metadata": {},
   "outputs": [
    {
     "data": {
      "text/plain": [
       "'inputs/lgn_spikes.h5'"
      ]
     },
     "execution_count": 8,
     "metadata": {},
     "output_type": "execute_result"
    }
   ],
   "source": [
    "import os\n",
    "import shutil\n",
    "\n",
    "os.makedirs('inputs', exist_ok=True)\n",
    "shutil.copy('../Ch3_multicells/inputs/lgn_spikes.h5', 'inputs')"
   ]
  },
  {
   "cell_type": "markdown",
   "metadata": {},
   "source": [
    "### Setting up the environment\n",
    "\n",
    "As before we need to initialize the simulation directory, including configuration files, python run scripts, and the model file components. We've already set this up for you. But if running a PointNet simulation from scratch the following can help using the sim_setup helper functions - either through the command line:\n",
    "\n",
    "```bash\n",
    "$ python -m bmtk.utils.sim_setup          \\\n",
    "    --config-file config.json             \\\n",
    "    --network_dir network                 \\\n",
    "    --tstop 5000.0                        \\\n",
    "    --dt 0.1                              \\\n",
    "    --report-vars=['V_m'] \n",
    "    pointnet .\n",
    "```\n",
    "\n",
    "or through python:\n",
    "\n",
    "```python\n",
    "from bmtk.utils.sim_setup import build_env_pointnet\n",
    "\n",
    "build_env_pointnet(\n",
    "    base_dir='.',      \n",
    "    network_dir='network',\n",
    "    tstop=5000.0, \n",
    "    dt=0.1,\n",
    "    report_vars=['V_m'],\n",
    "    spikes_inputs=[('lgn', 'inputs/lgn_spikes.h5')],\n",
    ")\n",
    "```"
   ]
  },
  {
   "cell_type": "markdown",
   "metadata": {},
   "source": [
    "### Running the Simulation\n",
    "\n",
    "We can run our GLIF version of the L4 network through the command line:\n",
    "\n",
    "```bash\n",
    "$ python run_pointnet.py config.simulation.json\n",
    "```\n",
    "\n",
    "We can use MPI to run the simulation on multiple cores:\n",
    "```bash\n",
    "$ mpirun -np N python run_pointnet.py config.simulation.json\n",
    "```\n",
    "\n",
    "or to run it in the notebook:"
   ]
  },
  {
   "cell_type": "code",
   "execution_count": 9,
   "metadata": {},
   "outputs": [
    {
     "name": "stdout",
     "output_type": "stream",
     "text": [
      "2022-07-07 14:50:06,120 [INFO] Created log file\n",
      "2022-07-07 14:50:06,142 [INFO] Batch processing nodes for l4/0.\n",
      "2022-07-07 14:50:06,143 [INFO] Batch processing nodes for l4/1.\n",
      "2022-07-07 14:50:06,154 [INFO] Batch processing nodes for lgn/0.\n",
      "2022-07-07 14:50:06,178 [INFO] Setting up output directory\n",
      "2022-07-07 14:50:06,180 [INFO] Building cells.\n",
      "2022-07-07 14:50:06,190 [INFO] Building recurrent connections\n",
      "2022-07-07 14:50:06,241 [INFO] Build virtual cell stimulations for lgn_spikes\n",
      "2022-07-07 14:50:06,307 [INFO] Network created.\n",
      "2022-07-07 14:50:06,436 [INFO] Starting Simulation\n",
      "2022-07-07 14:50:17,950 [INFO] Simulation finished, finalizing results.\n",
      "2022-07-07 14:50:20,316 [INFO] Done.\n"
     ]
    }
   ],
   "source": [
    "from bmtk.simulator import pointnet\n",
    "\n",
    "configure = pointnet.Config.from_json('config.simulation.json')\n",
    "configure.build_env()\n",
    "\n",
    "network = pointnet.PointNetwork.from_config(configure)\n",
    "sim = pointnet.PointSimulator.from_config(configure, network)\n",
    "sim.run()"
   ]
  },
  {
   "cell_type": "code",
   "execution_count": 10,
   "metadata": {},
   "outputs": [
    {
     "data": {
      "image/png": "[encoded data removed]",
      "text/plain": [
       "<Figure size 432x288 with 2 Axes>"
      ]
     },
     "metadata": {
      "needs_background": "light"
     },
     "output_type": "display_data"
    }
   ],
   "source": [
    "from bmtk.analyzer.spike_trains import plot_raster\n",
    "\n",
    "_ = plot_raster(config_file='config.simulation.json', group_by='model_name', show=False)"
   ]
  },
  {
   "cell_type": "markdown",
   "metadata": {},
   "source": [
    "__[SUGGESTION: Plot Activity in VND]__"
   ]
  },
  {
   "cell_type": "markdown",
   "metadata": {},
   "source": [
    "## [OPTIONAL] GLIF Models Deep Dive\n",
    "\n",
    "__[SUGGESTION: It might be worth going over the GLIF models and their options?]__"
   ]
  },
  {
   "cell_type": "markdown",
   "metadata": {},
   "source": [
    "## (Optional) PopNet\n",
    "\n",
    "We've already built a version of our L4 model using multi-compartment biophysically detailed cells in NEURON (BioNet) and point-neuron GLIF-based models in NEST (PointNet). BMTK includes a third simulator engine called PopNet which can be used to simulate population level firing rates using the DiPDE tool.\n",
    "\n",
    "As before we have two options for building our GLIF Model:\n",
    "1. Build from scratch using BMTK's NetworkBuilder\n",
    "2. Copy an existing biophysical/point model and modify the node-types and edge type params\n"
   ]
  },
  {
   "cell_type": "markdown",
   "metadata": {},
   "source": [
    "### Building PopNet version of the L4 Model\n",
    "Some things to take note:\n",
    "* Populations don't have individual cells so essentially we need **N**=1, which is the same as using the default option.\n",
    "* For **model_type** we want to use option 'population'.\n",
    "* Unlike with the Biophysical and GLIF model, there are no optimized DiPDE/PopNet models in the Allen-Cell Types database. Instead we need to build the **dynamics_params** parameter files from scratch (we'll briefly explain the options available).\n",
    "* There are only two types of **model_templates** for DiPDE/PopNet - \"Internal\" and \"External\" (equivalent to virtual cells). \n"
   ]
  },
  {
   "cell_type": "code",
   "execution_count": 11,
   "metadata": {},
   "outputs": [],
   "source": [
    "from bmtk.builder import NetworkBuilder\n",
    "\n",
    "\n",
    "# Create and Build the L4 model\n",
    "l4 = NetworkBuilder('l4')\n",
    "l4.add_nodes(\n",
    "    model_name='Scnn1a',\n",
    "    ei_type='e',\n",
    "    model_type='population',\n",
    "    model_template='dipde:Internal',\n",
    "    dynamics_params='Scnn1a_pop_model.json'\n",
    ")\n",
    "\n",
    "l4.add_nodes(\n",
    "    model_name='Rorb',\n",
    "    ei_type='e',\n",
    "    model_type='population',\n",
    "    model_template='dipde:Internal',\n",
    "    dynamics_params='Rorb_pop_model.json'\n",
    ")\n",
    "\n",
    "l4.add_nodes(\n",
    "    model_name='Nr5a1',\n",
    "    ei_type='e',\n",
    "    model_type='population',\n",
    "    model_template='dipde:Internal',\n",
    "    dynamics_params='Nr5a1_pop_model.json'\n",
    ")\n",
    "\n",
    "l4.add_nodes(\n",
    "    model_name='Pvalb',\n",
    "    ei_type='i',\n",
    "    model_type='population',\n",
    "    model_template='dipde:Internal',\n",
    "    dynamics_params='Pvalb_pop_model.json'\n",
    ")\n",
    "\n",
    "\n",
    "# Recurrently connect internal populations\n",
    "def exc_exc_conns(source, target):\n",
    "    if source['node_id'] == target['node_id']:\n",
    "        return 0\n",
    "    else:\n",
    "        return 2\n",
    "\n",
    "\n",
    "l4.add_edges(\n",
    "    source={'ei_type': 'e'}, target={'ei_type': 'e'},\n",
    "    syn_weight=0.01,\n",
    "    connection_rule=exc_exc_conns,\n",
    "    delay=0.002,\n",
    "    dynamics_params='dipde_ExcToInh.json'\n",
    "\n",
    ")\n",
    "\n",
    "l4.add_edges(\n",
    "    source={'ei_type': 'e'}, target={'ei_type': 'i'},\n",
    "    syn_weight=0.005,\n",
    "    nsyns=20,\n",
    "    delay=0.002,\n",
    "    dynamics_params='dipde_ExcToInh.json'\n",
    ")\n",
    "\n",
    "l4.add_edges(\n",
    "    source={'ei_type': 'i'}, target={'ei_type': 'e'},\n",
    "    syn_weight=-0.002,\n",
    "    nsyns=10,\n",
    "    delay=0.002,\n",
    "    dynamics_params='dipde_InhToExc.json'\n",
    ")\n",
    "\n",
    "l4.build()\n",
    "l4.save(output_dir='network_popnet')"
   ]
  },
  {
   "cell_type": "markdown",
   "metadata": {},
   "source": [
    "Now for our LGN cells:"
   ]
  },
  {
   "cell_type": "code",
   "execution_count": 12,
   "metadata": {},
   "outputs": [],
   "source": [
    "lgn = NetworkBuilder('lgn')\n",
    "lgn.add_nodes(\n",
    "    pop_name='tON',\n",
    "    ei='e',\n",
    "    model_type='virtual',\n",
    "    model_template='dipde:External'\n",
    ")\n",
    "\n",
    "# Connect external pop to internal pops\n",
    "lgn.add_edges(\n",
    "    source=lgn.nodes(),\n",
    "    target=l4.nodes(),\n",
    "    syn_weight=0.0025,\n",
    "    nsyns=10,\n",
    "    delay=0.002,\n",
    "    dynamics_params='dipde_ExcToExc.json'\n",
    ")\n",
    "\n",
    "lgn.build()\n",
    "lgn.save(output_dir='network_popnet')"
   ]
  },
  {
   "cell_type": "markdown",
   "metadata": {},
   "source": [
    "### Setting up the environment\n",
    "\n",
    "We can again use our helper function either through the command line\n",
    "\n",
    "```bash\n",
    " $ python -m bmtk.utils.sim_setup                     \\\n",
    "     --config-file config.simulation_popnet.json      \\\n",
    "     --network network_popnet                         \\\n",
    "     --tstop 2000.0                                   \\\n",
    "     popnet .\n",
    "```\n",
    "\n",
    "or in python\n",
    "```python\n",
    "from bmtk.utils.sim_setup import build_env_popnet\n",
    "\n",
    "build_env_popnet(\n",
    "    base_dir='.',      \n",
    "    network_dir='network_popnet',\n",
    "    tstop=3000.0\n",
    ")\n",
    "```\n",
    "\n",
    "#### Inputs\n",
    "\n",
    "Unlike BioNet and PointNet, PopNet is not a spiking simulator and instead records the changes in firing-rates. As such the inputs to the LGN External files are not expecting individual spike-train files, but rather a list of firing rates for the External populations (currently firing rates must be constant, not time varying).\n",
    "\n",
    "| node_id | firing_rate |\n",
    "|---------|-------------|\n",
    "| 100     | 15.0        |\n",
    "\n",
    "\n",
    "And the \"inputs\" section of the config file should look like the following:\n",
    "\n",
    "![](../images/popnet_config_inputs.png)"
   ]
  },
  {
   "cell_type": "markdown",
   "metadata": {},
   "source": [
    "We can run the PopNet simulation in either command-line:\n",
    "\n",
    "```bash\n",
    "$ python run_popnet.py config.simulation_popnet.json\n",
    "```\n",
    "\n",
    "or in the notebook:"
   ]
  },
  {
   "cell_type": "code",
   "execution_count": 14,
   "metadata": {},
   "outputs": [
    {
     "name": "stdout",
     "output_type": "stream",
     "text": [
      "2022-07-07 14:51:49,124 [INFO] Created log file\n",
      "2022-07-07 14:51:49,169 [INFO] Building cells.\n",
      "2022-07-07 14:51:49,170 [INFO] Building recurrent connections\n",
      "2022-07-07 14:51:49,190 [INFO] Build virtual cell stimulations for lgn_pop_rates\n",
      "2022-07-07 14:51:49,210 [INFO] Network created.\n",
      "2022-07-07 14:51:49,211 [INFO] Running simulation.\n",
      "2022-07-07 14:52:05,573 [INFO] Finished simulation.\n"
     ]
    }
   ],
   "source": [
    "from bmtk.simulator import popnet\n",
    "\n",
    "configure = popnet.config.from_json('config.simulation_popnet.json')\n",
    "configure.build_env()\n",
    "\n",
    "network = popnet.PopNetwork.from_config(configure)\n",
    "sim = popnet.PopSimulator.from_config(configure, network)\n",
    "sim.run()"
   ]
  },
  {
   "cell_type": "code",
   "execution_count": 15,
   "metadata": {},
   "outputs": [
    {
     "data": {
      "image/png": "[encoded data removed]",
      "text/plain": [
       "<Figure size 432x288 with 1 Axes>"
      ]
     },
     "metadata": {
      "needs_background": "light"
     },
     "output_type": "display_data"
    }
   ],
   "source": [
    "from bmtk.analyzer.firing_rates import plot_rates_popnet\n",
    "\n",
    "plot_rates_popnet(\n",
    "    cell_models_file='network_popnet/l4_node_types.csv', \n",
    "    rates_file='output_popnet/spike_rates.csv', \n",
    "    model_keys='model_name'\n",
    ")"
   ]
  },
  {
   "cell_type": "code",
   "execution_count": null,
   "metadata": {},
   "outputs": [],
   "source": []
  }
 ],
 "metadata": {
  "kernelspec": {
   "display_name": "Python 3 (ipykernel)",
   "language": "python",
   "name": "python3"
  },
  "language_info": {
   "codemirror_mode": {
    "name": "ipython",
    "version": 3
   },
   "file_extension": ".py",
   "mimetype": "text/x-python",
   "name": "python",
   "nbconvert_exporter": "python",
   "pygments_lexer": "ipython3",
   "version": "3.8.10"
  }
 },
 "nbformat": 4,
 "nbformat_minor": 4
}

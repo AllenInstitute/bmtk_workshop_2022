{
 "cells": [
  {
   "cell_type": "markdown",
   "metadata": {},
   "source": [
    "# 3. Multicell population\n",
    "\n",
    "In the last chapter we showed how to build, setup and run a full simulation from scratch of a network consisting of only one cell. This time we build and simulate a network of hundreds of cells across multiple cell-types. As we will see the procedure is much the same for building a heterogeneous network of hundreds of cells as it is for a single cell-network. \n"
   ]
  },
  {
   "cell_type": "markdown",
   "metadata": {},
   "source": [
    "## Building the Network Model\n",
    "\n",
    "First step is to determine what \"Cell Types\" models we want to use in our network, both in terms of the population make-up of the network, and if we are going to create new model files/parameters or incorpate exsting ones. In SONATA and BioNet we have the option of incorporating NEURON hoc code and templates, as well as NeuroML files. Thus we could download our cell models from places like ModelDB or The Blue Brain Project. But for this tutorial we will stick to the [Allen Cell-Types Database](https://celltypes.brain-map.org/data).\n",
    "\n",
    "We will want to use the Allen Cell-Types Feature Seach to select a certain number of cell-types as we did in the [last tutorial](http://localhost:32001/notebooks/Ch2_single_cell/2.%20Single%20Cell.ipynb#Choosing-your-cell-models). We've already selected and downloaded them for you and placed them in the _components/_ directory. But if you want to choose your own cell models remember that since we are trying to simulate them as biophysically realistic models that it has a morphology (\"Reconstruction Type\": \"Full\") and a Biophysical model (either \"All-activate\" or \"Perisomatic\").\n"
   ]
  },
  {
   "cell_type": "markdown",
   "metadata": {},
   "source": [
    "##### Building Cells\n",
    "\n",
    "![](../images/builder_add_edges.png)\n",
    "\n",
    "For our example we will build a scaled down model of the mouse L4 primary visual cortex. Using the Allen Cell-Types Database we identified 3 different excitatory type cells and one inhibitory type found in the mouse L4. To make the simulation efficient enough to run on a single processor in a reasonable amount of time we will only be modeling 300 individual biophysically detailed cells. To keep the ratio realistic we will want have 80% excitatory and 20% excitatory.  \n",
    "\n",
    "We will start by creating a node population and start adding nodes"
   ]
  },
  {
   "cell_type": "code",
   "execution_count": 1,
   "metadata": {},
   "outputs": [],
   "source": [
    "import numpy as np\n",
    "\n",
    "def get_coords(N, radius_min=0.0, radius_max=400.0):\n",
    "    phi = 2.0 * np.pi * np.random.random([N])\n",
    "    r = np.sqrt((radius_min**2 - radius_max**2) * np.random.random([N]) + radius_max**2)\n",
    "    x = r * np.cos(phi)\n",
    "    y = np.random.uniform(400.0, 500.0, size=N)\n",
    "    z = r * np.sin(phi)\n",
    "    return x, y, z\n",
    "    "
   ]
  },
  {
   "cell_type": "code",
   "execution_count": 3,
   "metadata": {},
   "outputs": [],
   "source": [
    "from bmtk.builder.networks import NetworkBuilder\n",
    "\n",
    "\n",
    "l4 = NetworkBuilder('l4')\n",
    "\n",
    "x, y, z = get_coords(80)\n",
    "assert(len(x) == len(y) == len(z) == 80)\n",
    "l4.add_nodes(\n",
    "    N=80,\n",
    "    \n",
    "    # Reserved SONATA keywords used during simulation\n",
    "    model_type='biophysical',\n",
    "    model_template='ctdb:Biophys1.hoc',\n",
    "    model_processing='aibs_perisomatic',\n",
    "    dynamics_params='Scnn1a_485510712_params.json',\n",
    "    morphology='Scnn1a_485510712_morphology.swc',\n",
    "    \n",
    "    # The x, y, z locations of each cell in a column and rotation\n",
    "    x=x,\n",
    "    y=y,\n",
    "    z=z,\n",
    "    rotation_angle_xaxis=np.random.uniform(0.0, 2*np.pi, size=80),\n",
    "    rotation_angle_yaxis=np.random.uniform(0.0, 2*np.pi, size=80),\n",
    "    rotation_angle_zaxis=3.646878266,\n",
    "    \n",
    "    # Optional parameters\n",
    "    tuning_angle=np.linspace(start=0.0, stop=360.0, num=80, endpoint=False),\n",
    "    model_name='Scnn1a',\n",
    "    ei_type='e'\n",
    ")\n"
   ]
  },
  {
   "cell_type": "markdown",
   "metadata": {},
   "source": [
    "We call our network \"l4\" and start off by creating a subpopulation of \"Scnn1a\" type cells using the ```add_nodes()``` method:\n",
    "\n",
    "* By setting __N__=80 we are creating 80 individual Scnn1a type cells. \n",
    "\n",
    "* Properties **model_type**, **model_template**, and **model_processing** are directives to indicate to BMTK that we are building Allen-Cell Type Perisomatic model. Whereas **dynamics_params** and **morphology** refer to the electrophyiology and morphology files we downloaded from the Allen Cell-Types Databases.\n",
    "\n",
    "* Next we set the coordinates and rotation angles for indivdiual cells. Note that for **x**, **y**, **z**, **rotation_angle_axis**, and **rotation_angle_yaxis** we are passing in lists of size **N** so that each coordinate in unique to each cell.\n",
    "\n",
    "* Finally we add optional attributes and metadata germaine to our Visual L4 model. "
   ]
  },
  {
   "cell_type": "markdown",
   "metadata": {},
   "source": [
    "\n",
    "### [SIDE-TRACK]: Node-Type vs Node Properties\n",
    "---\n",
    "---\n",
    "In SONATA, every node-type (or cell-type) will contain one or more individual nodes (or cells). Certain properties will have values that are same and shared by every indivdidual node, while other properties will have unique values for each cell. Whether or not a property is shared or unique will change how they are stored in the format.\n",
    "\n",
    "In the BMTK NetworkBuilder, we can use strings, numbers, boolean and other non-list values to set a value as being \"shared\". It will also recognize python tuples as being \"shared\" cell-type properties. Thus\n",
    "\n",
    "```python\n",
    "net.add_nodes(\n",
    "    N=100,\n",
    "    prop_A='shared',\n",
    "    prop_B=2.71828,\n",
    "    prop_C=('foo', 'bar')\n",
    "    ...\n",
    "```\n",
    "All 100 individual cells will share the values of **prop_A**, **prop_B**, and **prop_C**.\n",
    "\n",
    "\n",
    "If we want to assign unique values for each indivdiual node we should pass in either a list, array, generator or range value\n",
    "\n",
    "```python\n",
    "net.add_nodes(\n",
    "    N=100,\n",
    "    prop_D=['unique']*100,\n",
    "    prop_B=np.random.uniform(0, 1.0, size=100),\n",
    "    prop_C=range(0, 100)\n",
    "    ...\n",
    "```\n",
    "---\n",
    "---\n",
    "\n",
    "We will continue on building the other nodes in much the same way by making additional calls to ```add_nodes()```"
   ]
  },
  {
   "cell_type": "code",
   "execution_count": 4,
   "metadata": {},
   "outputs": [],
   "source": [
    "x, y, z = get_coords(80)\n",
    "l4.add_nodes(\n",
    "    # Rorb excitatory cells\n",
    "    N=80,\n",
    "    model_type='biophysical',\n",
    "    model_template='ctdb:Biophys1.hoc',\n",
    "    dynamics_params='Rorb_486509958_params.json',\n",
    "    morphology='Rorb_486509958_morphology.swc',\n",
    "    model_processing='aibs_perisomatic',\n",
    "    \n",
    "    x=x, y=y, z=z,   \n",
    "    rotation_angle_xaxis=np.random.uniform(0.0, 2*np.pi, size=80),\n",
    "    rotation_angle_yaxis=np.random.uniform(0.0, 2*np.pi, size=80),\n",
    "    rotation_angle_zaxis=4.159763785,\n",
    "    \n",
    "    model_name='Rorb', \n",
    "    ei_type='e',\n",
    "    tuning_angle=np.linspace(start=0.0, stop=360.0, num=80, endpoint=False),\n",
    ")\n",
    "\n",
    "x, y, z = get_coords(80)\n",
    "l4.add_nodes(\n",
    "    # Nr5a1 excitatory cells\n",
    "    N=80,\n",
    "    model_type='biophysical',\n",
    "    model_template='ctdb:Biophys1.hoc',\n",
    "    dynamics_params='Nr5a1_485507735_params.json',\n",
    "    morphology='Nr5a1_485507735_morphology.swc',\n",
    "    model_processing='aibs_perisomatic',\n",
    "    \n",
    "    x=x, y=y, z=z,    \n",
    "    rotation_angle_xaxis=np.random.uniform(0.0, 2*np.pi, size=80),\n",
    "    rotation_angle_yaxis=np.random.uniform(0.0, 2*np.pi, size=80),\n",
    "    rotation_angle_zaxis=4.159763785,\n",
    "    \n",
    "    model_name='Nr5a1', \n",
    "    ei_type='e',\n",
    "    tuning_angle=np.linspace(start=0.0, stop=360.0, num=80, endpoint=False),\n",
    ")\n",
    "\n",
    "x, y, z = get_coords(60)\n",
    "l4.add_nodes(\n",
    "    # Parvalbuim inhibitory cells, note these don't have a tuning angle and ei=i\n",
    "    N=60, \n",
    "    \n",
    "    model_type='biophysical',\n",
    "    model_template='ctdb:Biophys1.hoc',\n",
    "    dynamics_params='Pvalb_473862421_params.json',\n",
    "    morphology='Pvalb_473862421_morphology.swc',\n",
    "    model_processing='aibs_perisomatic',\n",
    "    \n",
    "    x=x, y=y, z=z, \n",
    "    rotation_angle_xaxis=np.random.uniform(0.0, 2*np.pi, size=60),\n",
    "    rotation_angle_yaxis=np.random.uniform(0.0, 2*np.pi, size=60),\n",
    "    rotation_angle_zaxis=2.539551891,\n",
    "    \n",
    "    model_name='PValb',\n",
    "    ei_type='i',\n",
    ")\n",
    "\n",
    "# l4.build()\n"
   ]
  },
  {
   "cell_type": "markdown",
   "metadata": {},
   "source": [
    "**Note** that in our last call to ```add_nodes()``` we no skipped the **tuning_angle** property. The **tuning_angle** is a attribute that can be seen in exictatory L4 neurons, but not in inhibitory neurons. BMTK and SONATA gives us the option to have different properities to different node-types even in the same network.  "
   ]
  },
  {
   "cell_type": "markdown",
   "metadata": {},
   "source": [
    "__[SUGGESTION: Visuailze the cells in VND. Maybe have them adjust the coordinates function and rotation angle]__\n",
    "\n",
    "```python\n",
    "l4.build()\n",
    "l4.save_nodes(output_dir='network')\n",
    "```"
   ]
  },
  {
   "cell_type": "markdown",
   "metadata": {},
   "source": [
    "#### Building Connections\n",
    "\n",
    "![](../images/builder_add_edges.png)\n",
    "\n",
    "\n",
    "We can now start creating the rules for recurrent connections. Like with \"Node Types\" we can start by using the ```add_edges()``` method to create multiple \"Edge Types\". However, instead of passing in an integer for the total number of individual edges/synapses, ```add_edges()``` requires that we pass in at minimum:\n",
    "1. A filter or list for the subset of nodes to use as _sources_/_pre-synaptic cells_\n",
    "2. A filter or list for the subset of nodes to use as _targets_/_post-synpatic cells_.\n",
    "3. A rule for how to many connections/edges between each source and target cell.\n",
    "\n",
    "For example we want to create an Edge Type that connects all the exciatory type cells to other excitatory cells, where the number of connections is weighted according to their **tuning_angle** property. In this case the **connection_rule** is a function that takes in source and target cell (whose properties can be accessed like a regular python dictionary) and should return an integer 0 or greater. When ```l4.build()``` is called BMTK will utilize this function for all valid source/target pairs of cells.  "
   ]
  },
  {
   "cell_type": "code",
   "execution_count": 5,
   "metadata": {},
   "outputs": [],
   "source": [
    "def exc_exc_rule(source, target, max_syns):\n",
    "    \"\"\"Connect rule for exc-->exc neurons, should return an integer 0 or greater\"\"\"\n",
    "    if source['node_id'] == target['node_id']:\n",
    "        # prevent a cell from synapsing with itself\n",
    "        return 0\n",
    "    \n",
    "    # calculate the distance between tuning angles and use it to choose\n",
    "    # number of connections using a binomial distribution.\n",
    "    src_tuning = source['tuning_angle']\n",
    "    trg_tuning = target['tuning_angle']\n",
    "    tuning_dist = np.abs((src_tuning - trg_tuning + 180) % 360 - 180)\n",
    "    probs = 1.0 - (np.max((tuning_dist, 10.0)) / 180.0)\n",
    "    return np.random.binomial(n=max_syns, p=probs)\n",
    "\n",
    "\n",
    "conns = l4.add_edges(\n",
    "    # filter for subpopulation or source and target nodes\n",
    "    source=l4.nodes(ei_type='e'),\n",
    "    target=l4.nodes(ei_type='e'),\n",
    "    \n",
    "    # connection function + any required parameters\n",
    "    connection_rule=exc_exc_rule,\n",
    "    connection_params={'max_syns': 15},\n",
    "    \n",
    "    # edge-type parameters\n",
    "    syn_weight=3.0e-05,\n",
    "    delay=2.0,\n",
    "    dynamics_params='AMPA_ExcToExc.json',\n",
    "    model_template='Exp2Syn',\n",
    ")"
   ]
  },
  {
   "cell_type": "markdown",
   "metadata": {},
   "source": [
    "The properties **syn_weight**, **delay**, **dynamics_params**, and **model_template** are all edge-type properties whose values are shared by every edge/synapse of this type. Like with nodes, we can add properties that are unique for every edge/synapse. But unlike the add_nodes() method, we can't just pass in list of size M to ```add_edges()``` (since we won't know how many individual edges the network contains until the connectivity matrix has been calculated).\n",
    "\n",
    "Instead, to add unique properties to individual edges we will call the ```add_properties()``` method. For instance we want to utilize SONATA reserved keys _afferent_section_id_ and _afferent_swc_id_ which will allow us place the synpase locations on the morphology and display them in VND."
   ]
  },
  {
   "cell_type": "code",
   "execution_count": 6,
   "metadata": {},
   "outputs": [
    {
     "name": "stderr",
     "output_type": "stream",
     "text": [
      "/tmp/ipykernel_192785/2337534219.py:11: DeprecationWarning: `np.int` is a deprecated alias for the builtin `int`. To silence this warning, use `int` by itself. Doing this will not modify any behavior and is safe. When replacing `np.int`, you may wish to use e.g. `np.int64` or `np.int32` to specify the precision. If you wish to review your current use, check the release note link for additional information.\n",
      "Deprecated in NumPy 1.20; for more details and guidance: https://numpy.org/devdocs/release/1.20.0-notes.html#deprecations\n",
      "  dtypes=[np.int, np.float, np.int, np.float]\n",
      "/tmp/ipykernel_192785/2337534219.py:11: DeprecationWarning: `np.float` is a deprecated alias for the builtin `float`. To silence this warning, use `float` by itself. Doing this will not modify any behavior and is safe. If you specifically wanted the numpy scalar type, use `np.float64` here.\n",
      "Deprecated in NumPy 1.20; for more details and guidance: https://numpy.org/devdocs/release/1.20.0-notes.html#deprecations\n",
      "  dtypes=[np.int, np.float, np.int, np.float]\n"
     ]
    }
   ],
   "source": [
    "from bmtk.builder.bionet import rand_syn_locations\n",
    "\n",
    "conns.add_properties(\n",
    "    ['afferent_section_id', 'afferent_section_pos', 'afferent_swc_id', 'afferent_swc_pos'],\n",
    "    rule=rand_syn_locations,\n",
    "    rule_params={\n",
    "        'sections': ['basal', 'apical'], \n",
    "        'distance_range': [30.0, 150.0],\n",
    "        'morphology_dir': 'components/morphologies' \n",
    "    },\n",
    "    dtypes=[np.int, np.float, np.int, np.float]\n",
    ")"
   ]
  },
  {
   "cell_type": "markdown",
   "metadata": {},
   "source": [
    "For other types of connections, since the source and or target is an inibitory cell with no **tuning_angle** property, we'll instead weigh the number of connections based on distance in x/z plane."
   ]
  },
  {
   "cell_type": "code",
   "execution_count": 7,
   "metadata": {},
   "outputs": [
    {
     "name": "stderr",
     "output_type": "stream",
     "text": [
      "/tmp/ipykernel_192785/3384518047.py:31: DeprecationWarning: `np.int` is a deprecated alias for the builtin `int`. To silence this warning, use `int` by itself. Doing this will not modify any behavior and is safe. When replacing `np.int`, you may wish to use e.g. `np.int64` or `np.int32` to specify the precision. If you wish to review your current use, check the release note link for additional information.\n",
      "Deprecated in NumPy 1.20; for more details and guidance: https://numpy.org/devdocs/release/1.20.0-notes.html#deprecations\n",
      "  dtypes=[np.int, np.float, np.int, np.float]\n",
      "/tmp/ipykernel_192785/3384518047.py:31: DeprecationWarning: `np.float` is a deprecated alias for the builtin `float`. To silence this warning, use `float` by itself. Doing this will not modify any behavior and is safe. If you specifically wanted the numpy scalar type, use `np.float64` here.\n",
      "Deprecated in NumPy 1.20; for more details and guidance: https://numpy.org/devdocs/release/1.20.0-notes.html#deprecations\n",
      "  dtypes=[np.int, np.float, np.int, np.float]\n",
      "/tmp/ipykernel_192785/3384518047.py:53: DeprecationWarning: `np.int` is a deprecated alias for the builtin `int`. To silence this warning, use `int` by itself. Doing this will not modify any behavior and is safe. When replacing `np.int`, you may wish to use e.g. `np.int64` or `np.int32` to specify the precision. If you wish to review your current use, check the release note link for additional information.\n",
      "Deprecated in NumPy 1.20; for more details and guidance: https://numpy.org/devdocs/release/1.20.0-notes.html#deprecations\n",
      "  dtypes=[np.int, np.float, np.int, np.float]\n",
      "/tmp/ipykernel_192785/3384518047.py:53: DeprecationWarning: `np.float` is a deprecated alias for the builtin `float`. To silence this warning, use `float` by itself. Doing this will not modify any behavior and is safe. If you specifically wanted the numpy scalar type, use `np.float64` here.\n",
      "Deprecated in NumPy 1.20; for more details and guidance: https://numpy.org/devdocs/release/1.20.0-notes.html#deprecations\n",
      "  dtypes=[np.int, np.float, np.int, np.float]\n",
      "/tmp/ipykernel_192785/3384518047.py:75: DeprecationWarning: `np.int` is a deprecated alias for the builtin `int`. To silence this warning, use `int` by itself. Doing this will not modify any behavior and is safe. When replacing `np.int`, you may wish to use e.g. `np.int64` or `np.int32` to specify the precision. If you wish to review your current use, check the release note link for additional information.\n",
      "Deprecated in NumPy 1.20; for more details and guidance: https://numpy.org/devdocs/release/1.20.0-notes.html#deprecations\n",
      "  dtypes=[np.int, np.float, np.int, np.float]\n",
      "/tmp/ipykernel_192785/3384518047.py:75: DeprecationWarning: `np.float` is a deprecated alias for the builtin `float`. To silence this warning, use `float` by itself. Doing this will not modify any behavior and is safe. If you specifically wanted the numpy scalar type, use `np.float64` here.\n",
      "Deprecated in NumPy 1.20; for more details and guidance: https://numpy.org/devdocs/release/1.20.0-notes.html#deprecations\n",
      "  dtypes=[np.int, np.float, np.int, np.float]\n"
     ]
    }
   ],
   "source": [
    "def others_conn_rule(source, target, max_syns, max_distance=300.0, sigma=60.0):\n",
    "    if source['node_id'] == target['node_id']:\n",
    "        return 0\n",
    "    \n",
    "    dist = np.sqrt((source['x'] - target['x'])**2 + (source['z'] - target['z'])**2)\n",
    "    if dist > max_distance:\n",
    "        return 0\n",
    "    \n",
    "    prob = np.exp(-(dist/sigma)**2)\n",
    "    return np.random.binomial(n=max_syns, p=prob)\n",
    "\n",
    "## Create e --> i connections\n",
    "conns = l4.add_edges(\n",
    "    source=l4.nodes(ei_type='e'),\n",
    "    target=l4.nodes(ei_type='i'),\n",
    "    connection_rule=others_conn_rule,\n",
    "    connection_params={'max_syns': 12},\n",
    "    syn_weight=0.0006,\n",
    "    delay=2.0,\n",
    "    dynamics_params='AMPA_ExcToInh.json',\n",
    "    model_template='Exp2Syn',\n",
    ")\n",
    "conns.add_properties(\n",
    "    ['afferent_section_id', 'afferent_section_pos', 'afferent_swc_id', 'afferent_swc_pos'],\n",
    "    rule=rand_syn_locations,\n",
    "    rule_params={\n",
    "        'sections': ['somatic', 'basal'], \n",
    "        'distance_range': [0.0, 1.0e+20],\n",
    "        'morphology_dir': 'components/morphologies' \n",
    "    },\n",
    "    dtypes=[np.int, np.float, np.int, np.float]\n",
    ")\n",
    "\n",
    "## Create i --> e connections\n",
    "conns = l4.add_edges(\n",
    "    source=l4.nodes(ei_type='i'),\n",
    "    target=l4.nodes(ei_type='e'),\n",
    "    connection_rule=others_conn_rule,\n",
    "    connection_params={'max_syns': 4},\n",
    "    syn_weight=0.0002,\n",
    "    delay=2.0,\n",
    "    dynamics_params='GABA_InhToExc.json',\n",
    "    model_template='Exp2Syn',\n",
    ")\n",
    "conns.add_properties(\n",
    "    ['afferent_section_id', 'afferent_section_pos', 'afferent_swc_id', 'afferent_swc_pos'],\n",
    "    rule=rand_syn_locations,\n",
    "    rule_params={\n",
    "        'sections': ['somatic', 'basal', 'apical'], \n",
    "        'distance_range': [0.0, 50.0],\n",
    "        'morphology_dir': 'components/morphologies' \n",
    "    },\n",
    "    dtypes=[np.int, np.float, np.int, np.float]\n",
    ")\n",
    "\n",
    "## Create i --> i connections\n",
    "conns = l4.add_edges(\n",
    "    source=l4.nodes(ei_type='i'),\n",
    "    target=l4.nodes(ei_type='i'),\n",
    "    connection_rule=others_conn_rule,\n",
    "    connection_params={'max_syns': 4},\n",
    "    syn_weight=0.00015,\n",
    "    delay=2.0,\n",
    "    dynamics_params='GABA_InhToInh.json',\n",
    "    model_template='Exp2Syn',\n",
    ")\n",
    "conns.add_properties(\n",
    "    ['afferent_section_id', 'afferent_section_pos', 'afferent_swc_id', 'afferent_swc_pos'],\n",
    "    rule=rand_syn_locations,\n",
    "    rule_params={\n",
    "        'sections': ['somatic', 'basal', 'apical'], \n",
    "        'distance_range': [0.0, 1.0e+20],\n",
    "        'morphology_dir': 'components/morphologies' \n",
    "    },\n",
    "    dtypes=[np.int, np.float, np.int, np.float]\n",
    ")"
   ]
  },
  {
   "cell_type": "markdown",
   "metadata": {},
   "source": [
    "Note that the **connection_rule** and **rule_params** functions have not yet be called. Only once we call the ```build()``` method will it utilize these functions to build the connectivity matrix. The ```build()``` process can take a bit of time to complete depending on the number of edges and the complexity of connection rules\n",
    "\n",
    "![](../images/builder_complete_network.png)\n"
   ]
  },
  {
   "cell_type": "code",
   "execution_count": 8,
   "metadata": {},
   "outputs": [
    {
     "name": "stdout",
     "output_type": "stream",
     "text": [
      "numprocs=1\n"
     ]
    }
   ],
   "source": [
    "l4.build()\n",
    "l4.save(output_dir='network')"
   ]
  },
  {
   "cell_type": "markdown",
   "metadata": {},
   "source": [
    "__[SUGGESTION: Visualize the network and how the synapses are distrubted using VDN]__"
   ]
  },
  {
   "cell_type": "markdown",
   "metadata": {},
   "source": [
    "### Adding Feedforward stimulus\n",
    "\n",
    "At this point we could go ahead and start running simulations on our l4 network driving stimulus with current clamps, voltage clamps, or even extracellular electrodes. However to make the model a bit more realistic we are going to want to stimuluate it using feedforward synaptic stimulus - such as how the Mouse Visual cortex recieves input from the lateral geniculate nucleus (LGN) in the thalamus. \n",
    "\n",
    "We will build another network model of the LGN, made up of \"virtual\" cells on a flat plane covering the visual receptive field. The important thing is that the cells have **model_type**=virtual. We are also including other parameters **model_template** and **dynamics_params** to indicate the type of lgn cells (transitory on cells), however these options will be ignored until they are used with FilterNet later. "
   ]
  },
  {
   "cell_type": "code",
   "execution_count": 9,
   "metadata": {},
   "outputs": [],
   "source": [
    "def generate_coords_plane(ncells, size_x=240.0, size_y=120.0):\n",
    "    xs = np.random.uniform(0.0, size_x, ncells)\n",
    "    ys = np.random.uniform(0.0, size_y, ncells)\n",
    "    return xs, ys\n",
    "    \n",
    "\n",
    "lgn = NetworkBuilder('lgn')\n",
    "\n",
    "x, y = generate_coords_plane(100)\n",
    "lgn.add_nodes(\n",
    "    N=100,\n",
    "    x=x,\n",
    "    y=y,\n",
    "    model_type='virtual',\n",
    "    model_template='lgnmodel:tON',\n",
    "    dynamics_params='tON_TF15.json',\n",
    "    ei_type='e'\n",
    ")\n"
   ]
  },
  {
   "cell_type": "markdown",
   "metadata": {},
   "source": [
    "Next we need to connect the lgn cells to the l4 cells. To mimick the real LGN, we want to start by overlaying the LGN plane on top of the xz plane of our L4 model. Then for every LGN cell find all L4 that are within a given distance, then select N excitatory cells and M inhibitory cells.\n",
    "\n",
    "![](../images/LGN_to_L4_conn_scheme.png)\n",
    "\n",
    "This would be very hard to accomplish with the previous **connection_rule** function that is called for every individual source/target pair. Instead we must use a different function signature that will BMTK will pass into it 1 source cell and a list of dictionaries of all possible target cells. And the function will now return a list of integers for the number of connections (including 0) synapses onto each individual target cell.\n",
    "\n",
    "We just have to use the option **iterator**='one_to_all' (other options include 'all_to_one' and defualt option 'one_to_one')\n"
   ]
  },
  {
   "cell_type": "code",
   "execution_count": 10,
   "metadata": {},
   "outputs": [],
   "source": [
    "def connect_lgn_cells(source, targets, max_targets, min_syns=1, max_syns=15, lgn_size=(240, 120),\n",
    "                      l4_radius=400.0, ellipse=(100.0, 500.0)):\n",
    "    # map the lgn cells from the plane to the circle\n",
    "    x, y = source['x'], source['y']\n",
    "    x = x / lgn_size[0] - 0.5\n",
    "    y = y / lgn_size[1] - 0.5\n",
    "    src_x = x * np.sqrt(1.0 - (y**2/2.0)) * l4_radius\n",
    "    src_y = y * np.sqrt(1.0 - (x**2/2.0)) * l4_radius\n",
    "\n",
    "    # Find (the indices) of all the target cells that are within the given ellipse, if there are more than max_targets\n",
    "    # then randomly choose them\n",
    "    a, b = ellipse[0]**2, ellipse[1]**2\n",
    "    dists = [(src_x-t['x'])**2/a + (src_y-t['y'])**2/b for t in targets]\n",
    "    valid_targets = np.argwhere(np.array(dists) <= 1.0).flatten()\n",
    "    if len(valid_targets) > max_targets:\n",
    "        valid_targets = np.random.choice(valid_targets, size=max_targets, replace=False)\n",
    "\n",
    "    # create an array of all synapse count. Most targets with have 0 connection, except for the \"valid_targets\" which\n",
    "    # will have between [min_syns, max_syns] number of connections.\n",
    "    nsyns_arr = np.zeros(len(targets), dtype=np.int)\n",
    "    for idx in valid_targets:\n",
    "        nsyns_arr[idx] = np.random.randint(min_syns, max_syns)\n",
    "\n",
    "    return nsyns_arr"
   ]
  },
  {
   "cell_type": "code",
   "execution_count": 11,
   "metadata": {},
   "outputs": [
    {
     "name": "stderr",
     "output_type": "stream",
     "text": [
      "/tmp/ipykernel_192785/2896037082.py:20: DeprecationWarning: `np.int` is a deprecated alias for the builtin `int`. To silence this warning, use `int` by itself. Doing this will not modify any behavior and is safe. When replacing `np.int`, you may wish to use e.g. `np.int64` or `np.int32` to specify the precision. If you wish to review your current use, check the release note link for additional information.\n",
      "Deprecated in NumPy 1.20; for more details and guidance: https://numpy.org/devdocs/release/1.20.0-notes.html#deprecations\n",
      "  dtypes=[np.int, np.float, np.int, np.float]\n",
      "/tmp/ipykernel_192785/2896037082.py:20: DeprecationWarning: `np.float` is a deprecated alias for the builtin `float`. To silence this warning, use `float` by itself. Doing this will not modify any behavior and is safe. If you specifically wanted the numpy scalar type, use `np.float64` here.\n",
      "Deprecated in NumPy 1.20; for more details and guidance: https://numpy.org/devdocs/release/1.20.0-notes.html#deprecations\n",
      "  dtypes=[np.int, np.float, np.int, np.float]\n",
      "/tmp/ipykernel_192785/2896037082.py:43: DeprecationWarning: `np.int` is a deprecated alias for the builtin `int`. To silence this warning, use `int` by itself. Doing this will not modify any behavior and is safe. When replacing `np.int`, you may wish to use e.g. `np.int64` or `np.int32` to specify the precision. If you wish to review your current use, check the release note link for additional information.\n",
      "Deprecated in NumPy 1.20; for more details and guidance: https://numpy.org/devdocs/release/1.20.0-notes.html#deprecations\n",
      "  dtypes=[np.int, np.float, np.int, np.float]\n",
      "/tmp/ipykernel_192785/2896037082.py:43: DeprecationWarning: `np.float` is a deprecated alias for the builtin `float`. To silence this warning, use `float` by itself. Doing this will not modify any behavior and is safe. If you specifically wanted the numpy scalar type, use `np.float64` here.\n",
      "Deprecated in NumPy 1.20; for more details and guidance: https://numpy.org/devdocs/release/1.20.0-notes.html#deprecations\n",
      "  dtypes=[np.int, np.float, np.int, np.float]\n"
     ]
    }
   ],
   "source": [
    "conns = lgn.add_edges(\n",
    "    source=lgn.nodes(),\n",
    "    target=l4.nodes(ei_type='e'),\n",
    "    connection_rule = connect_lgn_cells,\n",
    "    connection_params = {'max_targets': 6},\n",
    "    iterator='one_to_all',\n",
    "    model_template='Exp2Syn',\n",
    "    dynamics_params='AMPA_ExcToExc.json',\n",
    "    delay=2.0,\n",
    "    syn_weight=0.0019\n",
    ")\n",
    "conns.add_properties(\n",
    "    ['afferent_section_id', 'afferent_section_pos', 'afferent_swc_id', 'afferent_swc_pos'],\n",
    "    rule=rand_syn_locations,\n",
    "    rule_params={\n",
    "        'sections': ['somatic', 'basal', 'apical'],\n",
    "        'distance_range': [0.0, 1.0e+20],\n",
    "        'morphology_dir': 'components/morphologies'\n",
    "    },\n",
    "    dtypes=[np.int, np.float, np.int, np.float]\n",
    ")\n",
    "\n",
    "\n",
    "conns = lgn.add_edges(\n",
    "    source=lgn.nodes(),\n",
    "    target=l4.nodes(ei_type='i'),\n",
    "    connection_rule=connect_lgn_cells,\n",
    "    connection_params={'max_targets': 12, 'ellipse': (400.0, 400.0)},\n",
    "    iterator='one_to_all',\n",
    "    model_template='Exp2Syn',\n",
    "    dynamics_params='AMPA_ExcToInh.json',\n",
    "    delay=2.0,\n",
    "    syn_weight=0.003\n",
    ")\n",
    "conns.add_properties(\n",
    "    ['afferent_section_id', 'afferent_section_pos', 'afferent_swc_id', 'afferent_swc_pos'],\n",
    "    rule=rand_syn_locations,\n",
    "    rule_params={\n",
    "        'sections': ['somatic', 'basal', 'apical'],\n",
    "        'distance_range': [0.0, 1.0e+20],\n",
    "        'morphology_dir': 'components/morphologies'\n",
    "    },\n",
    "    dtypes=[np.int, np.float, np.int, np.float]\n",
    ")\n",
    "\n",
    "\n",
    "lgn.build()\n",
    "lgn.save(output_dir='network')"
   ]
  },
  {
   "cell_type": "markdown",
   "metadata": {},
   "source": [
    "__[SUGGESTION: Show LGN to L4 connections with VND]__"
   ]
  },
  {
   "cell_type": "markdown",
   "metadata": {},
   "source": [
    "#### Spikes for LGN inputs\n",
    "\n",
    "Now that we have LGN virtual cells to synapticlly connect and stimulate our L4 model, let provide some spikes-trains for our LGN cells."
   ]
  },
  {
   "cell_type": "code",
   "execution_count": 13,
   "metadata": {},
   "outputs": [
    {
     "data": {
      "image/png": "[encoded data removed]",
      "text/plain": [
       "<Figure size 432x288 with 1 Axes>"
      ]
     },
     "metadata": {
      "needs_background": "light"
     },
     "output_type": "display_data"
    },
    {
     "data": {
      "image/png": "[encoded data removed]",
      "text/plain": [
       "<Figure size 432x288 with 2 Axes>"
      ]
     },
     "metadata": {
      "needs_background": "light"
     },
     "output_type": "display_data"
    }
   ],
   "source": [
    "import matplotlib.pyplot as plt\n",
    "\n",
    "from bmtk.utils.reports.spike_trains import PoissonSpikeGenerator\n",
    "from bmtk.analyzer.spike_trains import plot_raster\n",
    "\n",
    "\n",
    "times = np.linspace(0.0, 5.0, 1000)\n",
    "max_rate = 15.0\n",
    "min_rate = 2.0\n",
    "onset = 1.0\n",
    "rates = (max_rate-min_rate)/(1.0 + np.exp(-(times-onset)*3.0)) + min_rate\n",
    "\n",
    "psg = PoissonSpikeGenerator()\n",
    "psg.add(\n",
    "    node_ids='network/lgn_nodes.h5', \n",
    "    firing_rate=rates, \n",
    "    times=times,\n",
    "    population='lgn'\n",
    ")\n",
    "psg.to_sonata('inputs/lgn_spikes.h5')\n",
    "\n",
    "# plot the firing rates\n",
    "plt.plot(times, rates)\n",
    "\n",
    "_ = plot_raster(spikes_file='inputs/lgn_spikes.h5')"
   ]
  },
  {
   "cell_type": "markdown",
   "metadata": {},
   "source": [
    "### Settup up the environment\n",
    "\n",
    "Next step is to setup the directory where we will run our simulation; including run_bionet.py script, configuration files, and components' files. This has already been setup for you, but if you were going to build the directory from scratch you can run either the following in the command line\n",
    "```bash\n",
    "python -m bmtk.utils.sim_setup                  \\\n",
    "       --config-file config.simulation.json     \\\n",
    "       --report-vars v                          \\\n",
    "       --network network                        \\\n",
    "       --spikes-inputs lgn:inputs/lgn_spikes.h5 \\\n",
    "       --dt 0.1                                 \\\n",
    "       --tstop 5000.0                           \\\n",
    "       --compile-mechanisms                     \\\n",
    "       bionet .\n",
    "```\n",
    "\n",
    "or in python\n",
    "\n",
    "```python\n",
    "build_env_bionet(\n",
    "    base_dir='.',\n",
    "    config_file='config.simulation.json',\n",
    "    network_dir='network',\n",
    "    tstop=3000.0, dt=0.1,\n",
    "    report_vars=['v'],\n",
    "    spikes_inputs=[('lgn', 'inputs/lgn_spikes.h5')],\n",
    "    compile_mechanisms=True\n",
    ")\n",
    "```\n",
    "\n",
    "Which can help setup the initial frame-work. \n"
   ]
  },
  {
   "cell_type": "markdown",
   "metadata": {},
   "source": [
    "## Running the simulation\n",
    "\n",
    "We are now ready to run the simulation of our L4 network with LGN stimuluation. We can do this in console:\n",
    "\n",
    "```bash\n",
    "$ python run_bionet.py config.simulation\n",
    "```\n",
    "\n",
    "On a single core this can take a few minutes to run - depending on the machine. We can also run this on multiple cores using MPI\n",
    "\n",
    "```bash\n",
    "$ mpirun -np N nrniv -mpi -python run_simulation.py config.simulation.json\n",
    "```\n",
    "\n",
    "or in the notebook"
   ]
  },
  {
   "cell_type": "code",
   "execution_count": 1,
   "metadata": {},
   "outputs": [
    {
     "name": "stdout",
     "output_type": "stream",
     "text": [
      "2022-02-24 13:12:40,592 [INFO] Created log file\n",
      "2022-02-24 13:12:40,745 [INFO] Building cells.\n",
      "2022-02-24 13:13:03,240 [INFO] Building recurrent connections\n",
      "2022-02-24 13:27:12,278 [INFO] Building virtual cell stimulations for lgn_spikes\n",
      "2022-02-24 13:27:20,087 [INFO] Running simulation for 3000.000 ms with the time step 0.100 ms\n",
      "2022-02-24 13:27:20,088 [INFO] Starting timestep: 0 at t_sim: 0.000 ms\n",
      "2022-02-24 13:27:20,088 [INFO] Block save every 5000 steps\n",
      "2022-02-24 13:30:05,282 [INFO]     step:5000 t_sim:500.00 ms\n",
      "2022-02-24 13:32:44,879 [INFO]     step:10000 t_sim:1000.00 ms\n",
      "2022-02-24 13:35:23,702 [INFO]     step:15000 t_sim:1500.00 ms\n",
      "2022-02-24 13:38:03,420 [INFO]     step:20000 t_sim:2000.00 ms\n",
      "2022-02-24 13:40:40,945 [INFO]     step:25000 t_sim:2500.00 ms\n",
      "2022-02-24 13:43:18,583 [INFO]     step:30000 t_sim:3000.00 ms\n",
      "2022-02-24 13:43:18,638 [INFO] Simulation completed in 15.0 minutes, 58.55 seconds \n"
     ]
    }
   ],
   "source": [
    "from bmtk.simulator import bionet\n",
    "\n",
    "conf = bionet.Config.from_json('config.simulation.json')\n",
    "conf.build_env()\n",
    "\n",
    "net = bionet.BioNetwork.from_config(conf)\n",
    "sim = bionet.BioSimulator.from_config(conf, network=net)\n",
    "sim.run()"
   ]
  },
  {
   "cell_type": "code",
   "execution_count": 2,
   "metadata": {},
   "outputs": [
    {
     "data": {
      "image/png": "[encoded data removed]",
      "text/plain": [
       "<Figure size 432x288 with 2 Axes>"
      ]
     },
     "metadata": {
      "needs_background": "light"
     },
     "output_type": "display_data"
    }
   ],
   "source": [
    "from bmtk.analyzer.spike_trains import plot_raster\n",
    "\n",
    "_ = plot_raster(config_file='config.simulation.json', group_by='model_name')"
   ]
  },
  {
   "cell_type": "code",
   "execution_count": 3,
   "metadata": {},
   "outputs": [
    {
     "name": "stderr",
     "output_type": "stream",
     "text": [
      "/home/kael/apps/miniconda3/envs/bmtk-py36/lib/python3.6/site-packages/IPython/core/pylabtools.py:132: UserWarning: Creating legend with loc=\"best\" can be slow with large amounts of data.\n",
      "  fig.canvas.print_figure(bytes_io, **kw)\n"
     ]
    },
    {
     "data": {
      "image/png": "[encoded data removed]",
      "text/plain": [
       "<Figure size 432x288 with 1 Axes>"
      ]
     },
     "metadata": {
      "needs_background": "light"
     },
     "output_type": "display_data"
    }
   ],
   "source": [
    "from bmtk.analyzer.compartment import plot_traces\n",
    "\n",
    "# Plot the membrane potential trace\n",
    "_ = plot_traces(config_file='config.simulation.json', group_by='model_name', report_name='membrane_potential')"
   ]
  },
  {
   "cell_type": "markdown",
   "metadata": {},
   "source": [
    "__[SUGGESTION: SHOW RESULT IN VND]__"
   ]
  },
  {
   "cell_type": "markdown",
   "metadata": {},
   "source": [
    "## [OPTIONAL] Adding Periphery Neurons\n",
    "\n",
    "We have a core set of 300 neurons we are interested in simulating and analyzing. They recieve inputs from the LGN and they are recurrently connected, but don't have any neighboring neurons. This can be unrealistic and ignores the affects from neigbhoring activity. We could find additional biophysically detailed neurons on the periphery of our L4 column - but this can make the model we want to study more complex then it has to be, as well as increasing the time and processing we will need to run it.\n",
    "\n",
    "One thing we can do is add very simple integrate-and-fire neurons to our network. These can mimic the interaction of periphery neuronal activity - without adding too much complexity in terms of fitting the weights and the computational requirements to run the model\n",
    "\n",
    "![](../images/l4_with_periphery.png)\n"
   ]
  },
  {
   "cell_type": "markdown",
   "metadata": {},
   "source": [
    "We could go back and rebuild the l4 network with these intfire neurons, but for easy of use we'll just create it as a separate network and connect it up in the config.\n",
    "\n",
    "We'll call our network \"lifs\" for leaky integrate-and-fire. We'll add a population of excitatory and inhibitory lif's but noting the following:\n",
    "* **model_type** is now set to \"point_neuron\" \n",
    "* There is no need for **morphology** or **model_processing**, since these are simple point-neuron models that don't have any associated morphology.\n",
    "* In **model_template** we'll set it so they are using NEURON's built-in [IntFire1 type cells](https://www.neuron.yale.edu/neuron/static/py_doc/modelspec/programmatic/mechanisms/mech.html#IntFire1)."
   ]
  },
  {
   "cell_type": "code",
   "execution_count": 4,
   "metadata": {},
   "outputs": [],
   "source": [
    "lif = NetworkBuilder('lif')\n",
    "\n",
    "# place neurons on outer ring\n",
    "x, y, z = get_coords(50, radius_min=400.0, radius_max=800.0)\n",
    "lif.add_nodes(\n",
    "    N=50, \n",
    "    x=x, y=y, z=z,\n",
    "    model_type='point_neuron',\n",
    "    model_template='nrn:IntFire1',\n",
    "    dynamics_params='IntFire1_exc_1.json',\n",
    "    model_name='LIF_exc', \n",
    "    ei_type='e',\n",
    ")\n",
    "\n",
    "x, y, z = get_coords(50, radius_min=400.0, radius_max=800.0)\n",
    "lif.add_nodes(\n",
    "    N=50, \n",
    "    x=x, y=y, z=z,\n",
    "    model_type='point_neuron',\n",
    "    model_template='nrn:IntFire1',\n",
    "    dynamics_params='IntFire1_inh_1.json',\n",
    "    model_name='LIF_inh', \n",
    "    ei_type='i',\n",
    ")\n"
   ]
  },
  {
   "cell_type": "markdown",
   "metadata": {},
   "source": [
    "Now we will connect our LIF neurons to our L4 neurons. Previously we were using the Builder's ```add_properties()``` and to explicity store the target synaptic locations in the _edges.h5_ file. This time will will store the **target_sections** and **distance_range** as edge-type properties. BMTK has a special feature that when it sees these two arguments in the edge-type properties it will use them to randomly create synapses during the simulation processes. This will add a bit of randomness when we run the simulations."
   ]
  },
  {
   "cell_type": "code",
   "execution_count": 5,
   "metadata": {},
   "outputs": [
    {
     "data": {
      "text/plain": [
       "<bmtk.builder.connection_map.ConnectionMap at 0x7f1ee5c85400>"
      ]
     },
     "execution_count": 5,
     "metadata": {},
     "output_type": "execute_result"
    }
   ],
   "source": [
    "lif.add_edges(\n",
    "    source=lif.nodes(ei_type='e'), target=l4.nodes(ei_type='e'),\n",
    "    connection_rule=8,\n",
    "    syn_weight=5.5e-05,\n",
    "    delay=2.0,\n",
    "    distance_range=[30.0, 150.0],\n",
    "    target_sections=['somatic', 'basal', 'apical'],\n",
    "    dynamics_params='AMPA_ExcToExc.json',\n",
    "    model_template='Exp2Syn'\n",
    ")\n",
    "\n",
    "lif.add_edges(\n",
    "    source=lif.nodes(ei_type='e'), target=l4.nodes(ei_type='i'),\n",
    "    connection_rule=5,\n",
    "    syn_weight=0.00035,\n",
    "    delay=2.0,\n",
    "    distance_range=[30.0, 150.0],\n",
    "    target_sections=['somatic', 'basal'],\n",
    "    dynamics_params='AMPA_ExcToInh.json',\n",
    "    model_template='Exp2Syn'\n",
    ")\n",
    "\n",
    "lif.add_edges(\n",
    "    source=lif.nodes(ei_type='i'), target=l4.nodes(ei_type='e'),\n",
    "    connection_rule=5,\n",
    "    syn_weight=0.00018,\n",
    "    delay=2.0,\n",
    "    distance_range=[0.0, 50.0],\n",
    "    target_sections=['somatic', 'basal', 'apical'],\n",
    "    dynamics_params='GABA_InhToExc.json',\n",
    "    model_template='Exp2Syn'\n",
    ")\n",
    "\n",
    "lif.add_edges(\n",
    "    source=lif.nodes(ei_type='i'), target=l4.nodes(ei_type='e'),\n",
    "    connection_rule=5,\n",
    "    syn_weight=0.0002,\n",
    "    delay=2.0,\n",
    "    distance_range=[0.0, 1e+20],\n",
    "    target_sections=['somatic', 'basal'],\n",
    "    dynamics_params='GABA_InhToInh.json',\n",
    "    model_template='Exp2Syn'\n",
    ")\n"
   ]
  },
  {
   "cell_type": "markdown",
   "metadata": {},
   "source": [
    "Now we connect our L4 cells to our LIFs, as-well-as our LIFs to each other. Since we are connecting to neurons that are just a point in space it doesn't make sense to specify the synpatic locations:"
   ]
  },
  {
   "cell_type": "code",
   "execution_count": 6,
   "metadata": {},
   "outputs": [
    {
     "data": {
      "text/plain": [
       "<bmtk.builder.connection_map.ConnectionMap at 0x7f1ee5c85710>"
      ]
     },
     "execution_count": 6,
     "metadata": {},
     "output_type": "execute_result"
    }
   ],
   "source": [
    "# Connect L4 --> LIFs\n",
    "lif.add_edges(\n",
    "    source=l4.nodes(ei_type='e'), target=lif.nodes(),\n",
    "    connection_rule=lambda *_: np.random.randint(0, 12),\n",
    "    syn_weight=0.0002,\n",
    "    delay=2.0,\n",
    "    dynamics_params='instanteneousExc.json',\n",
    "    model_template='Exp2Syn'\n",
    ")\n",
    "\n",
    "lif.add_edges(\n",
    "    source=l4.nodes(ei_type='e'), target=lif.nodes(),\n",
    "    connection_rule=lambda *_: np.random.randint(0, 12),\n",
    "    syn_weight=0.0043,\n",
    "    delay=2.0,\n",
    "    dynamics_params='instanteneousInh.json',\n",
    "    model_template='Exp2Syn'\n",
    ")\n",
    "\n",
    "# Connect LIFs --> LIFS\n",
    "lif.add_edges(\n",
    "    source=lif.nodes(ei_type='e'), target=lif.nodes(),\n",
    "    connection_rule=lambda *_: np.random.randint(0, 12),\n",
    "    syn_weight=0.0002,\n",
    "    delay=2.0,\n",
    "    dynamics_params='instanteneousExc.json',\n",
    "    model_template='Exp2Syn'\n",
    ")\n",
    "\n",
    "lif.add_edges(\n",
    "    source=lif.nodes(ei_type='e'), target=lif.nodes(),\n",
    "    connection_rule=lambda *_: np.random.randint(0, 12),\n",
    "    syn_weight=0.0043,\n",
    "    delay=2.0,\n",
    "    dynamics_params='instanteneousExc.json',\n",
    "    model_template='Exp2Syn'\n",
    ")\n"
   ]
  },
  {
   "cell_type": "code",
   "execution_count": 7,
   "metadata": {},
   "outputs": [],
   "source": [
    "lif.build()\n",
    "lif.save(output_dir='network')"
   ]
  },
  {
   "cell_type": "markdown",
   "metadata": {},
   "source": [
    "__[SUGGESTION: Visualize with VND]__\n",
    "\n",
    "Building the LIFs network will create 4 sets of SONAT network files:\n",
    "1. We have the **LIF nodes**\n",
    "2. The SONATA network files for the **LIF --> L4** connections.\n",
    "3. The SONATA network files for the **L4 --> LIF** connections.\n",
    "4. The SONATA network files for the **LIF --> LIF** connnections.\n",
    "\n",
    "(note: There are options to store all of them in one single file - but by default, and in our experience for ease of use during the simulation, the BMTK Builder will split them across multiple files)\n",
    "\n",
    "To run network with the periphery LIF neurons we just need to update the config.circuit.json file\n",
    "\n",
    "![](../images/ch3_circuit_config_w_lifs_highlighted.png)"
   ]
  },
  {
   "cell_type": "markdown",
   "metadata": {},
   "source": [
    "We can now run our model as before"
   ]
  },
  {
   "cell_type": "code",
   "execution_count": null,
   "metadata": {},
   "outputs": [],
   "source": [
    "# Will reset BioNet and the NEURON simulator. Required if we want\n",
    "# to run the simulator multiple times in the same notebook.\n",
    "bionet.reset()"
   ]
  },
  {
   "cell_type": "code",
   "execution_count": null,
   "metadata": {},
   "outputs": [],
   "source": [
    "conf = bionet.Config.from_json('config.simulation.json')\n",
    "\n",
    "conf.build_env()\n",
    "net = bionet.BioNetwork.from_config(conf)\n",
    "sim = bionet.BioSimulator.from_config(conf, network=net)\n",
    "sim.run()"
   ]
  },
  {
   "cell_type": "markdown",
   "metadata": {},
   "source": [
    "## (OPTIONAL) Deep Dive into SONATA Nodes and Edges Format\n",
    "\n",
    "Now that we have shown how to build multi-cells heterogeneous network models; let's take a look at the SONATA nodes and edges files, explain how they are formatted, in case you want to implement the SONATA format yourself.\n",
    "\n",
    "#### nodes\n",
    "\n",
    "If we open up one of our _nodes.h5_ file using a tool like HDFView or ViTables we can see they all have a format like the following:\n",
    "![](../images/nodes_sonata_layout.png)\n",
    "\n",
    "\n",
    "* We see it always starts with the path /nodes/$<$population$>$/, where $<$population$>$ is the name of we give these set of nodes\n",
    "\n",
    "\n",
    "* All indivdiual nodes/cell are assigned a unique _node_id_ within the population. These node_ids are not global and the other populations with almost surley have same ids, hence it's important each node is unique recognized by ($<$population$>$, node_id). \n",
    "\n",
    "\n",
    "* each node has an assigned _node_type_id_ which point to the global Node-Type (Cell Type) properties. The node_type properties as saved in a easy to read and modify _node_types.csv_ table like the following:\n",
    "  ![](../node_types_sonata_layout.png)\n",
    "  \n",
    "  \n",
    "* Each individual node/cell may have additional properties, these are stored in a HDF5 subgroup\n",
    "\n",
    "In the simplest case we can think of the each node having a the following format as they relate to their Node Type and invdividual node properties\n",
    "\n",
    "![](../images/sonata_hdf5_format_no_groups.png)\n",
    "\n",
    "\n",
    "The only issue is that it's possible to have different neuronal models that require different parameters, something the models will have different data types and meanings; ex. $\\alpha$ may be unsigned integers for one group of neurons, while for another group of neurons the $\\alpha$ parameter is expecting a float. This is where the _group_id_ and _group_index_ columns come in, allowing us to assign individual neurons to only their appropiate set of parameters:\n",
    "\n",
    "![](../images/sonata_hdf5_format_w_groups.png)\n"
   ]
  },
  {
   "cell_type": "markdown",
   "metadata": {},
   "source": [
    "#### Edges\n",
    "\n",
    "![](../images/edges_sonata_layout.png)\n",
    "\n",
    "We can see that the edges file looks very similar to the nodes, with some minor distinctions.\n",
    "\n",
    "* The edges inside the HDF5 start with path /edges/$<$population$>$, where $<$population$>$ is any arbitary name we give these set of edges (The NetworkBuilder will infere a name unless explicity stated).\n",
    "\n",
    "\n",
    "* Instead of _edge_id_, each edge is identified by the _node_id_ of the source cell (_source_node_id_ table) and target cell (_target_node_id_ table).\n",
    "  * For any two cells A and B, the connection(s) A --> B it may occur anywhere between 0, 1, or more times in the edges. The format is a multigraph structure.\n",
    "  * Both _source_node_id_ and _target_node_id_ have attributes \"node_population\" which is the name of the population of nodes for the source and for the target neurons. All source nodes must belong to the same population, and similar all target nodes must also belong to the same population (although the two may be different).\n",
    "\n",
    "\n",
    "* The format includes an optional _indices_ which contains lookup tables for determining all indices of any arbitary source_node_id, target_node_id, or edge_type_id in $O(1)$ time.\n",
    "\n",
    "\n",
    "* Individual edge parameters are grouped like described above with nodes. Only instead of _node_group_id_ and _node_group_index_, we call them _edge_group_id_ and _edge_group_index_."
   ]
  },
  {
   "cell_type": "code",
   "execution_count": null,
   "metadata": {},
   "outputs": [],
   "source": []
  }
 ],
 "metadata": {
  "kernelspec": {
   "display_name": "Python 3 (ipykernel)",
   "language": "python",
   "name": "python3"
  },
  "language_info": {
   "codemirror_mode": {
    "name": "ipython",
    "version": 3
   },
   "file_extension": ".py",
   "mimetype": "text/x-python",
   "name": "python",
   "nbconvert_exporter": "python",
   "pygments_lexer": "ipython3",
   "version": "3.8.10"
  }
 },
 "nbformat": 4,
 "nbformat_minor": 4
}

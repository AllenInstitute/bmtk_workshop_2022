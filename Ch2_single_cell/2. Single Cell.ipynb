{
 "cells": [
  {
   "cell_type": "markdown",
   "metadata": {},
   "source": [
    "# 2. Building a simple model"
   ]
  },
  {
   "cell_type": "markdown",
   "metadata": {},
   "source": [
    "For our first introduction to the Brain Modeling Toolkit (bmtk) and Visual Neuronal Dynamics (vnd) we will start with the simplest network we can think of - a network of just a single cell. Although bmtk and vnd are designed for modeling, simulating and analyzing very large networks, a simple single-cell circuit is still a good way of explaining the functionality of design of these applications.\n",
    "\n",
    "In later chapters we will show how bmtk and vnd make it easy with little added complexity to go from a simple circuit model of one or two cells, to a more realistic model of thousands or even millions of cells.\n",
    "\n"
   ]
  },
  {
   "cell_type": "code",
   "execution_count": 1,
   "metadata": {},
   "outputs": [],
   "source": [
    "import os\n",
    "import glob\n",
    "import numpy as np\n",
    "import pandas as pd\n",
    "import matplotlib.pyplot as plt\n",
    "\n",
    "from bmtk.simulator import bionet\n",
    "from bmtk.builder.networks import NetworkBuilder\n",
    "from bmtk.utils.create_environment import create_environment\n",
    "from bmtk.analyzer.spike_trains import plot_raster, to_dataframe\n",
    "from bmtk.analyzer.compartment import plot_traces\n"
   ]
  },
  {
   "cell_type": "markdown",
   "metadata": {},
   "source": [
    "## Choosing your cell models\n",
    "\n",
    "BMTK has a number of options for which type of cell models to use, for this workshop we will be building networks using models from the Allen Cell-Types database. We can use this to find morphologies and fitted electrophysiological properties for different cells.\n",
    "\n",
    "Here we want to choose cells that are labeled in the Scnn1a-Tg3-Cre line, which expresses GCaMP6f in [a subset of excitatory neurons in the mouse cortex](http://observatory.brain-map.org/visualcoding/transgenic). For convenience, we've already downloaded the necessary files for this tutorial (available in the _Resources_Ch2_ directory). But if you want to do so manually - or choose different cells - we can use the Allen Cell Types web interface:"
   ]
  },
  {
   "cell_type": "markdown",
   "metadata": {},
   "source": [
    "### [OPTIONAL] Downloading cells manually\n",
    "\n",
    "1. Go to the Cell Types database online portal at https://celltypes.brain-map.org/data and go to \"Cell Feature Search\". Here we want to look for cell models for Scnn1a expressing neurons found in the Mouse L4 area of the Primary Visual Cortex (VISp). \n",
    "\n",
    "  Not all cells have models - so it is important to use filter them out using \"Models\" selection. For our simulations we will be using \"Perisomatic Biophysical model\" and \"GLIF Model\" (BMTK will also work with \"All-active Biophysical model\" but they can be computationally intensive).\n",
    "\n",
    "<div>\n",
    "  <img src=\"../images/ctdb_screenshot.filter_cells.highlighted.png\" width=\"850\" align=\"left\" style=\"margin-left:26px\"/>    \n",
    "</div>\n",
    "<br clear=\"left\">\n",
    "\n",
    "2. Choose the cell we want by clicking on \"Electrophysiology\"\n",
    "\n",
    "<div>\n",
    "  <img src=\"../images/ctdb_screenshot.select_model.highlighted.png\" width=\"850\" align=\"left\" style=\"margin-left:26px\"/>    \n",
    "</div>\n",
    "<br clear=\"left\">\n",
    "\n",
    "\n",
    "3. On the Electrophysiology profile page of the cell we can select the type of model using the \"Select neuronal model\" menu, which will bring up the the option to \"Download model\" at the bottom of the page. In this case we want a model type \"Biophysical - perisomatic\". Clicking \"Download model\" will download the model files as a zip file.\n",
    "\n",
    "<div>\n",
    "  <img src=\"../images/ctdb_screenshot.ephys_page.highlighted.png\" width=\"850\" align=\"left\" style=\"margin-left:26px\"/>    \n",
    "</div>\n",
    "<br clear=\"left\">\n",
    "\n",
    "4. The two main files we want from the zip are *fit_parameters.json* containing electrophysiology parameters, and *reconstruction.swc* containing the morphological reconstruction of the cell. Since we will eventually be working with multiple models, let's rename these files to something more descriptive and move them to a different directory. \n",
    "    "
   ]
  },
  {
   "cell_type": "markdown",
   "metadata": {},
   "source": [
    "Alternatively, we could use the AllenSDK to filter and download cell model files. See [AllenSDK](https://allensdk.readthedocs.io/en/latest/) for detailed documentation."
   ]
  },
  {
   "cell_type": "markdown",
   "metadata": {},
   "source": [
    "## Building a Single Cell Model\n",
    "\n",
    "Although BMTK was designed to allow for large-scale heterogenous networks, we will first use it to create and simulate a network consisting of just a single cell. We will be using model files downloaded from the Allen Cell Types Database. \n",
    "\n",
    "To build a network we can use the BMTK Network Builder module to build and save the SONATA network files. \n",
    "\n",
    "It is a good idea to remove any old files in the *network/* directory otherwise it might cause the following error when running the notebooks:\n",
    "\n",
    "<div class=\"alert alert-block alert-danger\">\n",
    "<b>OSError<b>: Unable to create file (unable to truncate a file which is already open)\n",
    "</div>\n",
    "    \n",
    "You can remove the files using the command line:\n",
    "```bash\n",
    "  $ rm -r network\n",
    "```\n",
    "or with the following code:"
   ]
  },
  {
   "cell_type": "code",
   "execution_count": 2,
   "metadata": {},
   "outputs": [],
   "source": [
    "for f in glob.glob('network/*'):\n",
    "    try:\n",
    "        os.remove(f)\n",
    "    except FileNotFoundError as fnfe:\n",
    "        pass"
   ]
  },
  {
   "cell_type": "markdown",
   "metadata": {},
   "source": [
    "<div class=\"alert alert-block alert-info\">\n",
    "<b>Tip</b>: If you wish to run this tutorial from scratch, delete everything <b>except</b> the IPython notebook and the <i>Resources_Ch2/</i> directory. However, if you do so, you will need to repopulate the components directory with the dynamic parameter, morphology, and mechanism files from <i>Resources_Ch2/</i> according to the detailed directions.\n",
    "</div>"
   ]
  },
  {
   "cell_type": "markdown",
   "metadata": {},
   "source": [
    "<div class=\"alert alert-block alert-info\">\n",
    "<b>Tip</b>: There is a small amount of biologically relevant randomness built into the models and simulation, so everytime the notebook is run it is expected to get different results. However should you want to match the same results with the \"completed\" version of the tutorials please use the rng seed below:\n",
    "</div>"
   ]
  },
  {
   "cell_type": "code",
   "execution_count": 3,
   "metadata": {},
   "outputs": [],
   "source": [
    "np.random.seed(100)"
   ]
  },
  {
   "cell_type": "code",
   "execution_count": 4,
   "metadata": {},
   "outputs": [
    {
     "name": "stderr",
     "output_type": "stream",
     "text": [
      "WARNING:root:No edges have been made for this network, skipping saving of edges file.\n"
     ]
    }
   ],
   "source": [
    "from bmtk.builder.networks import NetworkBuilder\n",
    "\n",
    "scnn1a = NetworkBuilder('cell')\n",
    "scnn1a.add_nodes(\n",
    "    # required\n",
    "    N=1,\n",
    "    model_type='biophysical',\n",
    "    model_template='ctdb:Biophys1.hoc',\n",
    "    model_processing='aibs_perisomatic',\n",
    "    dynamics_params='Scnn1a_485510712_params.json',\n",
    "    morphology='Scnn1a_485510712_morphology.swc',\n",
    "    \n",
    "    # optional\n",
    "    ei_type='exc',\n",
    "    model_name='Scnn1a',\n",
    "    species='mouse',\n",
    "    location='VISp',\n",
    "    layer='L4'\n",
    ")\n",
    "scnn1a.build()\n",
    "scnn1a.save(output_dir='network')"
   ]
  },
  {
   "cell_type": "markdown",
   "metadata": {},
   "source": [
    "If you encounter the exception \"File network/cell_nodes.h5 already exists\", please delete all the contents of the _/network_ directory as described above.\n",
    "\n",
    "When run, this will create a network called \"cell\" into the _network_ directory. \n",
    "\n",
    "Some properties of the add_nodes() method are required to run the simulation in BioNet. We set __N__ to 1 to indicate we are only building one Scnn1a-type cell. __model_type__, __model_template__, and __model_processing__ are all directives telling BMTK to create a biophysically detailed perisomatic Allen-Institute cell model. Lastly __dynamics_params__ and __morphology__ are the files containing the cell's electrophysiological and morphological properties, respectively.\n",
    "\n",
    "SONATA also gives us the option of adding properties to our network. __ei_type__, __model_name__, __location__, etc. are properties that will be ignored by the simulator, but can potentially be useful for human-readablity and future data analysis."
   ]
  },
  {
   "cell_type": "markdown",
   "metadata": {},
   "source": [
    "### Setting up the environment\n",
    "\n",
    "Now that we have the SONATA network files complete, we need to set up the workspace to allow us to run the simulation."
   ]
  },
  {
   "cell_type": "code",
   "execution_count": 5,
   "metadata": {},
   "outputs": [
    {
     "name": "stderr",
     "output_type": "stream",
     "text": [
      "ERROR:root:Configuration file /home/student/Tutorials/bmtk_workshop_2022/Ch2_single_cell/config.iclamp.json already exists, skipping. Please delete existing file, use a different name, or use overwrite=True.\n"
     ]
    },
    {
     "name": "stdout",
     "output_type": "stream",
     "text": [
      "/home/student/Tutorials/bmtk_workshop_2022/Ch2_single_cell/components/mechanisms\n",
      "Mod files: \"modfiles/CaDynamics.mod\" \"modfiles/Ca_HVA.mod\" \"modfiles/Ca_LVA.mod\" \"modfiles/Ih.mod\" \"modfiles/Im.mod\" \"modfiles/Im_v2.mod\" \"modfiles/Kd.mod\" \"modfiles/K_P.mod\" \"modfiles/K_T.mod\" \"modfiles/Kv2like.mod\" \"modfiles/Kv3_1.mod\" \"modfiles/Nap.mod\" \"modfiles/NaTa.mod\" \"modfiles/NaTs.mod\" \"modfiles/NaV.mod\" \"modfiles/SK.mod\" \"modfiles/vecevent.mod\"\n",
      "\n",
      "COBJS=''\n",
      " -> \u001b[32mCompiling\u001b[0m mod_func.c\n",
      "gcc -O2   -I.   -I/home/student/miniconda3/envs/bmtk-py38/lib/python3.8/site-packages/neuron/.data/include  -I/nrnwheel/openmpi/include -fPIC -c mod_func.c -o mod_func.o\n",
      " => \u001b[32mLINKING\u001b[0m shared library ./libnrnmech.so\n",
      "g++ -O2 -DVERSION_INFO='8.0.0' -std=c++11 -shared -fPIC  -I /home/student/miniconda3/envs/bmtk-py38/lib/python3.8/site-packages/neuron/.data/include -o ./libnrnmech.so -Wl,-soname,libnrnmech.so \\\n",
      "  ./mod_func.o ./CaDynamics.o ./Ca_HVA.o ./Ca_LVA.o ./Ih.o ./Im.o ./Im_v2.o ./Kd.o ./K_P.o ./K_T.o ./Kv2like.o ./Kv3_1.o ./Nap.o ./NaTa.o ./NaTs.o ./NaV.o ./SK.o ./vecevent.o  -L/home/student/miniconda3/envs/bmtk-py38/lib/python3.8/site-packages/neuron/.data/lib -lnrniv -Wl,-rpath,/home/student/miniconda3/envs/bmtk-py38/lib/python3.8/site-packages/neuron/.data/lib   \n",
      "rm -f ./.libs/libnrnmech.so ; mkdir -p ./.libs ; cp ./libnrnmech.so ./.libs/libnrnmech.so\n",
      "Successfully created x86_64/special\n"
     ]
    }
   ],
   "source": [
    "from bmtk.utils.create_environment import create_environment\n",
    "\n",
    "create_environment(\n",
    "    'bionet',\n",
    "    base_dir='.',                      # Where to save the scripts and config files\n",
    "    config_file='config.iclamp.json',  # \n",
    "    network_dir='network',             # Location of directory containing network files\n",
    "    output_dir='output_iclamp' ,       # Directory where simulation output will be put into\n",
    "    tstop=3000.0, dt=0.1,              # Run a simulation for 2000 ms at 0.1 ms intervals\n",
    "    current_clamp= {\n",
    "        'amp': 0.150,                  # Current size (pA)\n",
    "        'delay': 500,                  # Time from start of simulation to onset of step (ms)\n",
    "        'duration': 2000               # Duration of current step (ms)\n",
    "    },\n",
    "    report_vars=['v'],                 # Record membrane potential\n",
    "    compile_mechanisms=True,           # Try to compile NEURON mechanisms\n",
    "    # overwrite=True,                  # Overwrite pre-existing config files of same name, default is False\n",
    ")"
   ]
  },
  {
   "cell_type": "markdown",
   "metadata": {},
   "source": [
    "Or also do the same in the command-line:\n",
    "```bash\n",
    "  $ python -m bmtk.utils.create_environment        \\\n",
    "                 --config-file config.iclamp.json  \\\n",
    "                 --overwrite                       \\\n",
    "                 --network-dir network             \\\n",
    "                 --output-dir output_iclamp        \\\n",
    "                 --tstop 3000.0                    \\\n",
    "                 --dt 0.1                          \\\n",
    "                 --report-vars v                   \\\n",
    "                 --iclamp 0.150,500,2000           \\\n",
    "                 --compile-mechanisms              \\\n",
    "                 bionet .\n",
    "```"
   ]
  },
  {
   "cell_type": "markdown",
   "metadata": {},
   "source": [
    "If you get ```Arg Error: \"modfiles\" is not a folder or mod file name or prefix```, **copy the *modfiles* folder containing the NEURON .mod files (located in *Resources_Ch2*) into *components/mechanisms/* and rerun**.\n",
    "\n",
    "**If working from scratch, add the electrophysiology params file into _components/biophysical_neuron_models/_, the morphology .swc file into _components/morphologies/_, and the hoc templates into _components/templates_.**\n",
    "\n",
    "If you do not delete the existing config files, you will get a warning indicating that these files have not been overwritten. For the purposes of this tutorial, that is okay as we are just remaking the same files.\n",
    "\n",
    "After running this, your directory structure should look like the following.\n",
    "\n",
    "<div>\n",
    "    <img src=\"../images/bmtk_workspace_setup.png\" width=\"650\" align=\"left\"/>    \n",
    "</div>"
   ]
  },
  {
   "cell_type": "markdown",
   "metadata": {},
   "source": [
    "Let's take a look at the configuration JSON files that were created and see how we could edit them directly. \n",
    "\n",
    "##### config.iclamp.json\n",
    "\n",
    "Opening up the config file in a text editor we can see it consists of sections:\n",
    "\n",
    "```json\n",
    "{\n",
    "  \"manifest\": {\n",
    "    \"$BASE_DIR\": \"${configdir}\",\n",
    "    \"$NETWORK_DIR\": \"$BASE_DIR/network\",\n",
    "    \"$COMPONENTS_DIR\": \"$BASE_DIR/components\",\n",
    "    \"$OUTPUT_DIR\": \"$BASE_DIR/output_iclamp\"\n",
    "  },\n",
    "  \"components\": {\n",
    "    \"templates_dir\": \"$COMPONENTS_DIR/templates\",\n",
    "    \"synaptic_models_dir\": \"$COMPONENTS_DIR/synaptic_models\",\n",
    "    \"biophysical_neuron_models_dir\": \"$COMPONENTS_DIR/biophysical_neuron_models\",\n",
    "    \"morphologies_dir\": \"$COMPONENTS_DIR/morphologies\",\n",
    "    \"mechanisms_dir\": \"$COMPONENTS_DIR/mechanisms\",\n",
    "    \"filter_models_dir\": \"$COMPONENTS_DIR/filter_models\",\n",
    "    \"point_neuron_models_dir\": \"$COMPONENTS_DIR/point_neuron_models\"\n",
    "  },\n",
    "  \"networks\": {\n",
    "    \"nodes\": [\n",
    "      {\n",
    "        \"node_types_file\": \"$NETWORK_DIR/cell_node_types.csv\",\n",
    "        \"nodes_file\": \"$NETWORK_DIR/cell_nodes.h5\"\n",
    "      }\n",
    "    ],\n",
    "    \"edges\": [],\n",
    "    \"gap_juncs\": []\n",
    "  }\n",
    "}\n",
    "```\n",
    "\n",
    "* The \"__networks__\" section points to the location on the disk of all the SONATA nodes and edges files that we will be using. The model we have just built using the NetworkBuilder currently only consists of a single node (i.e., cell) which was saved in the _network/_ folder.\n",
    "\n",
    "\n",
    "* The \"__components__\" section is where we set the location of any external files - including the Cell-Type database electrophysiology and morphology files. For this simulation the relevant components include:\n",
    "  * biophysical_neuron_models_dir: directory containing any **dynamics_params** files used to build the individual cell models\n",
    "  * morphologies_dir: directory containing any swc or other morphology files BMTK will require to build the cells\n",
    "  * mechanisms_dir: This is where we can put any extra compiled mechanisms that are required by the NEURON simulator. The Allen Cell-Type models require some voltage-gated channel mechanisms that must be precompiled and loaded into NEURON before running. If the appropriate *.mod files are placed in _mechanisms/modfiles/_, BMTK  will compile the mechanisms for us when using the setting ```compile_mechanisms=True``` in ```bmtk.utils.create_environment```. Otherwise, we would need to run the following: \n",
    "  ```bash\n",
    "  $ cd components/mechansims\n",
    "  $ nrnivmodl modfiles\n",
    "  ```\n",
    "  * filter_models_dir and point_neuron_models_dir: For other types of networks (FilterNet and PointNet), not used in this tutorial.\n"
   ]
  },
  {
   "cell_type": "markdown",
   "metadata": {},
   "source": [
    "Next we have the simulation sections of the config which is where we can set the main parameters for running individual simulations. It too can be broken down into a number of different parts:\n",
    "\n",
    "* The \"__run__\" and \"__conditions__\" sections contain basic information including for how long we want to run the simulation (*tstop*, in ms), the time steps (_dt_), maximum NEURON compartment size (_dL_, in um) and the threshold at which NEURON will recognize a spike (_spike_threshold_, in mV) and other conditions. \n",
    "\n",
    "  ```json\n",
    "  \"target_simulator\": \"NEURON\",\n",
    "  \"run\": {\n",
    "    \"tstart\": 0.0,\n",
    "    \"tstop\": 3000.0,\n",
    "    \"dt\": 0.1,\n",
    "    \"dL\": 20.0,\n",
    "    \"spike_threshold\": -15.0,\n",
    "    \"nsteps_block\": 5000\n",
    "  },\n",
    "  \"conditions\": {\n",
    "    \"celsius\": 34.0,\n",
    "    \"v_init\": -80.0\n",
    "  },\n",
    "```\n",
    " \n",
    "  The _nsteps_block_ parameter determines the interval (in time-steps) at which intermediate results are calculated and saved. This will not affect the results but can affect time and memory efficiency of simulation.\n",
    "\n",
    "\n",
    "* The \"__output__\" and \"__reports__\" sections are where we specify which parameters from the simulation are recorded and where on the disk the results are stored. \n",
    "  By default BMTK will record and save spikes to the specified \"spikes_files\" into \"output_dir\". For other types of recording we can add one or more subsection to \"__reports__\". For example, if we wanted to be able to record the membrane potential, or \"v\" variable, from our cell's soma, we could add a report section as the following:\n",
    "\n",
    "``` json\n",
    "  \"output\": {\n",
    "    \"log_file\": \"log.txt\",\n",
    "    \"output_dir\": \"$OUTPUT_DIR\",\n",
    "    \"spikes_file\": \"spikes.h5\"\n",
    "  },\n",
    "  \"reports\": {\n",
    "    \"v_report\": {\n",
    "      \"variable_name\": \"v\",\n",
    "      \"cells\": \"all\",\n",
    "      \"module\": \"membrane_report\",\n",
    "      \"sections\": \"soma\"\n",
    "    }\n",
    "  },\n",
    "```\n",
    "\n",
    "  Alternatively, we can specify this when we first set up the simulation with ```bmtk.utils.create_environment``` (as was done above), which assigns it the name \"v_report\".\n",
    "  \n",
    "  * \"module\" parameter is used to indicate what type of SONATA report is being recorded, in this case a report on one or more membrane variables. \"variable_name\" is used to specify what variable is being recorded.\n",
    "  * The \"cells\" section is used to indicate what subset of cells we want to record from. Here we are using the reserved \"all\" designator to record from all possible cells. We could also pass a dictonary of key/value pairs to filter\n",
    " ```json\n",
    "   \"cells\": {\"ei_type\": 'excitatory', 'location': 'VISp'}\n",
    " ```\n",
    "   or we can pass in a list of node_ids\n",
    " ```json\n",
    "   cells: [0]\n",
    " ```\n",
    " Of course for our network with only one cell all the above options will produce the same results.\n",
    "\n",
    " \n",
    "* The \"__inputs__\" section is where we specify the inputs we want to use to drive the simulation. Instead of specifying the current clamp with ```bmtk.utils.create_environment``` as above, we could have alternatively directly added the following section to the simulation config to provide a current clamp (aka IClamp) into the soma of our cell:\n",
    "\n",
    "``` json\n",
    "  \"inputs\": {\n",
    "    \"current_clamp\": {\n",
    "      \"input_type\": \"current_clamp\",\n",
    "      \"module\": \"IClamp\",\n",
    "      \"node_set\": \"all\",\n",
    "      \"gids\": \"all\",\n",
    "      \"amp\": 0.15,\n",
    "      \"delay\": 500,\n",
    "      \"duration\": 2000\n",
    "    }\n",
    "  },\n",
    "```\n",
    "  * \"input_type\" and \"module\" parameters indicate the type of input BMTK will produce\n",
    "  * \"node_set\" refers to the subset of nodes we want to apply the current-clamp to. The \"all\" keyword will be used to apply input to all cells in network. As above we could also pass in a list of node_ids ```\"node_set\": [0]``` or even a set of conditions ```node_set: {\"ei_type\": \"excitatory\"}``` to filter which cells receive the current clamp.\n",
    "  * \"delay\", \"duration\" and \"amp\" are used to specify the timing and amplitude of the stimulus. In this case we are applying a 0.150 nA pulse starting at 500 ms and lasting for 2000 ms.\n",
    "  \n",
    "  We can also run a simulation with multiple inputs, including the same or different types of inputs. For example to run increasing current impulses in series we would update the \"__inputs__\" section as following:\n",
    "```json\n",
    "  \"inputs\": {  \n",
    "    \"cclamp_weak\": {\n",
    "      \"input_type\": \"current_clamp\",\n",
    "      \"module\": \"IClamp\",\n",
    "      \"node_set\": \"all\",\n",
    "      \"amp\": 0.01,\n",
    "      \"delay\": 100.0,\n",
    "      \"duration\": 900.0\n",
    "    },  \n",
    "    \"cclamp_medium\": {\n",
    "      \"input_type\": \"current_clamp\",\n",
    "      \"module\": \"IClamp\",\n",
    "      \"node_set\": \"all\",\n",
    "      \"amp\": 0.200,\n",
    "      \"delay\": 1100.0,\n",
    "      \"duration\": 900.0\n",
    "    }, \n",
    "    \"cclamp_strong\": {\n",
    "      \"input_type\": \"current_clamp\",\n",
    "      \"module\": \"IClamp\",\n",
    "      \"node_set\": \"all\",\n",
    "      \"amp\": 0.900,\n",
    "      \"delay\": 2100.0,\n",
    "      \"duration\": 900.0\n",
    "    }\n",
    "```"
   ]
  },
  {
   "cell_type": "markdown",
   "metadata": {},
   "source": [
    "### Use VND to examine the 3D structure of the model described in the JSON configuration file.\n",
    "\n",
    "Launch VND by typing `vnd` on the Linux command line.\n",
    "\n",
    "In the Visual Neuronal Dynamics window select, select menu item  **File : Open File**\n",
    "and choose the file `Ch2_single_cell/config.iclamp.json`.\n",
    "\n",
    "\n",
    "\n",
    "You should see the default \"soma\" view, a single sphere, since this is a single cell model.\n",
    "\n",
    "In the VND Main tab, there should be one item in the list of representations. Change the representational style from\n",
    "**Style:Soma**\n",
    "to\n",
    "**Style:Morphology**\n",
    "to see the biophysical detail of the cell.\n",
    "\n",
    "Explore the cell morphology with zooming, rotation, and translation:\n",
    "\n",
    "- press **s** (scale mode), click left mouse button and drag left/right to scale \n",
    "- press **t** (translate mode) to move left and right up and down: click left mouse button and drag\n",
    "- press **r** (rotation mode) to return to rotation mode: click left mouse button and drag\n",
    "- in all modes, rotate the mouse wheel to scale up/down, as if in **s** (scale mode)\n",
    "\n",
    "<div>\n",
    "  <img src=\"../images/ch2_iclamp_morphology.png\" width=\"805\" align=\"left\" style=\"margin-left:26px\"/>    \n",
    "</div>\n",
    "<br clear=\"left\">\n",
    "\n"
   ]
  },
  {
   "cell_type": "markdown",
   "metadata": {},
   "source": [
    "### Running a simulation\n",
    "\n",
    "Now that we have built our network and set up our configuration we are ready to run our simulation. This can be done in a terminal or IDE using the \"run_bionet.py\" script created for us:\n",
    "\n",
    "```bash\n",
    "$ python run_bionet.py config.iclamp.json\n",
    "```\n",
    "\n",
    "or in the notebook:\n"
   ]
  },
  {
   "cell_type": "code",
   "execution_count": 6,
   "metadata": {},
   "outputs": [
    {
     "name": "stdout",
     "output_type": "stream",
     "text": [
      "2022-07-25 13:00:32,509 [INFO] Created log file\n"
     ]
    },
    {
     "name": "stderr",
     "output_type": "stream",
     "text": [
      "INFO:NEURONIOUtils:Created log file\n"
     ]
    },
    {
     "name": "stdout",
     "output_type": "stream",
     "text": [
      "2022-07-25 13:00:32,963 [INFO] Building cells.\n"
     ]
    },
    {
     "name": "stderr",
     "output_type": "stream",
     "text": [
      "INFO:NEURONIOUtils:Building cells.\n"
     ]
    },
    {
     "name": "stdout",
     "output_type": "stream",
     "text": [
      "2022-07-25 13:00:33,260 [INFO] Building recurrent connections\n"
     ]
    },
    {
     "name": "stderr",
     "output_type": "stream",
     "text": [
      "INFO:NEURONIOUtils:Building recurrent connections\n"
     ]
    },
    {
     "name": "stdout",
     "output_type": "stream",
     "text": [
      "2022-07-25 13:00:33,269 [INFO] Running simulation for 3000.000 ms with the time step 0.100 ms\n"
     ]
    },
    {
     "name": "stderr",
     "output_type": "stream",
     "text": [
      "INFO:NEURONIOUtils:Running simulation for 3000.000 ms with the time step 0.100 ms\n"
     ]
    },
    {
     "name": "stdout",
     "output_type": "stream",
     "text": [
      "2022-07-25 13:00:33,271 [INFO] Starting timestep: 0 at t_sim: 0.000 ms\n"
     ]
    },
    {
     "name": "stderr",
     "output_type": "stream",
     "text": [
      "INFO:NEURONIOUtils:Starting timestep: 0 at t_sim: 0.000 ms\n"
     ]
    },
    {
     "name": "stdout",
     "output_type": "stream",
     "text": [
      "2022-07-25 13:00:33,272 [INFO] Block save every 5000 steps\n"
     ]
    },
    {
     "name": "stderr",
     "output_type": "stream",
     "text": [
      "INFO:NEURONIOUtils:Block save every 5000 steps\n"
     ]
    },
    {
     "name": "stdout",
     "output_type": "stream",
     "text": [
      "2022-07-25 13:00:33,448 [INFO]     step:5000 t_sim:500.00 ms\n"
     ]
    },
    {
     "name": "stderr",
     "output_type": "stream",
     "text": [
      "INFO:NEURONIOUtils:    step:5000 t_sim:500.00 ms\n"
     ]
    },
    {
     "name": "stdout",
     "output_type": "stream",
     "text": [
      "2022-07-25 13:00:33,600 [INFO]     step:10000 t_sim:1000.00 ms\n"
     ]
    },
    {
     "name": "stderr",
     "output_type": "stream",
     "text": [
      "INFO:NEURONIOUtils:    step:10000 t_sim:1000.00 ms\n"
     ]
    },
    {
     "name": "stdout",
     "output_type": "stream",
     "text": [
      "2022-07-25 13:00:33,760 [INFO]     step:15000 t_sim:1500.00 ms\n"
     ]
    },
    {
     "name": "stderr",
     "output_type": "stream",
     "text": [
      "INFO:NEURONIOUtils:    step:15000 t_sim:1500.00 ms\n"
     ]
    },
    {
     "name": "stdout",
     "output_type": "stream",
     "text": [
      "2022-07-25 13:00:33,913 [INFO]     step:20000 t_sim:2000.00 ms\n"
     ]
    },
    {
     "name": "stderr",
     "output_type": "stream",
     "text": [
      "INFO:NEURONIOUtils:    step:20000 t_sim:2000.00 ms\n"
     ]
    },
    {
     "name": "stdout",
     "output_type": "stream",
     "text": [
      "2022-07-25 13:00:34,057 [INFO]     step:25000 t_sim:2500.00 ms\n"
     ]
    },
    {
     "name": "stderr",
     "output_type": "stream",
     "text": [
      "INFO:NEURONIOUtils:    step:25000 t_sim:2500.00 ms\n"
     ]
    },
    {
     "name": "stdout",
     "output_type": "stream",
     "text": [
      "2022-07-25 13:00:34,208 [INFO]     step:30000 t_sim:3000.00 ms\n"
     ]
    },
    {
     "name": "stderr",
     "output_type": "stream",
     "text": [
      "INFO:NEURONIOUtils:    step:30000 t_sim:3000.00 ms\n"
     ]
    },
    {
     "name": "stdout",
     "output_type": "stream",
     "text": [
      "2022-07-25 13:00:34,220 [INFO] Simulation completed in 0.9502 seconds \n"
     ]
    },
    {
     "name": "stderr",
     "output_type": "stream",
     "text": [
      "INFO:NEURONIOUtils:Simulation completed in 0.9502 seconds \n"
     ]
    }
   ],
   "source": [
    "from bmtk.simulator import bionet\n",
    "\n",
    "conf = bionet.Config.from_json('config.iclamp.json')\n",
    "conf.build_env()\n",
    "\n",
    "net = bionet.BioNetwork.from_config(conf)\n",
    "sim = bionet.BioSimulator.from_config(conf, network=net)\n",
    "sim.run()"
   ]
  },
  {
   "cell_type": "markdown",
   "metadata": {},
   "source": [
    "As specified in *simulation_config_iclamp.json*, BMTK was instructed to create reports for spike trains (default) as well as the membrane potential from the soma (in the \"__reports__\" section). We can use BMTK's analyzer module to display these for our one cell with node id 0."
   ]
  },
  {
   "cell_type": "code",
   "execution_count": 7,
   "metadata": {
    "scrolled": true
   },
   "outputs": [
    {
     "data": {
      "image/png": "[encoded data removed]",
      "text/plain": [
       "<Figure size 432x288 with 1 Axes>"
      ]
     },
     "metadata": {
      "needs_background": "light"
     },
     "output_type": "display_data"
    }
   ],
   "source": [
    "from bmtk.analyzer.spike_trains import plot_raster, to_dataframe\n",
    "\n",
    "_ = plot_raster(config_file='config.iclamp.json', with_histogram=False)"
   ]
  },
  {
   "cell_type": "code",
   "execution_count": 8,
   "metadata": {},
   "outputs": [
    {
     "data": {
      "text/html": [
       "<div>\n",
       "<style scoped>\n",
       "    .dataframe tbody tr th:only-of-type {\n",
       "        vertical-align: middle;\n",
       "    }\n",
       "\n",
       "    .dataframe tbody tr th {\n",
       "        vertical-align: top;\n",
       "    }\n",
       "\n",
       "    .dataframe thead th {\n",
       "        text-align: right;\n",
       "    }\n",
       "</style>\n",
       "<table border=\"1\" class=\"dataframe\">\n",
       "  <thead>\n",
       "    <tr style=\"text-align: right;\">\n",
       "      <th></th>\n",
       "      <th>timestamps</th>\n",
       "      <th>node_ids</th>\n",
       "      <th>population</th>\n",
       "    </tr>\n",
       "  </thead>\n",
       "  <tbody>\n",
       "    <tr>\n",
       "      <th>0</th>\n",
       "      <td>551.1</td>\n",
       "      <td>0</td>\n",
       "      <td>cell</td>\n",
       "    </tr>\n",
       "    <tr>\n",
       "      <th>1</th>\n",
       "      <td>2346.7</td>\n",
       "      <td>0</td>\n",
       "      <td>cell</td>\n",
       "    </tr>\n",
       "    <tr>\n",
       "      <th>2</th>\n",
       "      <td>2272.7</td>\n",
       "      <td>0</td>\n",
       "      <td>cell</td>\n",
       "    </tr>\n",
       "    <tr>\n",
       "      <th>3</th>\n",
       "      <td>2198.5</td>\n",
       "      <td>0</td>\n",
       "      <td>cell</td>\n",
       "    </tr>\n",
       "    <tr>\n",
       "      <th>4</th>\n",
       "      <td>2124.3</td>\n",
       "      <td>0</td>\n",
       "      <td>cell</td>\n",
       "    </tr>\n",
       "    <tr>\n",
       "      <th>5</th>\n",
       "      <td>2049.9</td>\n",
       "      <td>0</td>\n",
       "      <td>cell</td>\n",
       "    </tr>\n",
       "    <tr>\n",
       "      <th>6</th>\n",
       "      <td>1975.3</td>\n",
       "      <td>0</td>\n",
       "      <td>cell</td>\n",
       "    </tr>\n",
       "    <tr>\n",
       "      <th>7</th>\n",
       "      <td>1900.5</td>\n",
       "      <td>0</td>\n",
       "      <td>cell</td>\n",
       "    </tr>\n",
       "    <tr>\n",
       "      <th>8</th>\n",
       "      <td>1825.4</td>\n",
       "      <td>0</td>\n",
       "      <td>cell</td>\n",
       "    </tr>\n",
       "    <tr>\n",
       "      <th>9</th>\n",
       "      <td>1750.1</td>\n",
       "      <td>0</td>\n",
       "      <td>cell</td>\n",
       "    </tr>\n",
       "    <tr>\n",
       "      <th>10</th>\n",
       "      <td>1674.4</td>\n",
       "      <td>0</td>\n",
       "      <td>cell</td>\n",
       "    </tr>\n",
       "    <tr>\n",
       "      <th>11</th>\n",
       "      <td>1598.4</td>\n",
       "      <td>0</td>\n",
       "      <td>cell</td>\n",
       "    </tr>\n",
       "    <tr>\n",
       "      <th>12</th>\n",
       "      <td>2420.6</td>\n",
       "      <td>0</td>\n",
       "      <td>cell</td>\n",
       "    </tr>\n",
       "    <tr>\n",
       "      <th>13</th>\n",
       "      <td>1521.9</td>\n",
       "      <td>0</td>\n",
       "      <td>cell</td>\n",
       "    </tr>\n",
       "    <tr>\n",
       "      <th>14</th>\n",
       "      <td>1367.3</td>\n",
       "      <td>0</td>\n",
       "      <td>cell</td>\n",
       "    </tr>\n",
       "    <tr>\n",
       "      <th>15</th>\n",
       "      <td>1289.0</td>\n",
       "      <td>0</td>\n",
       "      <td>cell</td>\n",
       "    </tr>\n",
       "    <tr>\n",
       "      <th>16</th>\n",
       "      <td>1209.9</td>\n",
       "      <td>0</td>\n",
       "      <td>cell</td>\n",
       "    </tr>\n",
       "    <tr>\n",
       "      <th>17</th>\n",
       "      <td>1129.8</td>\n",
       "      <td>0</td>\n",
       "      <td>cell</td>\n",
       "    </tr>\n",
       "    <tr>\n",
       "      <th>18</th>\n",
       "      <td>1048.6</td>\n",
       "      <td>0</td>\n",
       "      <td>cell</td>\n",
       "    </tr>\n",
       "    <tr>\n",
       "      <th>19</th>\n",
       "      <td>966.1</td>\n",
       "      <td>0</td>\n",
       "      <td>cell</td>\n",
       "    </tr>\n",
       "    <tr>\n",
       "      <th>20</th>\n",
       "      <td>882.6</td>\n",
       "      <td>0</td>\n",
       "      <td>cell</td>\n",
       "    </tr>\n",
       "    <tr>\n",
       "      <th>21</th>\n",
       "      <td>799.2</td>\n",
       "      <td>0</td>\n",
       "      <td>cell</td>\n",
       "    </tr>\n",
       "    <tr>\n",
       "      <th>22</th>\n",
       "      <td>720.4</td>\n",
       "      <td>0</td>\n",
       "      <td>cell</td>\n",
       "    </tr>\n",
       "    <tr>\n",
       "      <th>23</th>\n",
       "      <td>652.7</td>\n",
       "      <td>0</td>\n",
       "      <td>cell</td>\n",
       "    </tr>\n",
       "    <tr>\n",
       "      <th>24</th>\n",
       "      <td>597.3</td>\n",
       "      <td>0</td>\n",
       "      <td>cell</td>\n",
       "    </tr>\n",
       "    <tr>\n",
       "      <th>25</th>\n",
       "      <td>1444.9</td>\n",
       "      <td>0</td>\n",
       "      <td>cell</td>\n",
       "    </tr>\n",
       "    <tr>\n",
       "      <th>26</th>\n",
       "      <td>2494.5</td>\n",
       "      <td>0</td>\n",
       "      <td>cell</td>\n",
       "    </tr>\n",
       "  </tbody>\n",
       "</table>\n",
       "</div>"
      ],
      "text/plain": [
       "    timestamps  node_ids population\n",
       "0        551.1         0       cell\n",
       "1       2346.7         0       cell\n",
       "2       2272.7         0       cell\n",
       "3       2198.5         0       cell\n",
       "4       2124.3         0       cell\n",
       "5       2049.9         0       cell\n",
       "6       1975.3         0       cell\n",
       "7       1900.5         0       cell\n",
       "8       1825.4         0       cell\n",
       "9       1750.1         0       cell\n",
       "10      1674.4         0       cell\n",
       "11      1598.4         0       cell\n",
       "12      2420.6         0       cell\n",
       "13      1521.9         0       cell\n",
       "14      1367.3         0       cell\n",
       "15      1289.0         0       cell\n",
       "16      1209.9         0       cell\n",
       "17      1129.8         0       cell\n",
       "18      1048.6         0       cell\n",
       "19       966.1         0       cell\n",
       "20       882.6         0       cell\n",
       "21       799.2         0       cell\n",
       "22       720.4         0       cell\n",
       "23       652.7         0       cell\n",
       "24       597.3         0       cell\n",
       "25      1444.9         0       cell\n",
       "26      2494.5         0       cell"
      ]
     },
     "execution_count": 8,
     "metadata": {},
     "output_type": "execute_result"
    }
   ],
   "source": [
    "to_dataframe(config_file='config.iclamp.json')"
   ]
  },
  {
   "cell_type": "code",
   "execution_count": 9,
   "metadata": {
    "scrolled": true
   },
   "outputs": [
    {
     "data": {
      "image/png": "[encoded data removed]",
      "text/plain": [
       "<Figure size 432x288 with 1 Axes>"
      ]
     },
     "metadata": {
      "needs_background": "light"
     },
     "output_type": "display_data"
    }
   ],
   "source": [
    "from bmtk.analyzer.compartment import plot_traces\n",
    "\n",
    "_ = plot_traces(config_file='config.iclamp.json', report_name='v_report')"
   ]
  },
  {
   "cell_type": "markdown",
   "metadata": {},
   "source": [
    "## Simulation with Synaptic Stimulation\n",
    "\n",
    "Stimulation with current clamp can provide useful information on the core electrophysiological profile of cells. However, if we are going to fit our cells into a large connected network we will want to show how the cell behaves when more realistic synaptic inputs are given to the cell.\n",
    "\n",
    "The easiest way to drive a cell, or network, with synaptic stimulation is to use \"virtual\" type cells. Virtual cells do not have any electrophysiological or morphological properties, and are essentially just placeholders for spike-trains or currents. However, they can create feed-forward synapses.\n",
    "\n",
    "Luckily, we can add virtual cells to our model and simulation without having to rebuild the network. BMTK and SONATA allows for different populations of a network to be built independently and connected together in the config. So to add synaptic stimuli using virtual cells we will do the following:\n",
    "1. Create a new network of virtual cells that synapse onto our existing Scnn1a model.\n",
    "2. Generate spikes for our virtual cells.\n",
    "3. Update the configuration files.\n",
    "4. Rerun the simulation.\n",
    "\n"
   ]
  },
  {
   "cell_type": "markdown",
   "metadata": {},
   "source": [
    "### Creating the network\n",
    "\n",
    "As before we will use the network builder to create a new population of cells we will call \"virt_exc\". We will create 20 different \"virt_exc\" type cells by using the ```N=20``` option. \n",
    "\n",
    "And unlike biophysically detailed cells we don't need to specify dynamics_params, model_template, model_processing or morphology. All we need to do is specify that ```model_type='virtual'```."
   ]
  },
  {
   "cell_type": "code",
   "execution_count": 10,
   "metadata": {},
   "outputs": [],
   "source": [
    "virt_exc = NetworkBuilder('virt_exc')\n",
    "virt_exc.add_nodes(\n",
    "    N=20,\n",
    "    model_type='virtual',\n",
    "    ei_type='exc'\n",
    ")"
   ]
  },
  {
   "cell_type": "markdown",
   "metadata": {},
   "source": [
    "Next we want to create edges/synapses from our virtual cells onto our Scnn1a cells using the ```add_edges()``` method."
   ]
  },
  {
   "cell_type": "code",
   "execution_count": 11,
   "metadata": {},
   "outputs": [],
   "source": [
    "import numpy as np\n",
    "from bmtk.builder.bionet import rand_syn_locations\n",
    "\n",
    "\n",
    "conns = virt_exc.add_edges(\n",
    "    source=virt_exc.nodes(),\n",
    "    target=scnn1a.nodes(),\n",
    "    connection_rule=12,\n",
    "    model_template='Exp2Syn',\n",
    "    dynamics_params='AMPA_ExcToExc.json',\n",
    "    delay=2.0,\n",
    "    syn_weight=0.004\n",
    ")\n",
    "\n",
    "conns.add_properties(\n",
    "    ['afferent_section_id', 'afferent_section_pos', 'afferent_swc_id', 'afferent_swc_pos'],\n",
    "    rule=rand_syn_locations,\n",
    "    rule_params={\n",
    "        'sections': ['soma', 'basal', 'apical'], \n",
    "        'distance_range': [0.0, 1.0e20],\n",
    "        'morphology_dir': 'components/morphologies' \n",
    "    },\n",
    "    dtypes=[int, float, int, float]\n",
    "\n",
    ")\n",
    "\n",
    "virt_exc.build()\n",
    "virt_exc.save(output_dir='network')\n"
   ]
  },
  {
   "cell_type": "markdown",
   "metadata": {},
   "source": [
    "First the ```add_edges()``` method is called which can create different edge types based on the following parameters:\n",
    "\n",
    "* __source__ and __target__ are used to determine what subset of cells will be used as the pre- and post-synaptic neurons. By indicating virt_exc.nodes() we are saying that the source/pre-synaptic neurons for these types of edges are all \"virt_exc\" nodes. Similarly scnn1a.nodes() indicates we want to use all (i.e., the only) neuron in the scnn1a network. \n",
    "\n",
    "  We could also add key-value pairs to get a subset of the neurons for these edge-types. For example we could explicitly state we want only to connect to excitatory L4 neurons by setting ```target=scnn1a.nodes(ei_type='exc', layer='L4')```. Of course with only one cell-type in our population it will still produce the same results.\n",
    " \n",
    " \n",
    "* __connection_rule__ is used to indicate the number of connections between each neuron in our source and target subsets. By passing in ```connection_rule=12``` we are telling the Builder that every source cells has 12 individual synapses onto every target cell. Later we will show how to pass in customized functions or lists to fine tune the rules of connectivity.\n",
    "\n",
    "\n",
    "* __model_template__ is used to indicate the NEURON synapse model, in this case an [Exp2Syn](https://www.neuron.yale.edu/neuron/static/new_doc/modelspec/programmatic/mechanisms/mech.html#Exp2Syn) model. __dynamics_params__ for the synapse, like for neurons, contains the property values for our synapse type. The location of synaptic dynamics param files are set using the \"synaptic_models_dir\" option in the config file. \n",
    "\n",
    "\n",
    "* __syn_weight__ and __delay__ are properties of this synaptic type.\n",
    "\n",
    "After using ```add_edges()``` to create shared properties that will apply to all connections of this edge-type, we have the option of using ```add_properties()``` to add individual synaptic properties. In this case we want to specify the location of the individual synapses along our Scnn1a cell's morphology.\n",
    "\n",
    "Here we are using the ```rand_syn_locations``` function, built into the BMTK Builder, to randomly select locations of each synapse based on the criteria set in __rule_params__ - which indicates we want any section (soma, apical dendrites, basal dendrites) at any distance (arc-length from soma in um). This function will add the section and position properties to the SONATA edges file so both BMTK and VND can pin-point the simulation.\n",
    "\n",
    "Finally, we call ```build()``` and ```save()``` which will create new nodes and edges files to the _network/_ directory\n"
   ]
  },
  {
   "cell_type": "markdown",
   "metadata": {},
   "source": [
    "Let us also create another network of virtual nodes, but this time of inhibitory inputs. This will look the same but for connections we will alter it so that:\n",
    "1. For the **connection_rule** in ```add_edges()``` we will randomized the number of connections between each source and target neuron.\n",
    "2. In ```add_properties()``` we will prevent synapses being located near the soma.\n"
   ]
  },
  {
   "cell_type": "code",
   "execution_count": 12,
   "metadata": {},
   "outputs": [],
   "source": [
    "virt_inh = NetworkBuilder('virt_inh')\n",
    "virt_inh.add_nodes(\n",
    "    N=30,\n",
    "    model_type='virtual',\n",
    "    ei_type='inh'\n",
    ")\n",
    "\n",
    "conns = virt_inh.add_edges(\n",
    "    source=virt_inh.nodes(),\n",
    "    target=scnn1a.nodes(),\n",
    "    connection_rule=lambda src, trg: np.random.randint(0, 25),\n",
    "    model_template='Exp2Syn',\n",
    "    dynamics_params='GABA_InhToExc.json',\n",
    "    delay=2.0,\n",
    "    syn_weight=0.008\n",
    ")\n",
    "\n",
    "conns.add_properties(\n",
    "    ['afferent_section_id', 'afferent_section_pos', 'afferent_swc_id', 'afferent_swc_pos'],\n",
    "    rule=rand_syn_locations,\n",
    "    rule_params={\n",
    "        'sections': ['basal', 'apical'], \n",
    "        'distance_range': [20.0, 1.0e20],\n",
    "        'morphology_dir': 'components/morphologies' \n",
    "    },\n",
    "    dtypes=[int, float, int, float]\n",
    ")\n",
    "\n",
    "virt_inh.build()\n",
    "virt_inh.save(output_dir='network')\n"
   ]
  },
  {
   "cell_type": "markdown",
   "metadata": {},
   "source": [
    "**At this point we need to add the synaptic model parameter files into _components/synaptic_models/_.**"
   ]
  },
  {
   "cell_type": "markdown",
   "metadata": {},
   "source": [
    "### Use VND to examine the synapses in this model\n",
    "\n",
    "Launch VND by typing `vnd` on the Linux command line.\n",
    "\n",
    "In the Visual Neuronal Dynamics window select, select menu item  **File : Open File with Edges**\n",
    "and choose the file `Ch2_single_cell/config.with_syns.json`.\n",
    "\n",
    "\n",
    "\n",
    "You should see the default \"soma\" view, a single sphere, since this is a single cell model.\n",
    "\n",
    "In the VND Main tab, there should be one item in the list of representations. Change the representational style from\n",
    "**Style:Soma**\n",
    "to\n",
    "**Style:Morphology**\n",
    "to see the biophysical detail of the cell.\n",
    "\n",
    "Explore the cell morphology with zooming, rotation, and translation.\n",
    "\n",
    "Add the synapse locations for this cell:\n",
    "\n",
    "In the VND Connectivity tab:\n",
    "set \n",
    "- Source: all (either select the existing \"all\" selection from the pop-up list, or type \"all\")\n",
    "- Target: all\n",
    "- Color: green\n",
    "- Style: source_sphere_swc\n",
    "and click \"Create Connection Rep\"\n",
    "\n",
    " then set:\n",
    " \n",
    "- Source: all\n",
    "- Target: all\n",
    "- Color: red \n",
    "- Style: target_sphere_swc\n",
    "and click \"Create Connection Rep\"\n",
    "\n",
    "You should see the synapse target locations as red spheres, and the soma as a green sphere.  In this model, the cell soma is a potential \"source\", but only in the context of other cells, not to elsewhere in the same cell.  In the below image, a 100 micron bar is added for scale.\n",
    "\n",
    "Explore the synapse locations with zooming, rotation, and translation.\n",
    "\n",
    "\n",
    "<div>\n",
    "  <img src=\"../images/ch2_simple_edge_swc_c_micron_scale__source_swc_red_target_swc_red.png\" width=\"805\" align=\"left\" style=\"margin-left:26px\"/>    \n",
    "</div>\n",
    "<br clear=\"left\">"
   ]
  },
  {
   "cell_type": "markdown",
   "metadata": {},
   "source": [
    "### Generating spike trains\n",
    "\n",
    "As mentioned virtual cells are just placeholders, most commonly for pre-generated spike trains. To activate the network we must create spikes we can assign to our virtual cells by creating a SONATA spike-trains file. There are a number of ways to do this in bmtk, the easiest is to use the built-in ```PoissonSpikeGenerator```.\n",
    "\n",
    "The following will create a spike-train file for our \"virt_exc\" cells. For each cell in our \"virt_exc\" nodes file we will randomly generate a series of action-potentials firing at a rate of 15.0 Hz for 3 seconds, then save it to the _inputs/_ directory.\n"
   ]
  },
  {
   "cell_type": "code",
   "execution_count": 13,
   "metadata": {},
   "outputs": [],
   "source": [
    "from bmtk.utils.reports.spike_trains import PoissonSpikeGenerator\n",
    "\n",
    "psg = PoissonSpikeGenerator()\n",
    "psg.add(\n",
    "    node_ids='network/virt_exc_nodes.h5', \n",
    "    firing_rate=20.0, \n",
    "    times=(0.0, 3.0),\n",
    "    population='virt_exc'\n",
    ")\n",
    "psg.to_sonata('inputs/virt_exc_spikes.h5')"
   ]
  },
  {
   "cell_type": "markdown",
   "metadata": {},
   "source": [
    "The ```PoissonSpikeGenerator``` can also use variable firing rates, for example for the inhibitory virtual nodes the firing rate will be determined as a sine wave over the period of the simulation (make sure that firing-rate is always >= 0.0 otherwise an error will be thrown)."
   ]
  },
  {
   "cell_type": "code",
   "execution_count": 14,
   "metadata": {},
   "outputs": [
    {
     "data": {
      "image/png": "[encoded data removed]",
      "text/plain": [
       "<Figure size 432x288 with 1 Axes>"
      ]
     },
     "metadata": {
      "needs_background": "light"
     },
     "output_type": "display_data"
    },
    {
     "data": {
      "image/png": "[encoded data removed]",
      "text/plain": [
       "<Figure size 432x288 with 2 Axes>"
      ]
     },
     "metadata": {
      "needs_background": "light"
     },
     "output_type": "display_data"
    }
   ],
   "source": [
    "import matplotlib.pyplot as plt\n",
    "\n",
    "times = np.linspace(0.0, 3.0, 1000)\n",
    "rates = 10*np.sin(times*3) + 10\n",
    "\n",
    "\n",
    "psg = PoissonSpikeGenerator()\n",
    "psg.add(\n",
    "    node_ids='network/virt_inh_nodes.h5', \n",
    "    firing_rate=rates, \n",
    "    times=times,\n",
    "    population='virt_inh'\n",
    ")\n",
    "psg.to_sonata('inputs/virt_inh_spikes.h5')\n",
    "\n",
    "# plot the firing rates\n",
    "plt.plot(times, rates)\n",
    "\n",
    "_ = plot_raster(spikes_file='inputs/virt_inh_spikes.h5')"
   ]
  },
  {
   "cell_type": "markdown",
   "metadata": {},
   "source": [
    "Another option for generating spikes manually is to use the ```bmtk.utils.reports.spike_trains.SpikeTrains``` class. For example pseudo code may look something like the following - but filling in the actual spike times yourself:\n",
    "\n",
    "```python\n",
    "from bmtk.utils.reports.spike_trains import SpikeTrains\n",
    "\n",
    "spikes_writer = SpikeTrains()\n",
    "for node_id in node_ids:\n",
    "    spikes_writer.add_spikes(node_ids=node_id, timestamps=[...], population='virt_exc')\n",
    "spikes_writer.to_sonata('inputs/virt_exc_spikes.h5')\n",
    "```\n",
    "\n",
    "Alternatively, since SONATA spike train files are the same for input spikes as they are for outputs, one could use the output of one network simulation as the input to another. Indeed we will be using FilterNet for such a purpose later in the course.\n"
   ]
  },
  {
   "cell_type": "markdown",
   "metadata": {},
   "source": [
    "### Updating the configurations\n",
    "\n",
    "We've previously created the SONATA configuration file _config.iclamp.json_ that contains all the necessary paths and directives to run a simulation containing only the single \"cell\" population being stimulated by a series of current clamps. Now we want a single another config file that contains the **virt_exc** and **virt_inh** populations, their synaptic connections, and the spike-trains files we generated above. \n",
    "\n",
    "One option is to make a copy of _config.iclamp.json_ and update it accordingly as shown below. \n",
    "\n",
    "Or we can call the ```bmtk.utils.create_environment``` functionality as we did previously - but this time making sure we save the **config-file=config.with_syns.json**:"
   ]
  },
  {
   "cell_type": "code",
   "execution_count": 15,
   "metadata": {},
   "outputs": [
    {
     "name": "stdout",
     "output_type": "stream",
     "text": [
      "/home/student/Tutorials/bmtk_workshop_2022/Ch2_single_cell/components/mechanisms\n",
      "Mod files: \"modfiles/CaDynamics.mod\" \"modfiles/Ca_HVA.mod\" \"modfiles/Ca_LVA.mod\" \"modfiles/Ih.mod\" \"modfiles/Im.mod\" \"modfiles/Im_v2.mod\" \"modfiles/Kd.mod\" \"modfiles/K_P.mod\" \"modfiles/K_T.mod\" \"modfiles/Kv2like.mod\" \"modfiles/Kv3_1.mod\" \"modfiles/Nap.mod\" \"modfiles/NaTa.mod\" \"modfiles/NaTs.mod\" \"modfiles/NaV.mod\" \"modfiles/SK.mod\" \"modfiles/vecevent.mod\"\n",
      "\n",
      "COBJS=''\n",
      " -> \u001b[32mCompiling\u001b[0m mod_func.c\n",
      "gcc -O2   -I.   -I/home/student/miniconda3/envs/bmtk-py38/lib/python3.8/site-packages/neuron/.data/include  -I/nrnwheel/openmpi/include -fPIC -c mod_func.c -o mod_func.o\n",
      " => \u001b[32mLINKING\u001b[0m shared library ./libnrnmech.so\n",
      "g++ -O2 -DVERSION_INFO='8.0.0' -std=c++11 -shared -fPIC  -I /home/student/miniconda3/envs/bmtk-py38/lib/python3.8/site-packages/neuron/.data/include -o ./libnrnmech.so -Wl,-soname,libnrnmech.so \\\n",
      "  ./mod_func.o ./CaDynamics.o ./Ca_HVA.o ./Ca_LVA.o ./Ih.o ./Im.o ./Im_v2.o ./Kd.o ./K_P.o ./K_T.o ./Kv2like.o ./Kv3_1.o ./Nap.o ./NaTa.o ./NaTs.o ./NaV.o ./SK.o ./vecevent.o  -L/home/student/miniconda3/envs/bmtk-py38/lib/python3.8/site-packages/neuron/.data/lib -lnrniv -Wl,-rpath,/home/student/miniconda3/envs/bmtk-py38/lib/python3.8/site-packages/neuron/.data/lib   \n",
      "rm -f ./.libs/libnrnmech.so ; mkdir -p ./.libs ; cp ./libnrnmech.so ./.libs/libnrnmech.so\n",
      "Successfully created x86_64/special\n"
     ]
    }
   ],
   "source": [
    "from bmtk.utils.create_environment import create_environment\n",
    "\n",
    "create_environment(\n",
    "    'bionet',\n",
    "    base_dir='.',\n",
    "    network_dir='network',      \n",
    "    output_dir='output_syns',\n",
    "    config_file='config.with_syns.json',\n",
    "    overwrite=True,\n",
    "    tstop=3000.0, dt=0.1,  \n",
    "    report_vars=['v'], \n",
    "    spikes_inputs=[\n",
    "        ('virt_inh', 'inputs/virt_inh_spikes.h5'),\n",
    "        ('virt_exc', 'inputs/virt_exc_spikes.h5')\n",
    "    ],\n",
    "    compile_mechanisms=True,\n",
    "    run_script='run_bionet.syns.py'\n",
    ")"
   ]
  },
  {
   "cell_type": "markdown",
   "metadata": {},
   "source": [
    "Or also do the same in the command-line:\n",
    "```bash\n",
    "  $ python -m bmtk.utils.create_environment                                                             \\\n",
    "                 --config-file config.with_syns.json                                                    \\\n",
    "                 --overwrite                                                                            \\\n",
    "                 --network-dir network                                                                  \\\n",
    "                 --output-dir output_syns                                                               \\\n",
    "                 --tstop 3000.0                                                                         \\\n",
    "                 --dt 0.1                                                                               \\\n",
    "                 --report-vars v                                                                        \\\n",
    "                 --spikes-inputs virt_inh:inputs/virt_inh_spikes.h5,virt_exc:inputs/virt_exc_spikes.h5  \\\n",
    "                 --compile-mechanisms                                                                   \\\n",
    "                 bionet .\n",
    "```"
   ]
  },
  {
   "cell_type": "markdown",
   "metadata": {},
   "source": [
    "The main difference between the two above calls to ```create_environment``` is that \n",
    "1. We change the name of the *config_file* options so we can use either one, config.iclamp.json or config.with_syns.json, without having to overwrite them.\n",
    "2. We also change the *output_dir* so that the different simulations are saving results to different directories. With this it would overwrite the previous results each time we reran a simulation.\n",
    "3. Initially we use the *current_clamp* option which will edit the \"inputs\" section of the config with a iclamp with parameters specified in the dictionary. In the second simulation config we don't use current-clamps. Instead we pass in a list of spike trains with value (\\<population_name>, \\<spikes_file_path>).\n",
    "\n",
    "We can open up *config.with_syns.json* file with any text editor to see the major differences:\n",
    "\n",
    "\n",
    "As we can see in the \"networks\" section, our \"nodes\" include the SONATA nodes files for the \"**cell**\", \"**virt_inh**\" and \"**virt_exc**\" population of nodes. And in the \"edges\" section it includes **virt_ext** --> **cell** and **virt_inh** --> **cell** synapses.\n",
    "```json\n",
    "  \"networks\": {\n",
    "    \"nodes\": [\n",
    "      {\n",
    "        \"nodes_file\": \"$NETWORK_DIR/virt_inh_nodes.h5\",\n",
    "        \"node_types_file\": \"$NETWORK_DIR/virt_inh_node_types.csv\"\n",
    "      },\n",
    "      {\n",
    "        \"node_types_file\": \"$NETWORK_DIR/virt_exc_node_types.csv\",\n",
    "        \"nodes_file\": \"$NETWORK_DIR/virt_exc_nodes.h5\"\n",
    "      },\n",
    "      {\n",
    "        \"node_types_file\": \"$NETWORK_DIR/cell_node_types.csv\",\n",
    "        \"nodes_file\": \"$NETWORK_DIR/cell_nodes.h5\"\n",
    "      }\n",
    "    ],\n",
    "    \"edges\": [\n",
    "      {\n",
    "        \"edges_file\": \"$NETWORK_DIR/virt_inh_cell_edges.h5\",\n",
    "        \"edge_types_file\": \"$NETWORK_DIR/virt_inh_cell_edge_types.csv\"\n",
    "      },\n",
    "      {\n",
    "        \"edges_file\": \"$NETWORK_DIR/virt_exc_cell_edges.h5\",\n",
    "        \"edge_types_file\": \"$NETWORK_DIR/virt_exc_cell_edge_types.csv\"\n",
    "      }\n",
    "    ]\n",
    "  }\n",
    "\n",
    "```\n",
    "\n",
    "\n",
    "In the \"inputs\" section of the configuration, we have two \"spikes\" inputs types which will indicate to bmtk (or any other SONATA compliant application) to use the spike train files associated with the **virt_exc** and **virt_inh** nodes to drive input to the network.\n",
    "```json\n",
    "  \"inputs\": {\n",
    "    \"exc_spikes\": {\n",
    "      \"input_type\": \"spikes\",\n",
    "      \"module\": \"sonata\",\n",
    "      \"input_file\": \"./inputs/virt_exc_spikes.h5\",\n",
    "      \"node_set\": \"virt_exc\"\n",
    "    },\n",
    "    \"inh_spikes\": {\n",
    "      \"input_type\": \"spikes\",\n",
    "      \"module\": \"sonata\",\n",
    "      \"input_file\": \"./inputs/virt_inh_spikes.h5\",\n",
    "      \"node_set\": \"virt_inh\" \n",
    "    }\n",
    "  },\n",
    "\n",
    "```\n",
    "\n",
    "Lastly the output_dir is updated so that results are saved into the *output_syns* folder\n",
    "\n",
    "```json\n",
    "  \"output\": {\n",
    "    \"log_file\": \"log.txt\",\n",
    "    \"output_dir\": \"./output_syns\",\n",
    "    \"spikes_file\": \"spikes.h5\"\n",
    "  },\n",
    "```\n"
   ]
  },
  {
   "cell_type": "markdown",
   "metadata": {},
   "source": [
    "Finally we can run the simulation as before in the command line:\n",
    "\n",
    "```bash\n",
    "$ python run_bionet.py config.with_syns.json\n",
    "```\n",
    "\n",
    "or by running the following: "
   ]
  },
  {
   "cell_type": "code",
   "execution_count": 16,
   "metadata": {},
   "outputs": [],
   "source": [
    "# Will reset BioNet and the NEURON simulator. Required if we want\n",
    "# to run the simulator multiple times in the same notebook.\n",
    "bionet.reset()"
   ]
  },
  {
   "cell_type": "code",
   "execution_count": 17,
   "metadata": {},
   "outputs": [
    {
     "name": "stdout",
     "output_type": "stream",
     "text": [
      "2022-07-25 13:00:36,792 [INFO] Created log file\n"
     ]
    },
    {
     "name": "stderr",
     "output_type": "stream",
     "text": [
      "INFO:NEURONIOUtils:Created log file\n"
     ]
    },
    {
     "name": "stdout",
     "output_type": "stream",
     "text": [
      "2022-07-25 13:00:36,795 [WARNING] Unable to load NEURON mechanisms.\n"
     ]
    },
    {
     "name": "stderr",
     "output_type": "stream",
     "text": [
      "NEURON: The user defined name already exists: CaDynamics\n",
      " near line 0\n",
      " {create axon[2]}\n",
      "                 ^\n",
      "        nrn_load_dll(\"/home/stud...\")\n",
      "WARNING:NEURONIOUtils:Unable to load NEURON mechanisms.\n"
     ]
    },
    {
     "name": "stdout",
     "output_type": "stream",
     "text": [
      "2022-07-25 13:00:36,845 [INFO] Building cells.\n"
     ]
    },
    {
     "name": "stderr",
     "output_type": "stream",
     "text": [
      "INFO:NEURONIOUtils:Building cells.\n"
     ]
    },
    {
     "name": "stdout",
     "output_type": "stream",
     "text": [
      "2022-07-25 13:00:36,976 [INFO] Building recurrent connections\n"
     ]
    },
    {
     "name": "stderr",
     "output_type": "stream",
     "text": [
      "INFO:NEURONIOUtils:Building recurrent connections\n"
     ]
    },
    {
     "name": "stdout",
     "output_type": "stream",
     "text": [
      "2022-07-25 13:00:36,979 [INFO] Building virtual cell stimulations for virt_inh_spikes\n"
     ]
    },
    {
     "name": "stderr",
     "output_type": "stream",
     "text": [
      "INFO:NEURONIOUtils:Building virtual cell stimulations for virt_inh_spikes\n"
     ]
    },
    {
     "name": "stdout",
     "output_type": "stream",
     "text": [
      "2022-07-25 13:00:37,042 [INFO] Building virtual cell stimulations for virt_exc_spikes\n"
     ]
    },
    {
     "name": "stderr",
     "output_type": "stream",
     "text": [
      "INFO:NEURONIOUtils:Building virtual cell stimulations for virt_exc_spikes\n"
     ]
    },
    {
     "name": "stdout",
     "output_type": "stream",
     "text": [
      "2022-07-25 13:00:37,094 [INFO] Running simulation for 3000.000 ms with the time step 0.100 ms\n"
     ]
    },
    {
     "name": "stderr",
     "output_type": "stream",
     "text": [
      "INFO:NEURONIOUtils:Running simulation for 3000.000 ms with the time step 0.100 ms\n"
     ]
    },
    {
     "name": "stdout",
     "output_type": "stream",
     "text": [
      "2022-07-25 13:00:37,095 [INFO] Starting timestep: 0 at t_sim: 0.000 ms\n"
     ]
    },
    {
     "name": "stderr",
     "output_type": "stream",
     "text": [
      "INFO:NEURONIOUtils:Starting timestep: 0 at t_sim: 0.000 ms\n"
     ]
    },
    {
     "name": "stdout",
     "output_type": "stream",
     "text": [
      "2022-07-25 13:00:37,096 [INFO] Block save every 5000 steps\n"
     ]
    },
    {
     "name": "stderr",
     "output_type": "stream",
     "text": [
      "INFO:NEURONIOUtils:Block save every 5000 steps\n"
     ]
    },
    {
     "name": "stdout",
     "output_type": "stream",
     "text": [
      "2022-07-25 13:00:37,446 [INFO]     step:5000 t_sim:500.00 ms\n"
     ]
    },
    {
     "name": "stderr",
     "output_type": "stream",
     "text": [
      "INFO:NEURONIOUtils:    step:5000 t_sim:500.00 ms\n"
     ]
    },
    {
     "name": "stdout",
     "output_type": "stream",
     "text": [
      "2022-07-25 13:00:37,805 [INFO]     step:10000 t_sim:1000.00 ms\n"
     ]
    },
    {
     "name": "stderr",
     "output_type": "stream",
     "text": [
      "INFO:NEURONIOUtils:    step:10000 t_sim:1000.00 ms\n"
     ]
    },
    {
     "name": "stdout",
     "output_type": "stream",
     "text": [
      "2022-07-25 13:00:38,150 [INFO]     step:15000 t_sim:1500.00 ms\n"
     ]
    },
    {
     "name": "stderr",
     "output_type": "stream",
     "text": [
      "INFO:NEURONIOUtils:    step:15000 t_sim:1500.00 ms\n"
     ]
    },
    {
     "name": "stdout",
     "output_type": "stream",
     "text": [
      "2022-07-25 13:00:38,514 [INFO]     step:20000 t_sim:2000.00 ms\n"
     ]
    },
    {
     "name": "stderr",
     "output_type": "stream",
     "text": [
      "INFO:NEURONIOUtils:    step:20000 t_sim:2000.00 ms\n"
     ]
    },
    {
     "name": "stdout",
     "output_type": "stream",
     "text": [
      "2022-07-25 13:00:38,873 [INFO]     step:25000 t_sim:2500.00 ms\n"
     ]
    },
    {
     "name": "stderr",
     "output_type": "stream",
     "text": [
      "INFO:NEURONIOUtils:    step:25000 t_sim:2500.00 ms\n"
     ]
    },
    {
     "name": "stdout",
     "output_type": "stream",
     "text": [
      "2022-07-25 13:00:39,233 [INFO]     step:30000 t_sim:3000.00 ms\n"
     ]
    },
    {
     "name": "stderr",
     "output_type": "stream",
     "text": [
      "INFO:NEURONIOUtils:    step:30000 t_sim:3000.00 ms\n"
     ]
    },
    {
     "name": "stdout",
     "output_type": "stream",
     "text": [
      "2022-07-25 13:00:39,244 [INFO] Simulation completed in 2.15 seconds \n"
     ]
    },
    {
     "name": "stderr",
     "output_type": "stream",
     "text": [
      "INFO:NEURONIOUtils:Simulation completed in 2.15 seconds \n"
     ]
    }
   ],
   "source": [
    "from bmtk.simulator import bionet\n",
    "\n",
    "conf = bionet.Config.from_json('config.with_syns.json')\n",
    "conf.build_env()\n",
    "\n",
    "net = bionet.BioNetwork.from_config(conf)\n",
    "sim = bionet.BioSimulator.from_config(conf, network=net)\n",
    "sim.run()"
   ]
  },
  {
   "cell_type": "code",
   "execution_count": 18,
   "metadata": {},
   "outputs": [
    {
     "data": {
      "image/png": "[encoded data removed]",
      "text/plain": [
       "<Figure size 432x288 with 2 Axes>"
      ]
     },
     "metadata": {
      "needs_background": "light"
     },
     "output_type": "display_data"
    },
    {
     "data": {
      "image/png": "[encoded data removed]",
      "text/plain": [
       "<Figure size 432x288 with 1 Axes>"
      ]
     },
     "metadata": {
      "needs_background": "light"
     },
     "output_type": "display_data"
    }
   ],
   "source": [
    "from bmtk.analyzer.spike_trains import plot_raster\n",
    "from bmtk.analyzer.compartment import plot_traces\n",
    "\n",
    "_ = plot_raster(config_file='config.with_syns.json')\n",
    "_ = plot_traces(config_file='config.with_syns.json', report_name='v_report')\n"
   ]
  },
  {
   "cell_type": "markdown",
   "metadata": {},
   "source": [
    "## Up Next\n",
    "\n",
    "We have shown you the basics of building, simulating and analyzing the simplest network we can have in bmtk. Next, we will show how to scale up to a multi-cell and multi-cell-type network using the same API calls we have used, and how bmtk will handle the technical difference between simple and complex network generation and simulation, so you can focus more on the modeling.\n",
    "\n",
    "[**Proceed to Chapter 3**](../Ch3_multicells/3.%20Multipopulation%20biophysical.ipynb)\n"
   ]
  },
  {
   "cell_type": "markdown",
   "metadata": {},
   "source": [
    "## [OPTIONAL]: Reports Formats Deep Dive"
   ]
  },
  {
   "cell_type": "markdown",
   "metadata": {},
   "source": [
    "The following will provide deeper insight on the two SONATA output formats that we worked with in this tutorial: the spike train reports and the membrane potential reports. We'll quickly go over their formats, and how to read/write them using BMTK and with pure Python. For further information see the [SONATA specification](https://github.com/AllenInstitute/sonata/blob/master/docs/SONATA_DEVELOPER_GUIDE.md#output-file-formats).\n",
    "\n"
   ]
  },
  {
   "cell_type": "markdown",
   "metadata": {},
   "source": [
    "### SONATA Spike format\n",
    "\n",
    "SONATA spike files are an hdf5-based format for storing the action-potentials/spike times of cells within a network. We can use a tool like [HDFView](https://www.hdfgroup.org/downloads/hdfview/) or [ViTables](https://vitables.org/) to open up the hdf5 file and see the overview:\n",
    "\n",
    "<br>\n",
    "<div>\n",
    "  <img src=\"../images/spikes_file_h5.png\" width=\"600\" align=\"left\" style=\"margin-left:15px\"/>    \n",
    "</div>\n",
    "<br clear=\"left\">\n",
    "\n",
    "* SONATA files with spike trains will start with path /spikes/$<$population$>$/, where $<$population$>$ is the name of a population of nodes (i.e., cells). There may be more than one population in the spikes. \n",
    "* Then we have tables **node_ids** and **timestamps**, both having the same number of entries, and each row indicates a time (by default in ms from start) at which a specific node generated an action-potential.\n",
    "* The spikes and nodes may or may not be sorted. There is an optional attribute \"sorting\" which developers can use to determine if the spikes are unsorted (sorting=none), sorted by node_ids (sorting=by_id) or by time (sorting=by_time).\n",
    "\n",
    "#### Reading and Writing SONATA spikes\n",
    "\n",
    "BMTK includes a package ```bmtk.utils.reports.spike_trains.SpikeTrains``` which can be used to read and write spike-files. \n",
    "\n",
    "Here we can use it to load in the \"virt_exc_spikes.h5\" "
   ]
  },
  {
   "cell_type": "code",
   "execution_count": 19,
   "metadata": {},
   "outputs": [
    {
     "name": "stdout",
     "output_type": "stream",
     "text": [
      " populations:  ['virt_exc']\n",
      "total spikes:  1197\n",
      "    node-ids:  [ 0  1  2  3  4  5  6  7  8  9 10 11 12 13 14 15 16 17 18 19]\n",
      "\n",
      "node_id 10 spike times:  [  35.07277258   35.58062092   58.80508281  168.78515489  196.5912301\n",
      "  201.36937915  247.13673733  266.86077028  301.99439742  322.01401708\n",
      "  382.05672152  396.5506169   409.39551992  418.49746347  428.21567122\n",
      "  435.0610742   435.97578628  486.83858557  487.62495964  614.98906313\n",
      "  675.52156683  677.52611259  732.08354251  821.89151404  826.92114703\n",
      "  848.04190074  942.5049713  1240.0489211  1370.37774336 1377.14401953\n",
      " 1403.24197688 1420.26832038 1574.11116688 1577.34717218 1685.40328464\n",
      " 1708.41561548 1774.3552349  1996.71824328 2061.76997028 2146.59538778\n",
      " 2177.62256217 2356.30850965 2409.53101913 2487.46238547 2604.26127157\n",
      " 2633.65994348 2816.31917711 2818.20740993 2832.65690185 2900.73840113\n",
      " 2955.84003114]\n",
      "\n",
      "   timestamps  node_ids population\n",
      "0   18.651334         0   virt_exc\n",
      "1   68.687096         0   virt_exc\n",
      "2  128.779004         0   virt_exc\n",
      "3  180.135223         0   virt_exc\n",
      "4  306.436520         0   virt_exc\n"
     ]
    }
   ],
   "source": [
    "from bmtk.utils.reports.spike_trains import SpikeTrains\n",
    "\n",
    "spikes = SpikeTrains.load('inputs/virt_exc_spikes.h5')\n",
    "\n",
    "# Get properties of virt_exc spikes\n",
    "print(' populations: ', spikes.populations)\n",
    "print('total spikes: ', spikes.n_spikes(population='virt_exc'))\n",
    "print('    node-ids: ', spikes.node_ids(population='virt_exc'))\n",
    "print()\n",
    "\n",
    "# Get the timestamps at which node 10 fired\n",
    "print('node_id 10 spike times: ', spikes.get_times(node_id=10, population='virt_exc'))\n",
    "print()\n",
    "\n",
    "# Get spikes as a dataframe\n",
    "spikes_df = spikes.to_dataframe(population='virt_exc')\n",
    "print(spikes_df.head())\n"
   ]
  },
  {
   "cell_type": "markdown",
   "metadata": {},
   "source": [
    "If you would prefer to not use BMTK:"
   ]
  },
  {
   "cell_type": "code",
   "execution_count": 20,
   "metadata": {},
   "outputs": [
    {
     "name": "stdout",
     "output_type": "stream",
     "text": [
      "   node_ids  timestamps\n",
      "0         0   18.651334\n",
      "1         0   68.687096\n",
      "2         0  128.779004\n",
      "3         0  180.135223\n",
      "4         0  306.436520\n"
     ]
    }
   ],
   "source": [
    "import h5py\n",
    "import pandas as pd\n",
    "\n",
    "with h5py.File('inputs/virt_exc_spikes.h5', 'r') as h5:\n",
    "    spikes_df = pd.DataFrame({\n",
    "        'node_ids': h5['/spikes/virt_exc/node_ids'][()],\n",
    "        'timestamps': h5['/spikes/virt_exc/timestamps'][()]\n",
    "    })\n",
    "    print(spikes_df.head())\n",
    "    "
   ]
  },
  {
   "cell_type": "markdown",
   "metadata": {},
   "source": [
    "Writing SONATA spikes file can also be done using ```SpikeTrains```\n",
    "\n",
    "```python\n",
    "from bmtk.utils.reports.spike_trains import SpikeTrains\n",
    "\n",
    "# Create a SpikeTrains instance. We can pass in parameter \"population\" once during the construction\n",
    "#  rather than at every method call like we did above.\n",
    "spikes = SpikeTrains(population='my_pop')\n",
    "\n",
    "# We can add a single spike\n",
    "spikes.add_spike(node_id=0, timestamp=1.0)\n",
    "\n",
    "# We can add a list of spikes for a single node\n",
    "spikes.add_spikes(node_ids=0, timestamps=[2.0, 3.0, 4.0])\n",
    "\n",
    "# Or we can add multiple spikes for multiple nodes\n",
    "spikes.add_spikes(node_ids=[1, 1, 2, 3], timestamps=[0.5, 0.9, 1.0, 1.0])\n",
    "\n",
    "# We will save it to SONATA, and we can also save it to a CSV file\n",
    "spikes.to_sonata('my_pop_spikes.h5')\n",
    "spikes.to_csv('my_pop_spikes.csv')\n",
    "```"
   ]
  },
  {
   "cell_type": "markdown",
   "metadata": {},
   "source": [
    "### SONATA Compartmental report format\n",
    "\n",
    "The compartmental report (aka frame-oriented report) can be used to store membrane and intracellular variables like membrane voltage, caTium concentration, or any variable that is constantly updated at each time-step of the simulation. It can store the time-trace of the variable for one or more cells. And for multi-compartment type cell models it can store the time-traces for any or all compartments belonging to said cell.\n",
    "\n",
    "As before we can open up the file in HDFView or ViTables:\n",
    "\n",
    "<br>\n",
    "<div>\n",
    "  <img src=\"../images/compart_report_overview.png\" width=\"850\" align=\"left\" style=\"margin-left:15px\"/>    \n",
    "</div>\n",
    "<br clear=\"left\">\n",
    "\n",
    "\n",
    "* Like with spikes, we expect to see a hdf5 path starting with /report/$<$population$>$, where $<$population$>$ is the name of a population of nodes.\n",
    "* The variable traces are saved in the \"data\" table orient by $T \\times C$, where $T$ is the number of time-steps and $C$ the number of cells/compartments.\n",
    "* ./mapping/ path contains a number of different metadata we can use to better parse the \"data\" table\n",
    "  * \"time\" is a size $T$ list which contains the actual time-stamps of each step in the simulation.\n",
    "  * \"element_ids\" and \"element_pos\" are size $C$ and contain the compartment identifier plus the position in the compartment where the recording was taken.\n",
    "  * \"node_ids\" and \"index_pointer\" are used to map each compartment to its cell's node_id\n",
    "  <!-- ![](../images/segmentation_indexing.jpg) -->\n",
    "\n",
    "<br>\n",
    "<div>\n",
    "  <img src=\"../images/segmentation_indexing.jpg\" align=\"left\" style=\"margin-left:25px\"/>    \n",
    "</div>\n",
    "<br clear=\"left\">\n",
    "\n"
   ]
  },
  {
   "cell_type": "markdown",
   "metadata": {},
   "source": [
    "### Reading and Writing SONATA Compartment Reports\n",
    "\n",
    "We can use BMTK's  ```bmtk.utils.reports.compartment.CompartmentReport``` to read the data of a compartment report.\n"
   ]
  },
  {
   "cell_type": "code",
   "execution_count": 21,
   "metadata": {},
   "outputs": [
    {
     "name": "stdout",
     "output_type": "stream",
     "text": [
      "Recorded cell populations: ['cell']\n",
      "            Variable name: v\n",
      "                 node_ids: [0]\n",
      "                    times: 0.0 3000.0 0.1\n",
      "\n",
      " section_id: [0]\n",
      "section_pos: [0.5]\n",
      "          V: [[-80.03813815 -80.06109322 -80.07905331 ... -67.06382523 -66.40366205\n",
      "  -65.62609893]]\n"
     ]
    }
   ],
   "source": [
    "from bmtk.utils.reports.compartment import CompartmentReport\n",
    "\n",
    "# Open report\n",
    "vm_report = CompartmentReport.load('./output_syns/v_report.h5')\n",
    "print('Recorded cell populations:', vm_report.populations)\n",
    "print('            Variable name:', vm_report.variable(population='cell'))\n",
    "print('                 node_ids:', vm_report.node_ids(population='cell'))\n",
    "print('                    times:', vm_report.tstart(population='cell'), vm_report.tstop(population='cell'), vm_report.dt(population='cell'))\n",
    "print()\n",
    "\n",
    "# Let us find all the compartment and record positions for node 0 \n",
    "print(' section_id:', vm_report.element_ids(node_id=0, population='cell'))\n",
    "print('section_pos:', vm_report.element_pos(node_id=0, population='cell'))\n",
    "print('          V:', vm_report.data(node_id=0, population='cell').T)\n"
   ]
  },
  {
   "cell_type": "markdown",
   "metadata": {},
   "source": [
    "We can also write data to a SONATA Compartment Report."
   ]
  },
  {
   "cell_type": "code",
   "execution_count": 22,
   "metadata": {},
   "outputs": [],
   "source": [
    "import numpy as np\n",
    "from bmtk.utils.reports.compartment import CompartmentReport\n",
    "\n",
    "recorder = CompartmentReport('my_compartment_report.h5', mode='w', default_population='my_pop')\n",
    "\n",
    "# We need to first set global properties for timesteps as well as the variable name\n",
    "recorder.set_tstart(0.0)\n",
    "recorder.set_tstop(5.0)\n",
    "recorder.set_dt(1.0)\n",
    "recorder.set_variable('my_var')\n",
    "\n",
    "# First we must add information about each node/cell, including the compartments that are \n",
    "#  being recorded for each cell\n",
    "recorder.add_cell(node_id=0, element_ids=list(range(0, 10)), element_pos=[0.5]*10)\n",
    "recorder.add_cell(node_id=1, element_ids=list(range(0, 3)), element_pos=[0.5]*3)\n",
    "\n",
    "# We can record the variable at each time step\n",
    "for ts in [0, 1, 2, 3, 4]:\n",
    "    recorder.record_cell(node_id=0, vals=[0.0]*10, tstep=ts)\n",
    "\n",
    "# Or we can save it in blocks\n",
    "mdata = np.full((5, 3), fill_value=1.0)\n",
    "recorder.record_cell_block(node_id=1, vals=mdata, beg_step=0, end_step=5)\n",
    "\n",
    "recorder.close()\n"
   ]
  },
  {
   "cell_type": "code",
   "execution_count": null,
   "metadata": {},
   "outputs": [],
   "source": []
  }
 ],
 "metadata": {
  "kernelspec": {
   "display_name": "Python 3 (ipykernel)",
   "language": "python",
   "name": "python3"
  },
  "language_info": {
   "codemirror_mode": {
    "name": "ipython",
    "version": 3
   },
   "file_extension": ".py",
   "mimetype": "text/x-python",
   "name": "python",
   "nbconvert_exporter": "python",
   "pygments_lexer": "ipython3",
   "version": "3.8.13"
  }
 },
 "nbformat": 4,
 "nbformat_minor": 4
}
